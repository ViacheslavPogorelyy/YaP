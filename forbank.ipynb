{
 "cells": [
  {
   "cell_type": "markdown",
   "metadata": {},
   "source": [
    "Проанализируйте клиентов регионального банка и выделить портрет клиентов, которые склонны уходить из банка.\n",
    "\n",
    "- Проведите исследовательский анализ данных,\n",
    "- Выделите портреты клиентов, которые склонны уходить из банка,\n",
    "- Сформулируйте и проверьте статистические гипотезы.\n",
    "\n",
    "*Проверьте гипотезу различия дохода между теми клиентами, которые ушли и теми, которые остались.*\n"
   ]
  },
  {
   "cell_type": "markdown",
   "metadata": {},
   "source": [
    "# Описание данных"
   ]
  },
  {
   "cell_type": "markdown",
   "metadata": {},
   "source": [
    "Датасет содержит данные о клиентах банка «Метанпром». Банк располагается в Ярославле и областных городах: Ростов Великий и Рыбинск.\n",
    "\n",
    "Колонки:\n",
    "\n",
    "- `userid` — идентификатор пользователя,\n",
    "- `score` — баллы кредитного скоринга,\n",
    "- `City` — город,\n",
    "- `Gender` — пол,\n",
    "- `Age` — возраст,\n",
    "- `Objects` — количество объектов в собственности,\n",
    "- `Balance` — баланс на счёте,\n",
    "- `Products` — количество продуктов, которыми пользуется клиент,\n",
    "- `CreditCard` — есть ли кредитная карта,\n",
    "- `Loyalty` — активный клиент,\n",
    "- `estimated_salary` — заработная плата клиента,\n",
    "- `Churn` — ушёл или нет."
   ]
  },
  {
   "cell_type": "markdown",
   "metadata": {},
   "source": [
    "## Инструкция по выполнению проекта"
   ]
  },
  {
   "cell_type": "markdown",
   "metadata": {},
   "source": [
    "### Шаг №1. Открыть файл с данными и изучить полученную информацию. \n",
    "\n",
    "* [Файл: bank_dataset.csv.](#step1) "
   ]
  },
  {
   "cell_type": "markdown",
   "metadata": {},
   "source": [
    "### Шаг №2. Предобработка данных\n",
    "\n",
    "* [Заменить названия столбцов на удобные](#step3)  \n",
    "* [Проверить на пропуски и дубликаты. Обработать при необходимости](#step4)\n",
    "* [Проверить типы данных. Обработать при необходимости](#step2) "
   ]
  },
  {
   "cell_type": "markdown",
   "metadata": {},
   "source": [
    "### Шаг №3. Исследовательский анализ данных"
   ]
  },
  {
   "cell_type": "markdown",
   "metadata": {},
   "source": [
    "* [Разделить датасет отдельно на клиентов кто уже ушел и кто остался.](#step5) \n",
    "* [Построить графики по каждому признаку для оставшихся и ушедших клиентов.](#step6) \n",
    "* [Описать средний портрет ушедших пользователей на основе выводв из графиков.](#step7) \n",
    "* [Сравнить ушедших клиентов.](#step8) \n",
    "* [На основе полученных результатов определить сколько мы можем потерять клиентов из тех, кто остался.](#step9) "
   ]
  },
  {
   "cell_type": "markdown",
   "metadata": {},
   "source": [
    "### Шаг №4. Формулировка и проверка статистических Гипотез на основе данных\n",
    " * [Доход у ушедших и оставшихся клиентов банка одинаков?](#step10) "
   ]
  },
  {
   "cell_type": "markdown",
   "metadata": {},
   "source": [
    "### Шаг №5. Итоговый вывод\n",
    " * [Вывод и рекомендации](#step11) "
   ]
  },
  {
   "cell_type": "markdown",
   "metadata": {},
   "source": [
    "## Шаг №1. Знакомство с данными <a id=\"step1\"></a>  "
   ]
  },
  {
   "cell_type": "code",
   "execution_count": 1,
   "metadata": {},
   "outputs": [],
   "source": [
    "import pandas as pd \n",
    "import numpy as np\n",
    "import matplotlib.pyplot as plt\n",
    "import seaborn as sns \n",
    "from plotly import graph_objects as go\n",
    "from plotly.subplots import make_subplots\n",
    "from scipy import stats as st\n",
    "import math as mth\n",
    "from statsmodels.stats.multitest import multipletests\n"
   ]
  },
  {
   "cell_type": "code",
   "execution_count": 2,
   "metadata": {},
   "outputs": [],
   "source": [
    "df = pd.read_csv('bank_dataset.csv')"
   ]
  },
  {
   "cell_type": "code",
   "execution_count": 3,
   "metadata": {},
   "outputs": [
    {
     "data": {
      "text/html": [
       "<div>\n",
       "<style scoped>\n",
       "    .dataframe tbody tr th:only-of-type {\n",
       "        vertical-align: middle;\n",
       "    }\n",
       "\n",
       "    .dataframe tbody tr th {\n",
       "        vertical-align: top;\n",
       "    }\n",
       "\n",
       "    .dataframe thead th {\n",
       "        text-align: right;\n",
       "    }\n",
       "</style>\n",
       "<table border=\"1\" class=\"dataframe\">\n",
       "  <thead>\n",
       "    <tr style=\"text-align: right;\">\n",
       "      <th></th>\n",
       "      <th>userid</th>\n",
       "      <th>score</th>\n",
       "      <th>City</th>\n",
       "      <th>Gender</th>\n",
       "      <th>Age</th>\n",
       "      <th>Objects</th>\n",
       "      <th>Balance</th>\n",
       "      <th>Products</th>\n",
       "      <th>CreditCard</th>\n",
       "      <th>Loyalty</th>\n",
       "      <th>estimated_salary</th>\n",
       "      <th>Churn</th>\n",
       "    </tr>\n",
       "  </thead>\n",
       "  <tbody>\n",
       "    <tr>\n",
       "      <td>0</td>\n",
       "      <td>15677338</td>\n",
       "      <td>619</td>\n",
       "      <td>Ярославль</td>\n",
       "      <td>Ж</td>\n",
       "      <td>42</td>\n",
       "      <td>2</td>\n",
       "      <td>NaN</td>\n",
       "      <td>1</td>\n",
       "      <td>1</td>\n",
       "      <td>1</td>\n",
       "      <td>101348.88</td>\n",
       "      <td>1</td>\n",
       "    </tr>\n",
       "    <tr>\n",
       "      <td>1</td>\n",
       "      <td>15690047</td>\n",
       "      <td>608</td>\n",
       "      <td>Рыбинск</td>\n",
       "      <td>Ж</td>\n",
       "      <td>41</td>\n",
       "      <td>1</td>\n",
       "      <td>83807.86</td>\n",
       "      <td>1</td>\n",
       "      <td>0</td>\n",
       "      <td>1</td>\n",
       "      <td>112542.58</td>\n",
       "      <td>0</td>\n",
       "    </tr>\n",
       "    <tr>\n",
       "      <td>2</td>\n",
       "      <td>15662040</td>\n",
       "      <td>502</td>\n",
       "      <td>Ярославль</td>\n",
       "      <td>Ж</td>\n",
       "      <td>42</td>\n",
       "      <td>8</td>\n",
       "      <td>159660.80</td>\n",
       "      <td>3</td>\n",
       "      <td>1</td>\n",
       "      <td>0</td>\n",
       "      <td>113931.57</td>\n",
       "      <td>1</td>\n",
       "    </tr>\n",
       "    <tr>\n",
       "      <td>3</td>\n",
       "      <td>15744090</td>\n",
       "      <td>699</td>\n",
       "      <td>Ярославль</td>\n",
       "      <td>Ж</td>\n",
       "      <td>39</td>\n",
       "      <td>1</td>\n",
       "      <td>NaN</td>\n",
       "      <td>2</td>\n",
       "      <td>0</td>\n",
       "      <td>0</td>\n",
       "      <td>93826.63</td>\n",
       "      <td>0</td>\n",
       "    </tr>\n",
       "    <tr>\n",
       "      <td>4</td>\n",
       "      <td>15780624</td>\n",
       "      <td>850</td>\n",
       "      <td>Рыбинск</td>\n",
       "      <td>Ж</td>\n",
       "      <td>43</td>\n",
       "      <td>2</td>\n",
       "      <td>125510.82</td>\n",
       "      <td>1</td>\n",
       "      <td>1</td>\n",
       "      <td>1</td>\n",
       "      <td>79084.10</td>\n",
       "      <td>0</td>\n",
       "    </tr>\n",
       "    <tr>\n",
       "      <td>5</td>\n",
       "      <td>15616748</td>\n",
       "      <td>645</td>\n",
       "      <td>Рыбинск</td>\n",
       "      <td>М</td>\n",
       "      <td>44</td>\n",
       "      <td>8</td>\n",
       "      <td>113755.78</td>\n",
       "      <td>2</td>\n",
       "      <td>1</td>\n",
       "      <td>0</td>\n",
       "      <td>149756.71</td>\n",
       "      <td>1</td>\n",
       "    </tr>\n",
       "    <tr>\n",
       "      <td>6</td>\n",
       "      <td>15635267</td>\n",
       "      <td>822</td>\n",
       "      <td>Ярославль</td>\n",
       "      <td>М</td>\n",
       "      <td>50</td>\n",
       "      <td>7</td>\n",
       "      <td>NaN</td>\n",
       "      <td>2</td>\n",
       "      <td>1</td>\n",
       "      <td>1</td>\n",
       "      <td>10062.80</td>\n",
       "      <td>0</td>\n",
       "    </tr>\n",
       "    <tr>\n",
       "      <td>7</td>\n",
       "      <td>15698884</td>\n",
       "      <td>376</td>\n",
       "      <td>Ростов Великий</td>\n",
       "      <td>Ж</td>\n",
       "      <td>29</td>\n",
       "      <td>4</td>\n",
       "      <td>115046.74</td>\n",
       "      <td>4</td>\n",
       "      <td>1</td>\n",
       "      <td>0</td>\n",
       "      <td>119346.88</td>\n",
       "      <td>1</td>\n",
       "    </tr>\n",
       "    <tr>\n",
       "      <td>8</td>\n",
       "      <td>15835101</td>\n",
       "      <td>501</td>\n",
       "      <td>Ярославль</td>\n",
       "      <td>М</td>\n",
       "      <td>44</td>\n",
       "      <td>4</td>\n",
       "      <td>142051.07</td>\n",
       "      <td>2</td>\n",
       "      <td>0</td>\n",
       "      <td>1</td>\n",
       "      <td>74940.50</td>\n",
       "      <td>0</td>\n",
       "    </tr>\n",
       "    <tr>\n",
       "      <td>9</td>\n",
       "      <td>15635125</td>\n",
       "      <td>684</td>\n",
       "      <td>Ярославль</td>\n",
       "      <td>М</td>\n",
       "      <td>27</td>\n",
       "      <td>2</td>\n",
       "      <td>134603.88</td>\n",
       "      <td>1</td>\n",
       "      <td>1</td>\n",
       "      <td>1</td>\n",
       "      <td>71725.73</td>\n",
       "      <td>0</td>\n",
       "    </tr>\n",
       "  </tbody>\n",
       "</table>\n",
       "</div>"
      ],
      "text/plain": [
       "     userid  score            City Gender  Age  Objects    Balance  Products  \\\n",
       "0  15677338    619       Ярославль      Ж   42        2        NaN         1   \n",
       "1  15690047    608         Рыбинск      Ж   41        1   83807.86         1   \n",
       "2  15662040    502       Ярославль      Ж   42        8  159660.80         3   \n",
       "3  15744090    699       Ярославль      Ж   39        1        NaN         2   \n",
       "4  15780624    850         Рыбинск      Ж   43        2  125510.82         1   \n",
       "5  15616748    645         Рыбинск      М   44        8  113755.78         2   \n",
       "6  15635267    822       Ярославль      М   50        7        NaN         2   \n",
       "7  15698884    376  Ростов Великий      Ж   29        4  115046.74         4   \n",
       "8  15835101    501       Ярославль      М   44        4  142051.07         2   \n",
       "9  15635125    684       Ярославль      М   27        2  134603.88         1   \n",
       "\n",
       "   CreditCard  Loyalty  estimated_salary  Churn  \n",
       "0           1        1         101348.88      1  \n",
       "1           0        1         112542.58      0  \n",
       "2           1        0         113931.57      1  \n",
       "3           0        0          93826.63      0  \n",
       "4           1        1          79084.10      0  \n",
       "5           1        0         149756.71      1  \n",
       "6           1        1          10062.80      0  \n",
       "7           1        0         119346.88      1  \n",
       "8           0        1          74940.50      0  \n",
       "9           1        1          71725.73      0  "
      ]
     },
     "execution_count": 3,
     "metadata": {},
     "output_type": "execute_result"
    }
   ],
   "source": [
    "df.head(10)"
   ]
  },
  {
   "cell_type": "markdown",
   "metadata": {},
   "source": [
    "### Вывод:\n",
    "\n",
    "Данные загруженны и теперь можно приступать к предобработке"
   ]
  },
  {
   "cell_type": "markdown",
   "metadata": {},
   "source": [
    "## Шаг №2. Предобработка данных "
   ]
  },
  {
   "cell_type": "code",
   "execution_count": 4,
   "metadata": {
    "scrolled": true
   },
   "outputs": [
    {
     "name": "stdout",
     "output_type": "stream",
     "text": [
      "<class 'pandas.core.frame.DataFrame'>\n",
      "RangeIndex: 10000 entries, 0 to 9999\n",
      "Data columns (total 12 columns):\n",
      "userid              10000 non-null int64\n",
      "score               10000 non-null int64\n",
      "City                10000 non-null object\n",
      "Gender              10000 non-null object\n",
      "Age                 10000 non-null int64\n",
      "Objects             10000 non-null int64\n",
      "Balance             6383 non-null float64\n",
      "Products            10000 non-null int64\n",
      "CreditCard          10000 non-null int64\n",
      "Loyalty             10000 non-null int64\n",
      "estimated_salary    10000 non-null float64\n",
      "Churn               10000 non-null int64\n",
      "dtypes: float64(2), int64(8), object(2)\n",
      "memory usage: 937.6+ KB\n"
     ]
    }
   ],
   "source": [
    "df.info()"
   ]
  },
  {
   "cell_type": "markdown",
   "metadata": {},
   "source": [
    "Посмотрим все ли данные в userid - уникальные"
   ]
  },
  {
   "cell_type": "code",
   "execution_count": 206,
   "metadata": {},
   "outputs": [
    {
     "data": {
      "text/plain": [
       "10000"
      ]
     },
     "execution_count": 206,
     "metadata": {},
     "output_type": "execute_result"
    }
   ],
   "source": [
    "df['userid'].nunique()"
   ]
  },
  {
   "cell_type": "markdown",
   "metadata": {},
   "source": [
    "Приведем все названия к нижнему регистру. <a id=\"step3\"></a>  "
   ]
  },
  {
   "cell_type": "code",
   "execution_count": 207,
   "metadata": {},
   "outputs": [],
   "source": [
    "df.columns = [x.lower() for x in df.columns]"
   ]
  },
  {
   "cell_type": "markdown",
   "metadata": {},
   "source": [
    "Как показал анализ всего датасета, пропуски у нас есть только в графе `balance`. Теперь попытаемся определить, есть ли у них какая-то общая закономерность.  <a id=\"step4\"></a>"
   ]
  },
  {
   "cell_type": "code",
   "execution_count": 208,
   "metadata": {},
   "outputs": [
    {
     "data": {
      "text/html": [
       "<div>\n",
       "<style scoped>\n",
       "    .dataframe tbody tr th:only-of-type {\n",
       "        vertical-align: middle;\n",
       "    }\n",
       "\n",
       "    .dataframe tbody tr th {\n",
       "        vertical-align: top;\n",
       "    }\n",
       "\n",
       "    .dataframe thead th {\n",
       "        text-align: right;\n",
       "    }\n",
       "</style>\n",
       "<table border=\"1\" class=\"dataframe\">\n",
       "  <thead>\n",
       "    <tr style=\"text-align: right;\">\n",
       "      <th></th>\n",
       "      <th>userid</th>\n",
       "      <th>score</th>\n",
       "      <th>city</th>\n",
       "      <th>gender</th>\n",
       "      <th>age</th>\n",
       "      <th>objects</th>\n",
       "      <th>balance</th>\n",
       "      <th>products</th>\n",
       "      <th>creditcard</th>\n",
       "      <th>loyalty</th>\n",
       "      <th>estimated_salary</th>\n",
       "      <th>churn</th>\n",
       "    </tr>\n",
       "  </thead>\n",
       "  <tbody>\n",
       "    <tr>\n",
       "      <td>0</td>\n",
       "      <td>15677338</td>\n",
       "      <td>619</td>\n",
       "      <td>Ярославль</td>\n",
       "      <td>Ж</td>\n",
       "      <td>42</td>\n",
       "      <td>2</td>\n",
       "      <td>NaN</td>\n",
       "      <td>1</td>\n",
       "      <td>1</td>\n",
       "      <td>1</td>\n",
       "      <td>101348.88</td>\n",
       "      <td>1</td>\n",
       "    </tr>\n",
       "    <tr>\n",
       "      <td>3</td>\n",
       "      <td>15744090</td>\n",
       "      <td>699</td>\n",
       "      <td>Ярославль</td>\n",
       "      <td>Ж</td>\n",
       "      <td>39</td>\n",
       "      <td>1</td>\n",
       "      <td>NaN</td>\n",
       "      <td>2</td>\n",
       "      <td>0</td>\n",
       "      <td>0</td>\n",
       "      <td>93826.63</td>\n",
       "      <td>0</td>\n",
       "    </tr>\n",
       "    <tr>\n",
       "      <td>6</td>\n",
       "      <td>15635267</td>\n",
       "      <td>822</td>\n",
       "      <td>Ярославль</td>\n",
       "      <td>М</td>\n",
       "      <td>50</td>\n",
       "      <td>7</td>\n",
       "      <td>NaN</td>\n",
       "      <td>2</td>\n",
       "      <td>1</td>\n",
       "      <td>1</td>\n",
       "      <td>10062.80</td>\n",
       "      <td>0</td>\n",
       "    </tr>\n",
       "    <tr>\n",
       "      <td>11</td>\n",
       "      <td>15779909</td>\n",
       "      <td>497</td>\n",
       "      <td>Рыбинск</td>\n",
       "      <td>М</td>\n",
       "      <td>24</td>\n",
       "      <td>3</td>\n",
       "      <td>NaN</td>\n",
       "      <td>2</td>\n",
       "      <td>1</td>\n",
       "      <td>0</td>\n",
       "      <td>76390.01</td>\n",
       "      <td>0</td>\n",
       "    </tr>\n",
       "    <tr>\n",
       "      <td>12</td>\n",
       "      <td>15675000</td>\n",
       "      <td>476</td>\n",
       "      <td>Ярославль</td>\n",
       "      <td>Ж</td>\n",
       "      <td>34</td>\n",
       "      <td>10</td>\n",
       "      <td>NaN</td>\n",
       "      <td>2</td>\n",
       "      <td>1</td>\n",
       "      <td>0</td>\n",
       "      <td>26260.98</td>\n",
       "      <td>0</td>\n",
       "    </tr>\n",
       "    <tr>\n",
       "      <td>13</td>\n",
       "      <td>15734219</td>\n",
       "      <td>549</td>\n",
       "      <td>Ярославль</td>\n",
       "      <td>Ж</td>\n",
       "      <td>25</td>\n",
       "      <td>5</td>\n",
       "      <td>NaN</td>\n",
       "      <td>2</td>\n",
       "      <td>0</td>\n",
       "      <td>0</td>\n",
       "      <td>190857.79</td>\n",
       "      <td>0</td>\n",
       "    </tr>\n",
       "    <tr>\n",
       "      <td>14</td>\n",
       "      <td>15643618</td>\n",
       "      <td>635</td>\n",
       "      <td>Рыбинск</td>\n",
       "      <td>Ж</td>\n",
       "      <td>35</td>\n",
       "      <td>7</td>\n",
       "      <td>NaN</td>\n",
       "      <td>2</td>\n",
       "      <td>1</td>\n",
       "      <td>1</td>\n",
       "      <td>65951.65</td>\n",
       "      <td>0</td>\n",
       "    </tr>\n",
       "    <tr>\n",
       "      <td>17</td>\n",
       "      <td>15830954</td>\n",
       "      <td>549</td>\n",
       "      <td>Рыбинск</td>\n",
       "      <td>Ж</td>\n",
       "      <td>24</td>\n",
       "      <td>9</td>\n",
       "      <td>NaN</td>\n",
       "      <td>2</td>\n",
       "      <td>1</td>\n",
       "      <td>1</td>\n",
       "      <td>14406.41</td>\n",
       "      <td>0</td>\n",
       "    </tr>\n",
       "    <tr>\n",
       "      <td>18</td>\n",
       "      <td>15704243</td>\n",
       "      <td>587</td>\n",
       "      <td>Рыбинск</td>\n",
       "      <td>М</td>\n",
       "      <td>45</td>\n",
       "      <td>6</td>\n",
       "      <td>NaN</td>\n",
       "      <td>1</td>\n",
       "      <td>0</td>\n",
       "      <td>0</td>\n",
       "      <td>158684.81</td>\n",
       "      <td>0</td>\n",
       "    </tr>\n",
       "    <tr>\n",
       "      <td>19</td>\n",
       "      <td>15611718</td>\n",
       "      <td>726</td>\n",
       "      <td>Ярославль</td>\n",
       "      <td>Ж</td>\n",
       "      <td>24</td>\n",
       "      <td>6</td>\n",
       "      <td>NaN</td>\n",
       "      <td>2</td>\n",
       "      <td>1</td>\n",
       "      <td>1</td>\n",
       "      <td>54724.03</td>\n",
       "      <td>0</td>\n",
       "    </tr>\n",
       "    <tr>\n",
       "      <td>20</td>\n",
       "      <td>15620393</td>\n",
       "      <td>732</td>\n",
       "      <td>Ярославль</td>\n",
       "      <td>М</td>\n",
       "      <td>41</td>\n",
       "      <td>8</td>\n",
       "      <td>NaN</td>\n",
       "      <td>2</td>\n",
       "      <td>1</td>\n",
       "      <td>1</td>\n",
       "      <td>170886.17</td>\n",
       "      <td>0</td>\n",
       "    </tr>\n",
       "    <tr>\n",
       "      <td>21</td>\n",
       "      <td>15640681</td>\n",
       "      <td>636</td>\n",
       "      <td>Рыбинск</td>\n",
       "      <td>Ж</td>\n",
       "      <td>32</td>\n",
       "      <td>8</td>\n",
       "      <td>NaN</td>\n",
       "      <td>2</td>\n",
       "      <td>1</td>\n",
       "      <td>0</td>\n",
       "      <td>138555.46</td>\n",
       "      <td>0</td>\n",
       "    </tr>\n",
       "    <tr>\n",
       "      <td>22</td>\n",
       "      <td>15742045</td>\n",
       "      <td>510</td>\n",
       "      <td>Рыбинск</td>\n",
       "      <td>Ж</td>\n",
       "      <td>38</td>\n",
       "      <td>4</td>\n",
       "      <td>NaN</td>\n",
       "      <td>1</td>\n",
       "      <td>1</td>\n",
       "      <td>0</td>\n",
       "      <td>118913.53</td>\n",
       "      <td>1</td>\n",
       "    </tr>\n",
       "    <tr>\n",
       "      <td>23</td>\n",
       "      <td>15768473</td>\n",
       "      <td>669</td>\n",
       "      <td>Ярославль</td>\n",
       "      <td>М</td>\n",
       "      <td>46</td>\n",
       "      <td>3</td>\n",
       "      <td>NaN</td>\n",
       "      <td>2</td>\n",
       "      <td>0</td>\n",
       "      <td>1</td>\n",
       "      <td>8487.75</td>\n",
       "      <td>0</td>\n",
       "    </tr>\n",
       "    <tr>\n",
       "      <td>24</td>\n",
       "      <td>15667783</td>\n",
       "      <td>846</td>\n",
       "      <td>Ярославль</td>\n",
       "      <td>Ж</td>\n",
       "      <td>38</td>\n",
       "      <td>5</td>\n",
       "      <td>NaN</td>\n",
       "      <td>1</td>\n",
       "      <td>1</td>\n",
       "      <td>1</td>\n",
       "      <td>187616.16</td>\n",
       "      <td>0</td>\n",
       "    </tr>\n",
       "    <tr>\n",
       "      <td>25</td>\n",
       "      <td>15780927</td>\n",
       "      <td>577</td>\n",
       "      <td>Ярославль</td>\n",
       "      <td>М</td>\n",
       "      <td>25</td>\n",
       "      <td>3</td>\n",
       "      <td>NaN</td>\n",
       "      <td>2</td>\n",
       "      <td>0</td>\n",
       "      <td>1</td>\n",
       "      <td>124508.29</td>\n",
       "      <td>0</td>\n",
       "    </tr>\n",
       "    <tr>\n",
       "      <td>27</td>\n",
       "      <td>15743508</td>\n",
       "      <td>571</td>\n",
       "      <td>Ярославль</td>\n",
       "      <td>М</td>\n",
       "      <td>44</td>\n",
       "      <td>9</td>\n",
       "      <td>NaN</td>\n",
       "      <td>2</td>\n",
       "      <td>0</td>\n",
       "      <td>0</td>\n",
       "      <td>38433.35</td>\n",
       "      <td>0</td>\n",
       "    </tr>\n",
       "    <tr>\n",
       "      <td>30</td>\n",
       "      <td>15632211</td>\n",
       "      <td>591</td>\n",
       "      <td>Рыбинск</td>\n",
       "      <td>Ж</td>\n",
       "      <td>39</td>\n",
       "      <td>3</td>\n",
       "      <td>NaN</td>\n",
       "      <td>3</td>\n",
       "      <td>1</td>\n",
       "      <td>0</td>\n",
       "      <td>140469.38</td>\n",
       "      <td>1</td>\n",
       "    </tr>\n",
       "    <tr>\n",
       "      <td>33</td>\n",
       "      <td>15702164</td>\n",
       "      <td>520</td>\n",
       "      <td>Рыбинск</td>\n",
       "      <td>Ж</td>\n",
       "      <td>42</td>\n",
       "      <td>6</td>\n",
       "      <td>NaN</td>\n",
       "      <td>2</td>\n",
       "      <td>1</td>\n",
       "      <td>1</td>\n",
       "      <td>34410.55</td>\n",
       "      <td>0</td>\n",
       "    </tr>\n",
       "    <tr>\n",
       "      <td>34</td>\n",
       "      <td>15775699</td>\n",
       "      <td>722</td>\n",
       "      <td>Рыбинск</td>\n",
       "      <td>Ж</td>\n",
       "      <td>29</td>\n",
       "      <td>9</td>\n",
       "      <td>NaN</td>\n",
       "      <td>2</td>\n",
       "      <td>1</td>\n",
       "      <td>1</td>\n",
       "      <td>142033.07</td>\n",
       "      <td>0</td>\n",
       "    </tr>\n",
       "  </tbody>\n",
       "</table>\n",
       "</div>"
      ],
      "text/plain": [
       "      userid  score       city gender  age  objects  balance  products  \\\n",
       "0   15677338    619  Ярославль      Ж   42        2      NaN         1   \n",
       "3   15744090    699  Ярославль      Ж   39        1      NaN         2   \n",
       "6   15635267    822  Ярославль      М   50        7      NaN         2   \n",
       "11  15779909    497    Рыбинск      М   24        3      NaN         2   \n",
       "12  15675000    476  Ярославль      Ж   34       10      NaN         2   \n",
       "13  15734219    549  Ярославль      Ж   25        5      NaN         2   \n",
       "14  15643618    635    Рыбинск      Ж   35        7      NaN         2   \n",
       "17  15830954    549    Рыбинск      Ж   24        9      NaN         2   \n",
       "18  15704243    587    Рыбинск      М   45        6      NaN         1   \n",
       "19  15611718    726  Ярославль      Ж   24        6      NaN         2   \n",
       "20  15620393    732  Ярославль      М   41        8      NaN         2   \n",
       "21  15640681    636    Рыбинск      Ж   32        8      NaN         2   \n",
       "22  15742045    510    Рыбинск      Ж   38        4      NaN         1   \n",
       "23  15768473    669  Ярославль      М   46        3      NaN         2   \n",
       "24  15667783    846  Ярославль      Ж   38        5      NaN         1   \n",
       "25  15780927    577  Ярославль      М   25        3      NaN         2   \n",
       "27  15743508    571  Ярославль      М   44        9      NaN         2   \n",
       "30  15632211    591    Рыбинск      Ж   39        3      NaN         3   \n",
       "33  15702164    520    Рыбинск      Ж   42        6      NaN         2   \n",
       "34  15775699    722    Рыбинск      Ж   29        9      NaN         2   \n",
       "\n",
       "    creditcard  loyalty  estimated_salary  churn  \n",
       "0            1        1         101348.88      1  \n",
       "3            0        0          93826.63      0  \n",
       "6            1        1          10062.80      0  \n",
       "11           1        0          76390.01      0  \n",
       "12           1        0          26260.98      0  \n",
       "13           0        0         190857.79      0  \n",
       "14           1        1          65951.65      0  \n",
       "17           1        1          14406.41      0  \n",
       "18           0        0         158684.81      0  \n",
       "19           1        1          54724.03      0  \n",
       "20           1        1         170886.17      0  \n",
       "21           1        0         138555.46      0  \n",
       "22           1        0         118913.53      1  \n",
       "23           0        1           8487.75      0  \n",
       "24           1        1         187616.16      0  \n",
       "25           0        1         124508.29      0  \n",
       "27           0        0          38433.35      0  \n",
       "30           1        0         140469.38      1  \n",
       "33           1        1          34410.55      0  \n",
       "34           1        1         142033.07      0  "
      ]
     },
     "execution_count": 208,
     "metadata": {},
     "output_type": "execute_result"
    }
   ],
   "source": [
    "df[df['balance'].isnull() == True].head(20)"
   ]
  },
  {
   "cell_type": "markdown",
   "metadata": {},
   "source": [
    "Создадим сводную таблицу чтобы посмотреть как они делятся по городам. "
   ]
  },
  {
   "cell_type": "code",
   "execution_count": 209,
   "metadata": {},
   "outputs": [
    {
     "data": {
      "text/html": [
       "<div>\n",
       "<style scoped>\n",
       "    .dataframe tbody tr th:only-of-type {\n",
       "        vertical-align: middle;\n",
       "    }\n",
       "\n",
       "    .dataframe tbody tr th {\n",
       "        vertical-align: top;\n",
       "    }\n",
       "\n",
       "    .dataframe thead th {\n",
       "        text-align: right;\n",
       "    }\n",
       "</style>\n",
       "<table border=\"1\" class=\"dataframe\">\n",
       "  <thead>\n",
       "    <tr style=\"text-align: right;\">\n",
       "      <th></th>\n",
       "      <th>len</th>\n",
       "      <th>sum</th>\n",
       "    </tr>\n",
       "    <tr>\n",
       "      <th>city</th>\n",
       "      <th></th>\n",
       "      <th></th>\n",
       "    </tr>\n",
       "  </thead>\n",
       "  <tbody>\n",
       "    <tr>\n",
       "      <td>Рыбинск</td>\n",
       "      <td>1199.0</td>\n",
       "      <td>1.183516e+08</td>\n",
       "    </tr>\n",
       "    <tr>\n",
       "      <td>Ярославль</td>\n",
       "      <td>2418.0</td>\n",
       "      <td>2.396719e+08</td>\n",
       "    </tr>\n",
       "  </tbody>\n",
       "</table>\n",
       "</div>"
      ],
      "text/plain": [
       "              len           sum\n",
       "city                           \n",
       "Рыбинск    1199.0  1.183516e+08\n",
       "Ярославль  2418.0  2.396719e+08"
      ]
     },
     "execution_count": 209,
     "metadata": {},
     "output_type": "execute_result"
    }
   ],
   "source": [
    "df[df['balance'].isnull() == True].pivot_table(index = 'city',values = 'estimated_salary', aggfunc = (len, sum))"
   ]
  },
  {
   "cell_type": "markdown",
   "metadata": {},
   "source": [
    "Интересная особенность - все пропуски только по городам Рыбинск и Ярославль, по Ростову-Великому их нет. Тут у меня есть два предположения - или данные из Ярославля и Рыбинска не доехали, или там какие-то проблемы с выгрузкой. Необходимо сообщить Дата-Инженеру. "
   ]
  },
  {
   "cell_type": "markdown",
   "metadata": {},
   "source": [
    "Поскольку пропусков почти 33 процента, то мы можем пойти двумя путями: \n",
    "\n",
    "* Полностью проигнорировать пропуски заменив их какими-либо значениями(например: no-info) и вести анализ на том, что есть. Для формирования выводов данные о балансе нам не особо нужны.\n",
    "* Придумать логику замены пропущенных значений и продолжить анализ на всех данных.\n",
    " \n",
    " \n",
    "***Я считаю, что прописав хорошую логику для замены пропусков, можно этим воспользоваться для дальнейшего анализа. Для этого разделим всех клиентов на три возрастные группы, и после чего, в зависимости от пола и возраста, посчитаем медианное значение. Полученные результаты будем использовать в качестве замены.***"
   ]
  },
  {
   "cell_type": "markdown",
   "metadata": {},
   "source": [
    "Поделим возраст на три равные части"
   ]
  },
  {
   "cell_type": "code",
   "execution_count": 210,
   "metadata": {},
   "outputs": [
    {
     "data": {
      "text/plain": [
       "(17.926, 42.667]    7106\n",
       "(42.667, 67.333]    2702\n",
       "(67.333, 92.0]       192\n",
       "Name: age, dtype: int64"
      ]
     },
     "execution_count": 210,
     "metadata": {},
     "output_type": "execute_result"
    }
   ],
   "source": [
    "pd.cut(df['age'],3).value_counts()"
   ]
  },
  {
   "cell_type": "markdown",
   "metadata": {},
   "source": [
    "Как мы видим, в первой страте с 18 до 42 лет слишком много клиентов, поэтому, условно поделим всех так, до 30 лет, c 30 до 60, от 60. Для этого создадим функцию, каторая произведет категоризацию данных."
   ]
  },
  {
   "cell_type": "code",
   "execution_count": 211,
   "metadata": {},
   "outputs": [],
   "source": [
    "def age(category):\n",
    "    if category < 30:\n",
    "        return 'молодые'\n",
    "    if category >= 30 and category <= 60:\n",
    "        return 'взрослые'\n",
    "    return 'пенсионеры'\n"
   ]
  },
  {
   "cell_type": "markdown",
   "metadata": {},
   "source": [
    "Теперь применим функцию и посмотрим что у нас получилось"
   ]
  },
  {
   "cell_type": "code",
   "execution_count": 212,
   "metadata": {},
   "outputs": [],
   "source": [
    "df['category'] = df['age'].apply(age)"
   ]
  },
  {
   "cell_type": "code",
   "execution_count": 213,
   "metadata": {},
   "outputs": [
    {
     "data": {
      "text/html": [
       "<div>\n",
       "<style scoped>\n",
       "    .dataframe tbody tr th:only-of-type {\n",
       "        vertical-align: middle;\n",
       "    }\n",
       "\n",
       "    .dataframe tbody tr th {\n",
       "        vertical-align: top;\n",
       "    }\n",
       "\n",
       "    .dataframe thead th {\n",
       "        text-align: right;\n",
       "    }\n",
       "</style>\n",
       "<table border=\"1\" class=\"dataframe\">\n",
       "  <thead>\n",
       "    <tr style=\"text-align: right;\">\n",
       "      <th></th>\n",
       "      <th>userid</th>\n",
       "      <th>score</th>\n",
       "      <th>city</th>\n",
       "      <th>gender</th>\n",
       "      <th>age</th>\n",
       "      <th>objects</th>\n",
       "      <th>balance</th>\n",
       "      <th>products</th>\n",
       "      <th>creditcard</th>\n",
       "      <th>loyalty</th>\n",
       "      <th>estimated_salary</th>\n",
       "      <th>churn</th>\n",
       "      <th>category</th>\n",
       "    </tr>\n",
       "  </thead>\n",
       "  <tbody>\n",
       "    <tr>\n",
       "      <td>0</td>\n",
       "      <td>15677338</td>\n",
       "      <td>619</td>\n",
       "      <td>Ярославль</td>\n",
       "      <td>Ж</td>\n",
       "      <td>42</td>\n",
       "      <td>2</td>\n",
       "      <td>NaN</td>\n",
       "      <td>1</td>\n",
       "      <td>1</td>\n",
       "      <td>1</td>\n",
       "      <td>101348.88</td>\n",
       "      <td>1</td>\n",
       "      <td>взрослые</td>\n",
       "    </tr>\n",
       "    <tr>\n",
       "      <td>1</td>\n",
       "      <td>15690047</td>\n",
       "      <td>608</td>\n",
       "      <td>Рыбинск</td>\n",
       "      <td>Ж</td>\n",
       "      <td>41</td>\n",
       "      <td>1</td>\n",
       "      <td>83807.86</td>\n",
       "      <td>1</td>\n",
       "      <td>0</td>\n",
       "      <td>1</td>\n",
       "      <td>112542.58</td>\n",
       "      <td>0</td>\n",
       "      <td>взрослые</td>\n",
       "    </tr>\n",
       "    <tr>\n",
       "      <td>2</td>\n",
       "      <td>15662040</td>\n",
       "      <td>502</td>\n",
       "      <td>Ярославль</td>\n",
       "      <td>Ж</td>\n",
       "      <td>42</td>\n",
       "      <td>8</td>\n",
       "      <td>159660.80</td>\n",
       "      <td>3</td>\n",
       "      <td>1</td>\n",
       "      <td>0</td>\n",
       "      <td>113931.57</td>\n",
       "      <td>1</td>\n",
       "      <td>взрослые</td>\n",
       "    </tr>\n",
       "    <tr>\n",
       "      <td>3</td>\n",
       "      <td>15744090</td>\n",
       "      <td>699</td>\n",
       "      <td>Ярославль</td>\n",
       "      <td>Ж</td>\n",
       "      <td>39</td>\n",
       "      <td>1</td>\n",
       "      <td>NaN</td>\n",
       "      <td>2</td>\n",
       "      <td>0</td>\n",
       "      <td>0</td>\n",
       "      <td>93826.63</td>\n",
       "      <td>0</td>\n",
       "      <td>взрослые</td>\n",
       "    </tr>\n",
       "    <tr>\n",
       "      <td>4</td>\n",
       "      <td>15780624</td>\n",
       "      <td>850</td>\n",
       "      <td>Рыбинск</td>\n",
       "      <td>Ж</td>\n",
       "      <td>43</td>\n",
       "      <td>2</td>\n",
       "      <td>125510.82</td>\n",
       "      <td>1</td>\n",
       "      <td>1</td>\n",
       "      <td>1</td>\n",
       "      <td>79084.10</td>\n",
       "      <td>0</td>\n",
       "      <td>взрослые</td>\n",
       "    </tr>\n",
       "    <tr>\n",
       "      <td>5</td>\n",
       "      <td>15616748</td>\n",
       "      <td>645</td>\n",
       "      <td>Рыбинск</td>\n",
       "      <td>М</td>\n",
       "      <td>44</td>\n",
       "      <td>8</td>\n",
       "      <td>113755.78</td>\n",
       "      <td>2</td>\n",
       "      <td>1</td>\n",
       "      <td>0</td>\n",
       "      <td>149756.71</td>\n",
       "      <td>1</td>\n",
       "      <td>взрослые</td>\n",
       "    </tr>\n",
       "    <tr>\n",
       "      <td>6</td>\n",
       "      <td>15635267</td>\n",
       "      <td>822</td>\n",
       "      <td>Ярославль</td>\n",
       "      <td>М</td>\n",
       "      <td>50</td>\n",
       "      <td>7</td>\n",
       "      <td>NaN</td>\n",
       "      <td>2</td>\n",
       "      <td>1</td>\n",
       "      <td>1</td>\n",
       "      <td>10062.80</td>\n",
       "      <td>0</td>\n",
       "      <td>взрослые</td>\n",
       "    </tr>\n",
       "    <tr>\n",
       "      <td>7</td>\n",
       "      <td>15698884</td>\n",
       "      <td>376</td>\n",
       "      <td>Ростов Великий</td>\n",
       "      <td>Ж</td>\n",
       "      <td>29</td>\n",
       "      <td>4</td>\n",
       "      <td>115046.74</td>\n",
       "      <td>4</td>\n",
       "      <td>1</td>\n",
       "      <td>0</td>\n",
       "      <td>119346.88</td>\n",
       "      <td>1</td>\n",
       "      <td>молодые</td>\n",
       "    </tr>\n",
       "    <tr>\n",
       "      <td>8</td>\n",
       "      <td>15835101</td>\n",
       "      <td>501</td>\n",
       "      <td>Ярославль</td>\n",
       "      <td>М</td>\n",
       "      <td>44</td>\n",
       "      <td>4</td>\n",
       "      <td>142051.07</td>\n",
       "      <td>2</td>\n",
       "      <td>0</td>\n",
       "      <td>1</td>\n",
       "      <td>74940.50</td>\n",
       "      <td>0</td>\n",
       "      <td>взрослые</td>\n",
       "    </tr>\n",
       "    <tr>\n",
       "      <td>9</td>\n",
       "      <td>15635125</td>\n",
       "      <td>684</td>\n",
       "      <td>Ярославль</td>\n",
       "      <td>М</td>\n",
       "      <td>27</td>\n",
       "      <td>2</td>\n",
       "      <td>134603.88</td>\n",
       "      <td>1</td>\n",
       "      <td>1</td>\n",
       "      <td>1</td>\n",
       "      <td>71725.73</td>\n",
       "      <td>0</td>\n",
       "      <td>молодые</td>\n",
       "    </tr>\n",
       "    <tr>\n",
       "      <td>10</td>\n",
       "      <td>15810557</td>\n",
       "      <td>528</td>\n",
       "      <td>Ярославль</td>\n",
       "      <td>М</td>\n",
       "      <td>31</td>\n",
       "      <td>6</td>\n",
       "      <td>102016.72</td>\n",
       "      <td>2</td>\n",
       "      <td>0</td>\n",
       "      <td>0</td>\n",
       "      <td>80181.12</td>\n",
       "      <td>0</td>\n",
       "      <td>взрослые</td>\n",
       "    </tr>\n",
       "    <tr>\n",
       "      <td>11</td>\n",
       "      <td>15779909</td>\n",
       "      <td>497</td>\n",
       "      <td>Рыбинск</td>\n",
       "      <td>М</td>\n",
       "      <td>24</td>\n",
       "      <td>3</td>\n",
       "      <td>NaN</td>\n",
       "      <td>2</td>\n",
       "      <td>1</td>\n",
       "      <td>0</td>\n",
       "      <td>76390.01</td>\n",
       "      <td>0</td>\n",
       "      <td>молодые</td>\n",
       "    </tr>\n",
       "    <tr>\n",
       "      <td>12</td>\n",
       "      <td>15675000</td>\n",
       "      <td>476</td>\n",
       "      <td>Ярославль</td>\n",
       "      <td>Ж</td>\n",
       "      <td>34</td>\n",
       "      <td>10</td>\n",
       "      <td>NaN</td>\n",
       "      <td>2</td>\n",
       "      <td>1</td>\n",
       "      <td>0</td>\n",
       "      <td>26260.98</td>\n",
       "      <td>0</td>\n",
       "      <td>взрослые</td>\n",
       "    </tr>\n",
       "    <tr>\n",
       "      <td>13</td>\n",
       "      <td>15734219</td>\n",
       "      <td>549</td>\n",
       "      <td>Ярославль</td>\n",
       "      <td>Ж</td>\n",
       "      <td>25</td>\n",
       "      <td>5</td>\n",
       "      <td>NaN</td>\n",
       "      <td>2</td>\n",
       "      <td>0</td>\n",
       "      <td>0</td>\n",
       "      <td>190857.79</td>\n",
       "      <td>0</td>\n",
       "      <td>молодые</td>\n",
       "    </tr>\n",
       "    <tr>\n",
       "      <td>14</td>\n",
       "      <td>15643618</td>\n",
       "      <td>635</td>\n",
       "      <td>Рыбинск</td>\n",
       "      <td>Ж</td>\n",
       "      <td>35</td>\n",
       "      <td>7</td>\n",
       "      <td>NaN</td>\n",
       "      <td>2</td>\n",
       "      <td>1</td>\n",
       "      <td>1</td>\n",
       "      <td>65951.65</td>\n",
       "      <td>0</td>\n",
       "      <td>взрослые</td>\n",
       "    </tr>\n",
       "    <tr>\n",
       "      <td>15</td>\n",
       "      <td>15686702</td>\n",
       "      <td>616</td>\n",
       "      <td>Ростов Великий</td>\n",
       "      <td>М</td>\n",
       "      <td>45</td>\n",
       "      <td>3</td>\n",
       "      <td>143129.41</td>\n",
       "      <td>2</td>\n",
       "      <td>0</td>\n",
       "      <td>1</td>\n",
       "      <td>64327.26</td>\n",
       "      <td>0</td>\n",
       "      <td>взрослые</td>\n",
       "    </tr>\n",
       "    <tr>\n",
       "      <td>16</td>\n",
       "      <td>15780188</td>\n",
       "      <td>653</td>\n",
       "      <td>Ростов Великий</td>\n",
       "      <td>М</td>\n",
       "      <td>58</td>\n",
       "      <td>1</td>\n",
       "      <td>132602.88</td>\n",
       "      <td>1</td>\n",
       "      <td>1</td>\n",
       "      <td>0</td>\n",
       "      <td>5097.67</td>\n",
       "      <td>1</td>\n",
       "      <td>взрослые</td>\n",
       "    </tr>\n",
       "    <tr>\n",
       "      <td>17</td>\n",
       "      <td>15830954</td>\n",
       "      <td>549</td>\n",
       "      <td>Рыбинск</td>\n",
       "      <td>Ж</td>\n",
       "      <td>24</td>\n",
       "      <td>9</td>\n",
       "      <td>NaN</td>\n",
       "      <td>2</td>\n",
       "      <td>1</td>\n",
       "      <td>1</td>\n",
       "      <td>14406.41</td>\n",
       "      <td>0</td>\n",
       "      <td>молодые</td>\n",
       "    </tr>\n",
       "    <tr>\n",
       "      <td>18</td>\n",
       "      <td>15704243</td>\n",
       "      <td>587</td>\n",
       "      <td>Рыбинск</td>\n",
       "      <td>М</td>\n",
       "      <td>45</td>\n",
       "      <td>6</td>\n",
       "      <td>NaN</td>\n",
       "      <td>1</td>\n",
       "      <td>0</td>\n",
       "      <td>0</td>\n",
       "      <td>158684.81</td>\n",
       "      <td>0</td>\n",
       "      <td>взрослые</td>\n",
       "    </tr>\n",
       "    <tr>\n",
       "      <td>19</td>\n",
       "      <td>15611718</td>\n",
       "      <td>726</td>\n",
       "      <td>Ярославль</td>\n",
       "      <td>Ж</td>\n",
       "      <td>24</td>\n",
       "      <td>6</td>\n",
       "      <td>NaN</td>\n",
       "      <td>2</td>\n",
       "      <td>1</td>\n",
       "      <td>1</td>\n",
       "      <td>54724.03</td>\n",
       "      <td>0</td>\n",
       "      <td>молодые</td>\n",
       "    </tr>\n",
       "    <tr>\n",
       "      <td>20</td>\n",
       "      <td>15620393</td>\n",
       "      <td>732</td>\n",
       "      <td>Ярославль</td>\n",
       "      <td>М</td>\n",
       "      <td>41</td>\n",
       "      <td>8</td>\n",
       "      <td>NaN</td>\n",
       "      <td>2</td>\n",
       "      <td>1</td>\n",
       "      <td>1</td>\n",
       "      <td>170886.17</td>\n",
       "      <td>0</td>\n",
       "      <td>взрослые</td>\n",
       "    </tr>\n",
       "    <tr>\n",
       "      <td>21</td>\n",
       "      <td>15640681</td>\n",
       "      <td>636</td>\n",
       "      <td>Рыбинск</td>\n",
       "      <td>Ж</td>\n",
       "      <td>32</td>\n",
       "      <td>8</td>\n",
       "      <td>NaN</td>\n",
       "      <td>2</td>\n",
       "      <td>1</td>\n",
       "      <td>0</td>\n",
       "      <td>138555.46</td>\n",
       "      <td>0</td>\n",
       "      <td>взрослые</td>\n",
       "    </tr>\n",
       "    <tr>\n",
       "      <td>22</td>\n",
       "      <td>15742045</td>\n",
       "      <td>510</td>\n",
       "      <td>Рыбинск</td>\n",
       "      <td>Ж</td>\n",
       "      <td>38</td>\n",
       "      <td>4</td>\n",
       "      <td>NaN</td>\n",
       "      <td>1</td>\n",
       "      <td>1</td>\n",
       "      <td>0</td>\n",
       "      <td>118913.53</td>\n",
       "      <td>1</td>\n",
       "      <td>взрослые</td>\n",
       "    </tr>\n",
       "    <tr>\n",
       "      <td>23</td>\n",
       "      <td>15768473</td>\n",
       "      <td>669</td>\n",
       "      <td>Ярославль</td>\n",
       "      <td>М</td>\n",
       "      <td>46</td>\n",
       "      <td>3</td>\n",
       "      <td>NaN</td>\n",
       "      <td>2</td>\n",
       "      <td>0</td>\n",
       "      <td>1</td>\n",
       "      <td>8487.75</td>\n",
       "      <td>0</td>\n",
       "      <td>взрослые</td>\n",
       "    </tr>\n",
       "    <tr>\n",
       "      <td>24</td>\n",
       "      <td>15667783</td>\n",
       "      <td>846</td>\n",
       "      <td>Ярославль</td>\n",
       "      <td>Ж</td>\n",
       "      <td>38</td>\n",
       "      <td>5</td>\n",
       "      <td>NaN</td>\n",
       "      <td>1</td>\n",
       "      <td>1</td>\n",
       "      <td>1</td>\n",
       "      <td>187616.16</td>\n",
       "      <td>0</td>\n",
       "      <td>взрослые</td>\n",
       "    </tr>\n",
       "    <tr>\n",
       "      <td>25</td>\n",
       "      <td>15780927</td>\n",
       "      <td>577</td>\n",
       "      <td>Ярославль</td>\n",
       "      <td>М</td>\n",
       "      <td>25</td>\n",
       "      <td>3</td>\n",
       "      <td>NaN</td>\n",
       "      <td>2</td>\n",
       "      <td>0</td>\n",
       "      <td>1</td>\n",
       "      <td>124508.29</td>\n",
       "      <td>0</td>\n",
       "      <td>молодые</td>\n",
       "    </tr>\n",
       "    <tr>\n",
       "      <td>26</td>\n",
       "      <td>15779552</td>\n",
       "      <td>756</td>\n",
       "      <td>Ростов Великий</td>\n",
       "      <td>М</td>\n",
       "      <td>36</td>\n",
       "      <td>2</td>\n",
       "      <td>136815.64</td>\n",
       "      <td>1</td>\n",
       "      <td>1</td>\n",
       "      <td>1</td>\n",
       "      <td>170041.95</td>\n",
       "      <td>0</td>\n",
       "      <td>взрослые</td>\n",
       "    </tr>\n",
       "    <tr>\n",
       "      <td>27</td>\n",
       "      <td>15743508</td>\n",
       "      <td>571</td>\n",
       "      <td>Ярославль</td>\n",
       "      <td>М</td>\n",
       "      <td>44</td>\n",
       "      <td>9</td>\n",
       "      <td>NaN</td>\n",
       "      <td>2</td>\n",
       "      <td>0</td>\n",
       "      <td>0</td>\n",
       "      <td>38433.35</td>\n",
       "      <td>0</td>\n",
       "      <td>взрослые</td>\n",
       "    </tr>\n",
       "    <tr>\n",
       "      <td>28</td>\n",
       "      <td>15771429</td>\n",
       "      <td>574</td>\n",
       "      <td>Ростов Великий</td>\n",
       "      <td>Ж</td>\n",
       "      <td>43</td>\n",
       "      <td>3</td>\n",
       "      <td>141349.43</td>\n",
       "      <td>1</td>\n",
       "      <td>1</td>\n",
       "      <td>1</td>\n",
       "      <td>100187.43</td>\n",
       "      <td>0</td>\n",
       "      <td>взрослые</td>\n",
       "    </tr>\n",
       "    <tr>\n",
       "      <td>29</td>\n",
       "      <td>15699036</td>\n",
       "      <td>411</td>\n",
       "      <td>Ярославль</td>\n",
       "      <td>М</td>\n",
       "      <td>29</td>\n",
       "      <td>0</td>\n",
       "      <td>59697.17</td>\n",
       "      <td>2</td>\n",
       "      <td>1</td>\n",
       "      <td>1</td>\n",
       "      <td>53483.21</td>\n",
       "      <td>0</td>\n",
       "      <td>молодые</td>\n",
       "    </tr>\n",
       "    <tr>\n",
       "      <td>30</td>\n",
       "      <td>15632211</td>\n",
       "      <td>591</td>\n",
       "      <td>Рыбинск</td>\n",
       "      <td>Ж</td>\n",
       "      <td>39</td>\n",
       "      <td>3</td>\n",
       "      <td>NaN</td>\n",
       "      <td>3</td>\n",
       "      <td>1</td>\n",
       "      <td>0</td>\n",
       "      <td>140469.38</td>\n",
       "      <td>1</td>\n",
       "      <td>взрослые</td>\n",
       "    </tr>\n",
       "    <tr>\n",
       "      <td>31</td>\n",
       "      <td>15749288</td>\n",
       "      <td>533</td>\n",
       "      <td>Ярославль</td>\n",
       "      <td>М</td>\n",
       "      <td>36</td>\n",
       "      <td>7</td>\n",
       "      <td>85311.70</td>\n",
       "      <td>1</td>\n",
       "      <td>0</td>\n",
       "      <td>1</td>\n",
       "      <td>156731.91</td>\n",
       "      <td>0</td>\n",
       "      <td>взрослые</td>\n",
       "    </tr>\n",
       "    <tr>\n",
       "      <td>32</td>\n",
       "      <td>15792917</td>\n",
       "      <td>553</td>\n",
       "      <td>Ростов Великий</td>\n",
       "      <td>М</td>\n",
       "      <td>41</td>\n",
       "      <td>9</td>\n",
       "      <td>110112.54</td>\n",
       "      <td>2</td>\n",
       "      <td>0</td>\n",
       "      <td>0</td>\n",
       "      <td>81898.81</td>\n",
       "      <td>0</td>\n",
       "      <td>взрослые</td>\n",
       "    </tr>\n",
       "    <tr>\n",
       "      <td>33</td>\n",
       "      <td>15702164</td>\n",
       "      <td>520</td>\n",
       "      <td>Рыбинск</td>\n",
       "      <td>Ж</td>\n",
       "      <td>42</td>\n",
       "      <td>6</td>\n",
       "      <td>NaN</td>\n",
       "      <td>2</td>\n",
       "      <td>1</td>\n",
       "      <td>1</td>\n",
       "      <td>34410.55</td>\n",
       "      <td>0</td>\n",
       "      <td>взрослые</td>\n",
       "    </tr>\n",
       "    <tr>\n",
       "      <td>34</td>\n",
       "      <td>15775699</td>\n",
       "      <td>722</td>\n",
       "      <td>Рыбинск</td>\n",
       "      <td>Ж</td>\n",
       "      <td>29</td>\n",
       "      <td>9</td>\n",
       "      <td>NaN</td>\n",
       "      <td>2</td>\n",
       "      <td>1</td>\n",
       "      <td>1</td>\n",
       "      <td>142033.07</td>\n",
       "      <td>0</td>\n",
       "      <td>молодые</td>\n",
       "    </tr>\n",
       "    <tr>\n",
       "      <td>35</td>\n",
       "      <td>15836907</td>\n",
       "      <td>475</td>\n",
       "      <td>Ярославль</td>\n",
       "      <td>Ж</td>\n",
       "      <td>45</td>\n",
       "      <td>0</td>\n",
       "      <td>134264.04</td>\n",
       "      <td>1</td>\n",
       "      <td>1</td>\n",
       "      <td>0</td>\n",
       "      <td>27822.99</td>\n",
       "      <td>1</td>\n",
       "      <td>взрослые</td>\n",
       "    </tr>\n",
       "    <tr>\n",
       "      <td>36</td>\n",
       "      <td>15831184</td>\n",
       "      <td>490</td>\n",
       "      <td>Рыбинск</td>\n",
       "      <td>М</td>\n",
       "      <td>31</td>\n",
       "      <td>3</td>\n",
       "      <td>145260.23</td>\n",
       "      <td>1</td>\n",
       "      <td>0</td>\n",
       "      <td>1</td>\n",
       "      <td>114066.77</td>\n",
       "      <td>0</td>\n",
       "      <td>взрослые</td>\n",
       "    </tr>\n",
       "    <tr>\n",
       "      <td>37</td>\n",
       "      <td>15772335</td>\n",
       "      <td>804</td>\n",
       "      <td>Рыбинск</td>\n",
       "      <td>М</td>\n",
       "      <td>33</td>\n",
       "      <td>7</td>\n",
       "      <td>76548.60</td>\n",
       "      <td>1</td>\n",
       "      <td>0</td>\n",
       "      <td>1</td>\n",
       "      <td>98453.45</td>\n",
       "      <td>0</td>\n",
       "      <td>взрослые</td>\n",
       "    </tr>\n",
       "    <tr>\n",
       "      <td>38</td>\n",
       "      <td>15760162</td>\n",
       "      <td>850</td>\n",
       "      <td>Ярославль</td>\n",
       "      <td>М</td>\n",
       "      <td>36</td>\n",
       "      <td>7</td>\n",
       "      <td>NaN</td>\n",
       "      <td>1</td>\n",
       "      <td>1</td>\n",
       "      <td>1</td>\n",
       "      <td>40812.90</td>\n",
       "      <td>0</td>\n",
       "      <td>взрослые</td>\n",
       "    </tr>\n",
       "    <tr>\n",
       "      <td>39</td>\n",
       "      <td>15628504</td>\n",
       "      <td>582</td>\n",
       "      <td>Ростов Великий</td>\n",
       "      <td>М</td>\n",
       "      <td>41</td>\n",
       "      <td>6</td>\n",
       "      <td>70349.48</td>\n",
       "      <td>2</td>\n",
       "      <td>0</td>\n",
       "      <td>1</td>\n",
       "      <td>178074.04</td>\n",
       "      <td>0</td>\n",
       "      <td>взрослые</td>\n",
       "    </tr>\n",
       "    <tr>\n",
       "      <td>40</td>\n",
       "      <td>15662096</td>\n",
       "      <td>472</td>\n",
       "      <td>Рыбинск</td>\n",
       "      <td>М</td>\n",
       "      <td>40</td>\n",
       "      <td>4</td>\n",
       "      <td>NaN</td>\n",
       "      <td>1</td>\n",
       "      <td>1</td>\n",
       "      <td>0</td>\n",
       "      <td>70154.22</td>\n",
       "      <td>0</td>\n",
       "      <td>взрослые</td>\n",
       "    </tr>\n",
       "    <tr>\n",
       "      <td>41</td>\n",
       "      <td>15780884</td>\n",
       "      <td>465</td>\n",
       "      <td>Ярославль</td>\n",
       "      <td>Ж</td>\n",
       "      <td>51</td>\n",
       "      <td>8</td>\n",
       "      <td>122522.32</td>\n",
       "      <td>1</td>\n",
       "      <td>0</td>\n",
       "      <td>0</td>\n",
       "      <td>181297.65</td>\n",
       "      <td>1</td>\n",
       "      <td>взрослые</td>\n",
       "    </tr>\n",
       "    <tr>\n",
       "      <td>42</td>\n",
       "      <td>15730682</td>\n",
       "      <td>556</td>\n",
       "      <td>Ярославль</td>\n",
       "      <td>Ж</td>\n",
       "      <td>61</td>\n",
       "      <td>2</td>\n",
       "      <td>117419.35</td>\n",
       "      <td>1</td>\n",
       "      <td>1</td>\n",
       "      <td>1</td>\n",
       "      <td>94153.83</td>\n",
       "      <td>0</td>\n",
       "      <td>пенсионеры</td>\n",
       "    </tr>\n",
       "    <tr>\n",
       "      <td>43</td>\n",
       "      <td>15797932</td>\n",
       "      <td>834</td>\n",
       "      <td>Ярославль</td>\n",
       "      <td>Ж</td>\n",
       "      <td>49</td>\n",
       "      <td>2</td>\n",
       "      <td>131394.56</td>\n",
       "      <td>1</td>\n",
       "      <td>0</td>\n",
       "      <td>0</td>\n",
       "      <td>194365.76</td>\n",
       "      <td>1</td>\n",
       "      <td>взрослые</td>\n",
       "    </tr>\n",
       "    <tr>\n",
       "      <td>44</td>\n",
       "      <td>15726907</td>\n",
       "      <td>660</td>\n",
       "      <td>Рыбинск</td>\n",
       "      <td>Ж</td>\n",
       "      <td>61</td>\n",
       "      <td>5</td>\n",
       "      <td>155931.11</td>\n",
       "      <td>1</td>\n",
       "      <td>1</td>\n",
       "      <td>1</td>\n",
       "      <td>158338.39</td>\n",
       "      <td>0</td>\n",
       "      <td>пенсионеры</td>\n",
       "    </tr>\n",
       "    <tr>\n",
       "      <td>45</td>\n",
       "      <td>15797585</td>\n",
       "      <td>776</td>\n",
       "      <td>Ростов Великий</td>\n",
       "      <td>Ж</td>\n",
       "      <td>32</td>\n",
       "      <td>4</td>\n",
       "      <td>109421.13</td>\n",
       "      <td>2</td>\n",
       "      <td>1</td>\n",
       "      <td>1</td>\n",
       "      <td>126517.46</td>\n",
       "      <td>0</td>\n",
       "      <td>взрослые</td>\n",
       "    </tr>\n",
       "    <tr>\n",
       "      <td>46</td>\n",
       "      <td>15645016</td>\n",
       "      <td>829</td>\n",
       "      <td>Ростов Великий</td>\n",
       "      <td>Ж</td>\n",
       "      <td>27</td>\n",
       "      <td>9</td>\n",
       "      <td>112045.67</td>\n",
       "      <td>1</td>\n",
       "      <td>1</td>\n",
       "      <td>1</td>\n",
       "      <td>119708.21</td>\n",
       "      <td>1</td>\n",
       "      <td>молодые</td>\n",
       "    </tr>\n",
       "    <tr>\n",
       "      <td>47</td>\n",
       "      <td>15814309</td>\n",
       "      <td>637</td>\n",
       "      <td>Ростов Великий</td>\n",
       "      <td>Ж</td>\n",
       "      <td>39</td>\n",
       "      <td>9</td>\n",
       "      <td>137843.80</td>\n",
       "      <td>1</td>\n",
       "      <td>1</td>\n",
       "      <td>1</td>\n",
       "      <td>117622.80</td>\n",
       "      <td>1</td>\n",
       "      <td>взрослые</td>\n",
       "    </tr>\n",
       "    <tr>\n",
       "      <td>48</td>\n",
       "      <td>15808941</td>\n",
       "      <td>550</td>\n",
       "      <td>Ростов Великий</td>\n",
       "      <td>М</td>\n",
       "      <td>38</td>\n",
       "      <td>2</td>\n",
       "      <td>103391.38</td>\n",
       "      <td>1</td>\n",
       "      <td>0</td>\n",
       "      <td>1</td>\n",
       "      <td>90878.13</td>\n",
       "      <td>0</td>\n",
       "      <td>взрослые</td>\n",
       "    </tr>\n",
       "    <tr>\n",
       "      <td>49</td>\n",
       "      <td>15814609</td>\n",
       "      <td>776</td>\n",
       "      <td>Ростов Великий</td>\n",
       "      <td>Ж</td>\n",
       "      <td>37</td>\n",
       "      <td>2</td>\n",
       "      <td>103769.22</td>\n",
       "      <td>2</td>\n",
       "      <td>1</td>\n",
       "      <td>0</td>\n",
       "      <td>194099.12</td>\n",
       "      <td>0</td>\n",
       "      <td>взрослые</td>\n",
       "    </tr>\n",
       "  </tbody>\n",
       "</table>\n",
       "</div>"
      ],
      "text/plain": [
       "      userid  score            city gender  age  objects    balance  products  \\\n",
       "0   15677338    619       Ярославль      Ж   42        2        NaN         1   \n",
       "1   15690047    608         Рыбинск      Ж   41        1   83807.86         1   \n",
       "2   15662040    502       Ярославль      Ж   42        8  159660.80         3   \n",
       "3   15744090    699       Ярославль      Ж   39        1        NaN         2   \n",
       "4   15780624    850         Рыбинск      Ж   43        2  125510.82         1   \n",
       "5   15616748    645         Рыбинск      М   44        8  113755.78         2   \n",
       "6   15635267    822       Ярославль      М   50        7        NaN         2   \n",
       "7   15698884    376  Ростов Великий      Ж   29        4  115046.74         4   \n",
       "8   15835101    501       Ярославль      М   44        4  142051.07         2   \n",
       "9   15635125    684       Ярославль      М   27        2  134603.88         1   \n",
       "10  15810557    528       Ярославль      М   31        6  102016.72         2   \n",
       "11  15779909    497         Рыбинск      М   24        3        NaN         2   \n",
       "12  15675000    476       Ярославль      Ж   34       10        NaN         2   \n",
       "13  15734219    549       Ярославль      Ж   25        5        NaN         2   \n",
       "14  15643618    635         Рыбинск      Ж   35        7        NaN         2   \n",
       "15  15686702    616  Ростов Великий      М   45        3  143129.41         2   \n",
       "16  15780188    653  Ростов Великий      М   58        1  132602.88         1   \n",
       "17  15830954    549         Рыбинск      Ж   24        9        NaN         2   \n",
       "18  15704243    587         Рыбинск      М   45        6        NaN         1   \n",
       "19  15611718    726       Ярославль      Ж   24        6        NaN         2   \n",
       "20  15620393    732       Ярославль      М   41        8        NaN         2   \n",
       "21  15640681    636         Рыбинск      Ж   32        8        NaN         2   \n",
       "22  15742045    510         Рыбинск      Ж   38        4        NaN         1   \n",
       "23  15768473    669       Ярославль      М   46        3        NaN         2   \n",
       "24  15667783    846       Ярославль      Ж   38        5        NaN         1   \n",
       "25  15780927    577       Ярославль      М   25        3        NaN         2   \n",
       "26  15779552    756  Ростов Великий      М   36        2  136815.64         1   \n",
       "27  15743508    571       Ярославль      М   44        9        NaN         2   \n",
       "28  15771429    574  Ростов Великий      Ж   43        3  141349.43         1   \n",
       "29  15699036    411       Ярославль      М   29        0   59697.17         2   \n",
       "30  15632211    591         Рыбинск      Ж   39        3        NaN         3   \n",
       "31  15749288    533       Ярославль      М   36        7   85311.70         1   \n",
       "32  15792917    553  Ростов Великий      М   41        9  110112.54         2   \n",
       "33  15702164    520         Рыбинск      Ж   42        6        NaN         2   \n",
       "34  15775699    722         Рыбинск      Ж   29        9        NaN         2   \n",
       "35  15836907    475       Ярославль      Ж   45        0  134264.04         1   \n",
       "36  15831184    490         Рыбинск      М   31        3  145260.23         1   \n",
       "37  15772335    804         Рыбинск      М   33        7   76548.60         1   \n",
       "38  15760162    850       Ярославль      М   36        7        NaN         1   \n",
       "39  15628504    582  Ростов Великий      М   41        6   70349.48         2   \n",
       "40  15662096    472         Рыбинск      М   40        4        NaN         1   \n",
       "41  15780884    465       Ярославль      Ж   51        8  122522.32         1   \n",
       "42  15730682    556       Ярославль      Ж   61        2  117419.35         1   \n",
       "43  15797932    834       Ярославль      Ж   49        2  131394.56         1   \n",
       "44  15726907    660         Рыбинск      Ж   61        5  155931.11         1   \n",
       "45  15797585    776  Ростов Великий      Ж   32        4  109421.13         2   \n",
       "46  15645016    829  Ростов Великий      Ж   27        9  112045.67         1   \n",
       "47  15814309    637  Ростов Великий      Ж   39        9  137843.80         1   \n",
       "48  15808941    550  Ростов Великий      М   38        2  103391.38         1   \n",
       "49  15814609    776  Ростов Великий      Ж   37        2  103769.22         2   \n",
       "\n",
       "    creditcard  loyalty  estimated_salary  churn    category  \n",
       "0            1        1         101348.88      1    взрослые  \n",
       "1            0        1         112542.58      0    взрослые  \n",
       "2            1        0         113931.57      1    взрослые  \n",
       "3            0        0          93826.63      0    взрослые  \n",
       "4            1        1          79084.10      0    взрослые  \n",
       "5            1        0         149756.71      1    взрослые  \n",
       "6            1        1          10062.80      0    взрослые  \n",
       "7            1        0         119346.88      1     молодые  \n",
       "8            0        1          74940.50      0    взрослые  \n",
       "9            1        1          71725.73      0     молодые  \n",
       "10           0        0          80181.12      0    взрослые  \n",
       "11           1        0          76390.01      0     молодые  \n",
       "12           1        0          26260.98      0    взрослые  \n",
       "13           0        0         190857.79      0     молодые  \n",
       "14           1        1          65951.65      0    взрослые  \n",
       "15           0        1          64327.26      0    взрослые  \n",
       "16           1        0           5097.67      1    взрослые  \n",
       "17           1        1          14406.41      0     молодые  \n",
       "18           0        0         158684.81      0    взрослые  \n",
       "19           1        1          54724.03      0     молодые  \n",
       "20           1        1         170886.17      0    взрослые  \n",
       "21           1        0         138555.46      0    взрослые  \n",
       "22           1        0         118913.53      1    взрослые  \n",
       "23           0        1           8487.75      0    взрослые  \n",
       "24           1        1         187616.16      0    взрослые  \n",
       "25           0        1         124508.29      0     молодые  \n",
       "26           1        1         170041.95      0    взрослые  \n",
       "27           0        0          38433.35      0    взрослые  \n",
       "28           1        1         100187.43      0    взрослые  \n",
       "29           1        1          53483.21      0     молодые  \n",
       "30           1        0         140469.38      1    взрослые  \n",
       "31           0        1         156731.91      0    взрослые  \n",
       "32           0        0          81898.81      0    взрослые  \n",
       "33           1        1          34410.55      0    взрослые  \n",
       "34           1        1         142033.07      0     молодые  \n",
       "35           1        0          27822.99      1    взрослые  \n",
       "36           0        1         114066.77      0    взрослые  \n",
       "37           0        1          98453.45      0    взрослые  \n",
       "38           1        1          40812.90      0    взрослые  \n",
       "39           0        1         178074.04      0    взрослые  \n",
       "40           1        0          70154.22      0    взрослые  \n",
       "41           0        0         181297.65      1    взрослые  \n",
       "42           1        1          94153.83      0  пенсионеры  \n",
       "43           0        0         194365.76      1    взрослые  \n",
       "44           1        1         158338.39      0  пенсионеры  \n",
       "45           1        1         126517.46      0    взрослые  \n",
       "46           1        1         119708.21      1     молодые  \n",
       "47           1        1         117622.80      1    взрослые  \n",
       "48           0        1          90878.13      0    взрослые  \n",
       "49           1        0         194099.12      0    взрослые  "
      ]
     },
     "execution_count": 213,
     "metadata": {},
     "output_type": "execute_result"
    }
   ],
   "source": [
    "df.head(50)"
   ]
  },
  {
   "cell_type": "markdown",
   "metadata": {},
   "source": [
    "При помощи сводной таблицы поделим возрастные категории по гендерному признаку и зададим переменные, соответсвующие значениям."
   ]
  },
  {
   "cell_type": "code",
   "execution_count": 214,
   "metadata": {},
   "outputs": [],
   "source": [
    "age_gender = df.pivot_table(index = 'category', values = 'balance', columns = ('gender'), aggfunc = 'median')"
   ]
  },
  {
   "cell_type": "code",
   "execution_count": 215,
   "metadata": {},
   "outputs": [
    {
     "data": {
      "text/html": [
       "<div>\n",
       "<style scoped>\n",
       "    .dataframe tbody tr th:only-of-type {\n",
       "        vertical-align: middle;\n",
       "    }\n",
       "\n",
       "    .dataframe tbody tr th {\n",
       "        vertical-align: top;\n",
       "    }\n",
       "\n",
       "    .dataframe thead th {\n",
       "        text-align: right;\n",
       "    }\n",
       "</style>\n",
       "<table border=\"1\" class=\"dataframe\">\n",
       "  <thead>\n",
       "    <tr style=\"text-align: right;\">\n",
       "      <th>gender</th>\n",
       "      <th>Ж</th>\n",
       "      <th>М</th>\n",
       "    </tr>\n",
       "    <tr>\n",
       "      <th>category</th>\n",
       "      <th></th>\n",
       "      <th></th>\n",
       "    </tr>\n",
       "  </thead>\n",
       "  <tbody>\n",
       "    <tr>\n",
       "      <td>взрослые</td>\n",
       "      <td>119338.81</td>\n",
       "      <td>120022.92</td>\n",
       "    </tr>\n",
       "    <tr>\n",
       "      <td>молодые</td>\n",
       "      <td>115265.14</td>\n",
       "      <td>123374.46</td>\n",
       "    </tr>\n",
       "    <tr>\n",
       "      <td>пенсионеры</td>\n",
       "      <td>121211.43</td>\n",
       "      <td>120100.41</td>\n",
       "    </tr>\n",
       "  </tbody>\n",
       "</table>\n",
       "</div>"
      ],
      "text/plain": [
       "gender              Ж          М\n",
       "category                        \n",
       "взрослые    119338.81  120022.92\n",
       "молодые     115265.14  123374.46\n",
       "пенсионеры  121211.43  120100.41"
      ]
     },
     "execution_count": 215,
     "metadata": {},
     "output_type": "execute_result"
    }
   ],
   "source": [
    "age_gender"
   ]
  },
  {
   "cell_type": "code",
   "execution_count": 216,
   "metadata": {},
   "outputs": [],
   "source": [
    "adult_man = age_gender['М'][0]\n",
    "young_man = age_gender['М'][1]\n",
    "old_man = age_gender['М'][2]"
   ]
  },
  {
   "cell_type": "code",
   "execution_count": 217,
   "metadata": {},
   "outputs": [],
   "source": [
    "adult_woman = age_gender['Ж'][0]\n",
    "young_woman = age_gender['Ж'][1]\n",
    "old_woman = age_gender['Ж'][2]"
   ]
  },
  {
   "cell_type": "markdown",
   "metadata": {},
   "source": [
    "Теперь создадим функцию, которая будет проверять каждого клиента по заданным условиям и результат сохранять в список."
   ]
  },
  {
   "cell_type": "code",
   "execution_count": 218,
   "metadata": {},
   "outputs": [],
   "source": [
    "t = df['gender']\n",
    "k = df['category']\n",
    "g = []\n",
    "for i in range(len(k)):\n",
    "    if t[i] == 'М'and k[i] == 'взрослые':\n",
    "        g.append(adult_man)\n",
    "    if t[i] == 'М'and k[i] == 'молодые':\n",
    "        g.append(young_man)\n",
    "    if t[i] == 'М'and k[i] == 'пенсионеры':\n",
    "        g.append(old_man)\n",
    "    if t[i] == 'Ж' and k[i] == 'взрослые':\n",
    "        g.append(adult_woman)\n",
    "    if t[i] == 'Ж'and k[i] == 'молодые':\n",
    "        g.append(young_woman)\n",
    "    if t[i] == 'Ж'and k[i] == 'пенсионеры':\n",
    "        g.append(old_woman)\n",
    "    "
   ]
  },
  {
   "cell_type": "code",
   "execution_count": 219,
   "metadata": {},
   "outputs": [],
   "source": [
    "df['new'] = pd.Series(g)"
   ]
  },
  {
   "cell_type": "code",
   "execution_count": 220,
   "metadata": {
    "scrolled": false
   },
   "outputs": [
    {
     "data": {
      "text/html": [
       "<div>\n",
       "<style scoped>\n",
       "    .dataframe tbody tr th:only-of-type {\n",
       "        vertical-align: middle;\n",
       "    }\n",
       "\n",
       "    .dataframe tbody tr th {\n",
       "        vertical-align: top;\n",
       "    }\n",
       "\n",
       "    .dataframe thead th {\n",
       "        text-align: right;\n",
       "    }\n",
       "</style>\n",
       "<table border=\"1\" class=\"dataframe\">\n",
       "  <thead>\n",
       "    <tr style=\"text-align: right;\">\n",
       "      <th></th>\n",
       "      <th>userid</th>\n",
       "      <th>score</th>\n",
       "      <th>city</th>\n",
       "      <th>gender</th>\n",
       "      <th>age</th>\n",
       "      <th>objects</th>\n",
       "      <th>balance</th>\n",
       "      <th>products</th>\n",
       "      <th>creditcard</th>\n",
       "      <th>loyalty</th>\n",
       "      <th>estimated_salary</th>\n",
       "      <th>churn</th>\n",
       "      <th>category</th>\n",
       "      <th>new</th>\n",
       "    </tr>\n",
       "  </thead>\n",
       "  <tbody>\n",
       "    <tr>\n",
       "      <td>1293</td>\n",
       "      <td>15730488</td>\n",
       "      <td>641</td>\n",
       "      <td>Ярославль</td>\n",
       "      <td>М</td>\n",
       "      <td>30</td>\n",
       "      <td>2</td>\n",
       "      <td>87505.47</td>\n",
       "      <td>2</td>\n",
       "      <td>0</td>\n",
       "      <td>1</td>\n",
       "      <td>7278.57</td>\n",
       "      <td>0</td>\n",
       "      <td>взрослые</td>\n",
       "      <td>120022.92</td>\n",
       "    </tr>\n",
       "    <tr>\n",
       "      <td>3714</td>\n",
       "      <td>15858164</td>\n",
       "      <td>823</td>\n",
       "      <td>Ярославль</td>\n",
       "      <td>М</td>\n",
       "      <td>34</td>\n",
       "      <td>3</td>\n",
       "      <td>105057.33</td>\n",
       "      <td>1</td>\n",
       "      <td>1</td>\n",
       "      <td>0</td>\n",
       "      <td>9217.92</td>\n",
       "      <td>0</td>\n",
       "      <td>взрослые</td>\n",
       "      <td>120022.92</td>\n",
       "    </tr>\n",
       "    <tr>\n",
       "      <td>4854</td>\n",
       "      <td>15616807</td>\n",
       "      <td>706</td>\n",
       "      <td>Ростов Великий</td>\n",
       "      <td>М</td>\n",
       "      <td>23</td>\n",
       "      <td>2</td>\n",
       "      <td>93301.97</td>\n",
       "      <td>2</td>\n",
       "      <td>0</td>\n",
       "      <td>1</td>\n",
       "      <td>127187.04</td>\n",
       "      <td>0</td>\n",
       "      <td>молодые</td>\n",
       "      <td>123374.46</td>\n",
       "    </tr>\n",
       "    <tr>\n",
       "      <td>5627</td>\n",
       "      <td>15737910</td>\n",
       "      <td>654</td>\n",
       "      <td>Ярославль</td>\n",
       "      <td>М</td>\n",
       "      <td>29</td>\n",
       "      <td>4</td>\n",
       "      <td>132954.64</td>\n",
       "      <td>1</td>\n",
       "      <td>1</td>\n",
       "      <td>1</td>\n",
       "      <td>146715.07</td>\n",
       "      <td>0</td>\n",
       "      <td>молодые</td>\n",
       "      <td>123374.46</td>\n",
       "    </tr>\n",
       "    <tr>\n",
       "      <td>2271</td>\n",
       "      <td>15746324</td>\n",
       "      <td>665</td>\n",
       "      <td>Ростов Великий</td>\n",
       "      <td>М</td>\n",
       "      <td>25</td>\n",
       "      <td>5</td>\n",
       "      <td>153611.83</td>\n",
       "      <td>2</td>\n",
       "      <td>1</td>\n",
       "      <td>0</td>\n",
       "      <td>35321.65</td>\n",
       "      <td>0</td>\n",
       "      <td>молодые</td>\n",
       "      <td>123374.46</td>\n",
       "    </tr>\n",
       "    <tr>\n",
       "      <td>3076</td>\n",
       "      <td>15626850</td>\n",
       "      <td>678</td>\n",
       "      <td>Ростов Великий</td>\n",
       "      <td>Ж</td>\n",
       "      <td>43</td>\n",
       "      <td>2</td>\n",
       "      <td>153393.18</td>\n",
       "      <td>2</td>\n",
       "      <td>1</td>\n",
       "      <td>1</td>\n",
       "      <td>193828.27</td>\n",
       "      <td>0</td>\n",
       "      <td>взрослые</td>\n",
       "      <td>119338.81</td>\n",
       "    </tr>\n",
       "    <tr>\n",
       "      <td>2870</td>\n",
       "      <td>15693829</td>\n",
       "      <td>707</td>\n",
       "      <td>Ярославль</td>\n",
       "      <td>Ж</td>\n",
       "      <td>55</td>\n",
       "      <td>1</td>\n",
       "      <td>NaN</td>\n",
       "      <td>2</td>\n",
       "      <td>0</td>\n",
       "      <td>1</td>\n",
       "      <td>54409.48</td>\n",
       "      <td>0</td>\n",
       "      <td>взрослые</td>\n",
       "      <td>119338.81</td>\n",
       "    </tr>\n",
       "    <tr>\n",
       "      <td>4438</td>\n",
       "      <td>15626586</td>\n",
       "      <td>672</td>\n",
       "      <td>Ростов Великий</td>\n",
       "      <td>М</td>\n",
       "      <td>68</td>\n",
       "      <td>0</td>\n",
       "      <td>126061.51</td>\n",
       "      <td>2</td>\n",
       "      <td>1</td>\n",
       "      <td>1</td>\n",
       "      <td>184936.77</td>\n",
       "      <td>0</td>\n",
       "      <td>пенсионеры</td>\n",
       "      <td>120100.41</td>\n",
       "    </tr>\n",
       "    <tr>\n",
       "      <td>428</td>\n",
       "      <td>15619049</td>\n",
       "      <td>486</td>\n",
       "      <td>Ростов Великий</td>\n",
       "      <td>Ж</td>\n",
       "      <td>40</td>\n",
       "      <td>9</td>\n",
       "      <td>71340.09</td>\n",
       "      <td>1</td>\n",
       "      <td>1</td>\n",
       "      <td>0</td>\n",
       "      <td>76192.21</td>\n",
       "      <td>0</td>\n",
       "      <td>взрослые</td>\n",
       "      <td>119338.81</td>\n",
       "    </tr>\n",
       "    <tr>\n",
       "      <td>6230</td>\n",
       "      <td>15659690</td>\n",
       "      <td>592</td>\n",
       "      <td>Ярославль</td>\n",
       "      <td>М</td>\n",
       "      <td>71</td>\n",
       "      <td>4</td>\n",
       "      <td>NaN</td>\n",
       "      <td>2</td>\n",
       "      <td>0</td>\n",
       "      <td>1</td>\n",
       "      <td>17013.54</td>\n",
       "      <td>0</td>\n",
       "      <td>пенсионеры</td>\n",
       "      <td>120100.41</td>\n",
       "    </tr>\n",
       "    <tr>\n",
       "      <td>2326</td>\n",
       "      <td>15805720</td>\n",
       "      <td>648</td>\n",
       "      <td>Рыбинск</td>\n",
       "      <td>М</td>\n",
       "      <td>35</td>\n",
       "      <td>7</td>\n",
       "      <td>NaN</td>\n",
       "      <td>2</td>\n",
       "      <td>0</td>\n",
       "      <td>0</td>\n",
       "      <td>122899.01</td>\n",
       "      <td>0</td>\n",
       "      <td>взрослые</td>\n",
       "      <td>120022.92</td>\n",
       "    </tr>\n",
       "    <tr>\n",
       "      <td>5264</td>\n",
       "      <td>15734553</td>\n",
       "      <td>547</td>\n",
       "      <td>Рыбинск</td>\n",
       "      <td>Ж</td>\n",
       "      <td>44</td>\n",
       "      <td>5</td>\n",
       "      <td>NaN</td>\n",
       "      <td>3</td>\n",
       "      <td>0</td>\n",
       "      <td>0</td>\n",
       "      <td>5459.07</td>\n",
       "      <td>1</td>\n",
       "      <td>взрослые</td>\n",
       "      <td>119338.81</td>\n",
       "    </tr>\n",
       "    <tr>\n",
       "      <td>9253</td>\n",
       "      <td>15710057</td>\n",
       "      <td>644</td>\n",
       "      <td>Рыбинск</td>\n",
       "      <td>М</td>\n",
       "      <td>49</td>\n",
       "      <td>10</td>\n",
       "      <td>NaN</td>\n",
       "      <td>2</td>\n",
       "      <td>1</td>\n",
       "      <td>1</td>\n",
       "      <td>145089.64</td>\n",
       "      <td>0</td>\n",
       "      <td>взрослые</td>\n",
       "      <td>120022.92</td>\n",
       "    </tr>\n",
       "    <tr>\n",
       "      <td>5132</td>\n",
       "      <td>15622562</td>\n",
       "      <td>439</td>\n",
       "      <td>Ярославль</td>\n",
       "      <td>Ж</td>\n",
       "      <td>66</td>\n",
       "      <td>9</td>\n",
       "      <td>NaN</td>\n",
       "      <td>1</td>\n",
       "      <td>1</td>\n",
       "      <td>0</td>\n",
       "      <td>65535.56</td>\n",
       "      <td>0</td>\n",
       "      <td>пенсионеры</td>\n",
       "      <td>121211.43</td>\n",
       "    </tr>\n",
       "    <tr>\n",
       "      <td>8419</td>\n",
       "      <td>15818545</td>\n",
       "      <td>677</td>\n",
       "      <td>Ростов Великий</td>\n",
       "      <td>Ж</td>\n",
       "      <td>26</td>\n",
       "      <td>6</td>\n",
       "      <td>98723.67</td>\n",
       "      <td>1</td>\n",
       "      <td>0</td>\n",
       "      <td>1</td>\n",
       "      <td>151146.67</td>\n",
       "      <td>0</td>\n",
       "      <td>молодые</td>\n",
       "      <td>115265.14</td>\n",
       "    </tr>\n",
       "    <tr>\n",
       "      <td>4647</td>\n",
       "      <td>15624469</td>\n",
       "      <td>781</td>\n",
       "      <td>Ярославль</td>\n",
       "      <td>Ж</td>\n",
       "      <td>28</td>\n",
       "      <td>4</td>\n",
       "      <td>NaN</td>\n",
       "      <td>2</td>\n",
       "      <td>1</td>\n",
       "      <td>0</td>\n",
       "      <td>177703.15</td>\n",
       "      <td>0</td>\n",
       "      <td>молодые</td>\n",
       "      <td>115265.14</td>\n",
       "    </tr>\n",
       "    <tr>\n",
       "      <td>632</td>\n",
       "      <td>15761409</td>\n",
       "      <td>839</td>\n",
       "      <td>Рыбинск</td>\n",
       "      <td>Ж</td>\n",
       "      <td>33</td>\n",
       "      <td>10</td>\n",
       "      <td>75592.43</td>\n",
       "      <td>1</td>\n",
       "      <td>1</td>\n",
       "      <td>0</td>\n",
       "      <td>62674.42</td>\n",
       "      <td>0</td>\n",
       "      <td>взрослые</td>\n",
       "      <td>119338.81</td>\n",
       "    </tr>\n",
       "    <tr>\n",
       "      <td>2203</td>\n",
       "      <td>15715334</td>\n",
       "      <td>613</td>\n",
       "      <td>Рыбинск</td>\n",
       "      <td>М</td>\n",
       "      <td>30</td>\n",
       "      <td>9</td>\n",
       "      <td>111927.45</td>\n",
       "      <td>1</td>\n",
       "      <td>1</td>\n",
       "      <td>1</td>\n",
       "      <td>175795.87</td>\n",
       "      <td>0</td>\n",
       "      <td>взрослые</td>\n",
       "      <td>120022.92</td>\n",
       "    </tr>\n",
       "    <tr>\n",
       "      <td>4719</td>\n",
       "      <td>15626316</td>\n",
       "      <td>566</td>\n",
       "      <td>Ростов Великий</td>\n",
       "      <td>Ж</td>\n",
       "      <td>35</td>\n",
       "      <td>1</td>\n",
       "      <td>123042.00</td>\n",
       "      <td>1</td>\n",
       "      <td>1</td>\n",
       "      <td>0</td>\n",
       "      <td>66245.44</td>\n",
       "      <td>1</td>\n",
       "      <td>взрослые</td>\n",
       "      <td>119338.81</td>\n",
       "    </tr>\n",
       "    <tr>\n",
       "      <td>8728</td>\n",
       "      <td>15754423</td>\n",
       "      <td>434</td>\n",
       "      <td>Ярославль</td>\n",
       "      <td>М</td>\n",
       "      <td>41</td>\n",
       "      <td>4</td>\n",
       "      <td>108128.52</td>\n",
       "      <td>1</td>\n",
       "      <td>0</td>\n",
       "      <td>1</td>\n",
       "      <td>56784.11</td>\n",
       "      <td>0</td>\n",
       "      <td>взрослые</td>\n",
       "      <td>120022.92</td>\n",
       "    </tr>\n",
       "    <tr>\n",
       "      <td>4070</td>\n",
       "      <td>15654287</td>\n",
       "      <td>676</td>\n",
       "      <td>Рыбинск</td>\n",
       "      <td>М</td>\n",
       "      <td>48</td>\n",
       "      <td>1</td>\n",
       "      <td>131659.59</td>\n",
       "      <td>2</td>\n",
       "      <td>0</td>\n",
       "      <td>1</td>\n",
       "      <td>14152.15</td>\n",
       "      <td>0</td>\n",
       "      <td>взрослые</td>\n",
       "      <td>120022.92</td>\n",
       "    </tr>\n",
       "    <tr>\n",
       "      <td>6750</td>\n",
       "      <td>15733282</td>\n",
       "      <td>618</td>\n",
       "      <td>Ярославль</td>\n",
       "      <td>Ж</td>\n",
       "      <td>42</td>\n",
       "      <td>2</td>\n",
       "      <td>NaN</td>\n",
       "      <td>4</td>\n",
       "      <td>0</td>\n",
       "      <td>0</td>\n",
       "      <td>111097.39</td>\n",
       "      <td>1</td>\n",
       "      <td>взрослые</td>\n",
       "      <td>119338.81</td>\n",
       "    </tr>\n",
       "    <tr>\n",
       "      <td>3064</td>\n",
       "      <td>15804964</td>\n",
       "      <td>506</td>\n",
       "      <td>Рыбинск</td>\n",
       "      <td>М</td>\n",
       "      <td>35</td>\n",
       "      <td>6</td>\n",
       "      <td>110046.93</td>\n",
       "      <td>2</td>\n",
       "      <td>1</td>\n",
       "      <td>0</td>\n",
       "      <td>26318.73</td>\n",
       "      <td>0</td>\n",
       "      <td>взрослые</td>\n",
       "      <td>120022.92</td>\n",
       "    </tr>\n",
       "    <tr>\n",
       "      <td>2419</td>\n",
       "      <td>15765501</td>\n",
       "      <td>580</td>\n",
       "      <td>Рыбинск</td>\n",
       "      <td>Ж</td>\n",
       "      <td>57</td>\n",
       "      <td>0</td>\n",
       "      <td>136820.99</td>\n",
       "      <td>1</td>\n",
       "      <td>0</td>\n",
       "      <td>1</td>\n",
       "      <td>108528.74</td>\n",
       "      <td>0</td>\n",
       "      <td>взрослые</td>\n",
       "      <td>119338.81</td>\n",
       "    </tr>\n",
       "    <tr>\n",
       "      <td>8581</td>\n",
       "      <td>15622949</td>\n",
       "      <td>585</td>\n",
       "      <td>Ярославль</td>\n",
       "      <td>Ж</td>\n",
       "      <td>43</td>\n",
       "      <td>2</td>\n",
       "      <td>NaN</td>\n",
       "      <td>2</td>\n",
       "      <td>1</td>\n",
       "      <td>0</td>\n",
       "      <td>89402.54</td>\n",
       "      <td>0</td>\n",
       "      <td>взрослые</td>\n",
       "      <td>119338.81</td>\n",
       "    </tr>\n",
       "    <tr>\n",
       "      <td>1198</td>\n",
       "      <td>15720794</td>\n",
       "      <td>584</td>\n",
       "      <td>Ярославль</td>\n",
       "      <td>М</td>\n",
       "      <td>38</td>\n",
       "      <td>9</td>\n",
       "      <td>104584.16</td>\n",
       "      <td>1</td>\n",
       "      <td>1</td>\n",
       "      <td>0</td>\n",
       "      <td>176678.72</td>\n",
       "      <td>0</td>\n",
       "      <td>взрослые</td>\n",
       "      <td>120022.92</td>\n",
       "    </tr>\n",
       "    <tr>\n",
       "      <td>7535</td>\n",
       "      <td>15780278</td>\n",
       "      <td>611</td>\n",
       "      <td>Ростов Великий</td>\n",
       "      <td>Ж</td>\n",
       "      <td>36</td>\n",
       "      <td>10</td>\n",
       "      <td>103294.56</td>\n",
       "      <td>1</td>\n",
       "      <td>1</td>\n",
       "      <td>0</td>\n",
       "      <td>160548.12</td>\n",
       "      <td>0</td>\n",
       "      <td>взрослые</td>\n",
       "      <td>119338.81</td>\n",
       "    </tr>\n",
       "    <tr>\n",
       "      <td>7429</td>\n",
       "      <td>15687614</td>\n",
       "      <td>685</td>\n",
       "      <td>Рыбинск</td>\n",
       "      <td>Ж</td>\n",
       "      <td>43</td>\n",
       "      <td>6</td>\n",
       "      <td>117302.62</td>\n",
       "      <td>1</td>\n",
       "      <td>0</td>\n",
       "      <td>0</td>\n",
       "      <td>68701.73</td>\n",
       "      <td>0</td>\n",
       "      <td>взрослые</td>\n",
       "      <td>119338.81</td>\n",
       "    </tr>\n",
       "    <tr>\n",
       "      <td>2022</td>\n",
       "      <td>15804213</td>\n",
       "      <td>501</td>\n",
       "      <td>Ростов Великий</td>\n",
       "      <td>М</td>\n",
       "      <td>24</td>\n",
       "      <td>4</td>\n",
       "      <td>130806.42</td>\n",
       "      <td>2</td>\n",
       "      <td>1</td>\n",
       "      <td>0</td>\n",
       "      <td>80241.14</td>\n",
       "      <td>0</td>\n",
       "      <td>молодые</td>\n",
       "      <td>123374.46</td>\n",
       "    </tr>\n",
       "    <tr>\n",
       "      <td>7402</td>\n",
       "      <td>15674746</td>\n",
       "      <td>647</td>\n",
       "      <td>Рыбинск</td>\n",
       "      <td>М</td>\n",
       "      <td>33</td>\n",
       "      <td>7</td>\n",
       "      <td>121260.19</td>\n",
       "      <td>2</td>\n",
       "      <td>1</td>\n",
       "      <td>0</td>\n",
       "      <td>77216.48</td>\n",
       "      <td>0</td>\n",
       "      <td>взрослые</td>\n",
       "      <td>120022.92</td>\n",
       "    </tr>\n",
       "    <tr>\n",
       "      <td>370</td>\n",
       "      <td>15654315</td>\n",
       "      <td>801</td>\n",
       "      <td>Рыбинск</td>\n",
       "      <td>М</td>\n",
       "      <td>42</td>\n",
       "      <td>4</td>\n",
       "      <td>141947.67</td>\n",
       "      <td>1</td>\n",
       "      <td>1</td>\n",
       "      <td>1</td>\n",
       "      <td>10598.29</td>\n",
       "      <td>0</td>\n",
       "      <td>взрослые</td>\n",
       "      <td>120022.92</td>\n",
       "    </tr>\n",
       "    <tr>\n",
       "      <td>6365</td>\n",
       "      <td>15618932</td>\n",
       "      <td>743</td>\n",
       "      <td>Рыбинск</td>\n",
       "      <td>Ж</td>\n",
       "      <td>48</td>\n",
       "      <td>5</td>\n",
       "      <td>118207.69</td>\n",
       "      <td>2</td>\n",
       "      <td>0</td>\n",
       "      <td>0</td>\n",
       "      <td>186489.14</td>\n",
       "      <td>1</td>\n",
       "      <td>взрослые</td>\n",
       "      <td>119338.81</td>\n",
       "    </tr>\n",
       "    <tr>\n",
       "      <td>4723</td>\n",
       "      <td>15833394</td>\n",
       "      <td>621</td>\n",
       "      <td>Рыбинск</td>\n",
       "      <td>М</td>\n",
       "      <td>42</td>\n",
       "      <td>8</td>\n",
       "      <td>68683.68</td>\n",
       "      <td>1</td>\n",
       "      <td>1</td>\n",
       "      <td>1</td>\n",
       "      <td>74157.71</td>\n",
       "      <td>0</td>\n",
       "      <td>взрослые</td>\n",
       "      <td>120022.92</td>\n",
       "    </tr>\n",
       "    <tr>\n",
       "      <td>4761</td>\n",
       "      <td>15760442</td>\n",
       "      <td>799</td>\n",
       "      <td>Ярославль</td>\n",
       "      <td>Ж</td>\n",
       "      <td>32</td>\n",
       "      <td>3</td>\n",
       "      <td>106045.92</td>\n",
       "      <td>2</td>\n",
       "      <td>1</td>\n",
       "      <td>1</td>\n",
       "      <td>17938.00</td>\n",
       "      <td>0</td>\n",
       "      <td>взрослые</td>\n",
       "      <td>119338.81</td>\n",
       "    </tr>\n",
       "    <tr>\n",
       "      <td>4613</td>\n",
       "      <td>15835301</td>\n",
       "      <td>745</td>\n",
       "      <td>Ярославль</td>\n",
       "      <td>Ж</td>\n",
       "      <td>46</td>\n",
       "      <td>7</td>\n",
       "      <td>NaN</td>\n",
       "      <td>2</td>\n",
       "      <td>1</td>\n",
       "      <td>1</td>\n",
       "      <td>67769.94</td>\n",
       "      <td>0</td>\n",
       "      <td>взрослые</td>\n",
       "      <td>119338.81</td>\n",
       "    </tr>\n",
       "    <tr>\n",
       "      <td>5439</td>\n",
       "      <td>15624904</td>\n",
       "      <td>713</td>\n",
       "      <td>Ростов Великий</td>\n",
       "      <td>Ж</td>\n",
       "      <td>61</td>\n",
       "      <td>4</td>\n",
       "      <td>149525.34</td>\n",
       "      <td>2</td>\n",
       "      <td>1</td>\n",
       "      <td>0</td>\n",
       "      <td>123663.63</td>\n",
       "      <td>0</td>\n",
       "      <td>пенсионеры</td>\n",
       "      <td>121211.43</td>\n",
       "    </tr>\n",
       "    <tr>\n",
       "      <td>240</td>\n",
       "      <td>15854745</td>\n",
       "      <td>662</td>\n",
       "      <td>Рыбинск</td>\n",
       "      <td>М</td>\n",
       "      <td>38</td>\n",
       "      <td>4</td>\n",
       "      <td>NaN</td>\n",
       "      <td>2</td>\n",
       "      <td>1</td>\n",
       "      <td>0</td>\n",
       "      <td>136259.65</td>\n",
       "      <td>0</td>\n",
       "      <td>взрослые</td>\n",
       "      <td>120022.92</td>\n",
       "    </tr>\n",
       "    <tr>\n",
       "      <td>4553</td>\n",
       "      <td>15806349</td>\n",
       "      <td>581</td>\n",
       "      <td>Ярославль</td>\n",
       "      <td>М</td>\n",
       "      <td>30</td>\n",
       "      <td>1</td>\n",
       "      <td>NaN</td>\n",
       "      <td>2</td>\n",
       "      <td>1</td>\n",
       "      <td>0</td>\n",
       "      <td>199464.08</td>\n",
       "      <td>0</td>\n",
       "      <td>взрослые</td>\n",
       "      <td>120022.92</td>\n",
       "    </tr>\n",
       "    <tr>\n",
       "      <td>3754</td>\n",
       "      <td>15615528</td>\n",
       "      <td>535</td>\n",
       "      <td>Рыбинск</td>\n",
       "      <td>М</td>\n",
       "      <td>35</td>\n",
       "      <td>8</td>\n",
       "      <td>118989.92</td>\n",
       "      <td>1</td>\n",
       "      <td>1</td>\n",
       "      <td>1</td>\n",
       "      <td>135536.72</td>\n",
       "      <td>0</td>\n",
       "      <td>взрослые</td>\n",
       "      <td>120022.92</td>\n",
       "    </tr>\n",
       "    <tr>\n",
       "      <td>3565</td>\n",
       "      <td>15641436</td>\n",
       "      <td>676</td>\n",
       "      <td>Рыбинск</td>\n",
       "      <td>Ж</td>\n",
       "      <td>30</td>\n",
       "      <td>5</td>\n",
       "      <td>NaN</td>\n",
       "      <td>2</td>\n",
       "      <td>0</td>\n",
       "      <td>1</td>\n",
       "      <td>157888.50</td>\n",
       "      <td>0</td>\n",
       "      <td>взрослые</td>\n",
       "      <td>119338.81</td>\n",
       "    </tr>\n",
       "  </tbody>\n",
       "</table>\n",
       "</div>"
      ],
      "text/plain": [
       "        userid  score            city gender  age  objects    balance  \\\n",
       "1293  15730488    641       Ярославль      М   30        2   87505.47   \n",
       "3714  15858164    823       Ярославль      М   34        3  105057.33   \n",
       "4854  15616807    706  Ростов Великий      М   23        2   93301.97   \n",
       "5627  15737910    654       Ярославль      М   29        4  132954.64   \n",
       "2271  15746324    665  Ростов Великий      М   25        5  153611.83   \n",
       "3076  15626850    678  Ростов Великий      Ж   43        2  153393.18   \n",
       "2870  15693829    707       Ярославль      Ж   55        1        NaN   \n",
       "4438  15626586    672  Ростов Великий      М   68        0  126061.51   \n",
       "428   15619049    486  Ростов Великий      Ж   40        9   71340.09   \n",
       "6230  15659690    592       Ярославль      М   71        4        NaN   \n",
       "2326  15805720    648         Рыбинск      М   35        7        NaN   \n",
       "5264  15734553    547         Рыбинск      Ж   44        5        NaN   \n",
       "9253  15710057    644         Рыбинск      М   49       10        NaN   \n",
       "5132  15622562    439       Ярославль      Ж   66        9        NaN   \n",
       "8419  15818545    677  Ростов Великий      Ж   26        6   98723.67   \n",
       "4647  15624469    781       Ярославль      Ж   28        4        NaN   \n",
       "632   15761409    839         Рыбинск      Ж   33       10   75592.43   \n",
       "2203  15715334    613         Рыбинск      М   30        9  111927.45   \n",
       "4719  15626316    566  Ростов Великий      Ж   35        1  123042.00   \n",
       "8728  15754423    434       Ярославль      М   41        4  108128.52   \n",
       "4070  15654287    676         Рыбинск      М   48        1  131659.59   \n",
       "6750  15733282    618       Ярославль      Ж   42        2        NaN   \n",
       "3064  15804964    506         Рыбинск      М   35        6  110046.93   \n",
       "2419  15765501    580         Рыбинск      Ж   57        0  136820.99   \n",
       "8581  15622949    585       Ярославль      Ж   43        2        NaN   \n",
       "1198  15720794    584       Ярославль      М   38        9  104584.16   \n",
       "7535  15780278    611  Ростов Великий      Ж   36       10  103294.56   \n",
       "7429  15687614    685         Рыбинск      Ж   43        6  117302.62   \n",
       "2022  15804213    501  Ростов Великий      М   24        4  130806.42   \n",
       "7402  15674746    647         Рыбинск      М   33        7  121260.19   \n",
       "370   15654315    801         Рыбинск      М   42        4  141947.67   \n",
       "6365  15618932    743         Рыбинск      Ж   48        5  118207.69   \n",
       "4723  15833394    621         Рыбинск      М   42        8   68683.68   \n",
       "4761  15760442    799       Ярославль      Ж   32        3  106045.92   \n",
       "4613  15835301    745       Ярославль      Ж   46        7        NaN   \n",
       "5439  15624904    713  Ростов Великий      Ж   61        4  149525.34   \n",
       "240   15854745    662         Рыбинск      М   38        4        NaN   \n",
       "4553  15806349    581       Ярославль      М   30        1        NaN   \n",
       "3754  15615528    535         Рыбинск      М   35        8  118989.92   \n",
       "3565  15641436    676         Рыбинск      Ж   30        5        NaN   \n",
       "\n",
       "      products  creditcard  loyalty  estimated_salary  churn    category  \\\n",
       "1293         2           0        1           7278.57      0    взрослые   \n",
       "3714         1           1        0           9217.92      0    взрослые   \n",
       "4854         2           0        1         127187.04      0     молодые   \n",
       "5627         1           1        1         146715.07      0     молодые   \n",
       "2271         2           1        0          35321.65      0     молодые   \n",
       "3076         2           1        1         193828.27      0    взрослые   \n",
       "2870         2           0        1          54409.48      0    взрослые   \n",
       "4438         2           1        1         184936.77      0  пенсионеры   \n",
       "428          1           1        0          76192.21      0    взрослые   \n",
       "6230         2           0        1          17013.54      0  пенсионеры   \n",
       "2326         2           0        0         122899.01      0    взрослые   \n",
       "5264         3           0        0           5459.07      1    взрослые   \n",
       "9253         2           1        1         145089.64      0    взрослые   \n",
       "5132         1           1        0          65535.56      0  пенсионеры   \n",
       "8419         1           0        1         151146.67      0     молодые   \n",
       "4647         2           1        0         177703.15      0     молодые   \n",
       "632          1           1        0          62674.42      0    взрослые   \n",
       "2203         1           1        1         175795.87      0    взрослые   \n",
       "4719         1           1        0          66245.44      1    взрослые   \n",
       "8728         1           0        1          56784.11      0    взрослые   \n",
       "4070         2           0        1          14152.15      0    взрослые   \n",
       "6750         4           0        0         111097.39      1    взрослые   \n",
       "3064         2           1        0          26318.73      0    взрослые   \n",
       "2419         1           0        1         108528.74      0    взрослые   \n",
       "8581         2           1        0          89402.54      0    взрослые   \n",
       "1198         1           1        0         176678.72      0    взрослые   \n",
       "7535         1           1        0         160548.12      0    взрослые   \n",
       "7429         1           0        0          68701.73      0    взрослые   \n",
       "2022         2           1        0          80241.14      0     молодые   \n",
       "7402         2           1        0          77216.48      0    взрослые   \n",
       "370          1           1        1          10598.29      0    взрослые   \n",
       "6365         2           0        0         186489.14      1    взрослые   \n",
       "4723         1           1        1          74157.71      0    взрослые   \n",
       "4761         2           1        1          17938.00      0    взрослые   \n",
       "4613         2           1        1          67769.94      0    взрослые   \n",
       "5439         2           1        0         123663.63      0  пенсионеры   \n",
       "240          2           1        0         136259.65      0    взрослые   \n",
       "4553         2           1        0         199464.08      0    взрослые   \n",
       "3754         1           1        1         135536.72      0    взрослые   \n",
       "3565         2           0        1         157888.50      0    взрослые   \n",
       "\n",
       "            new  \n",
       "1293  120022.92  \n",
       "3714  120022.92  \n",
       "4854  123374.46  \n",
       "5627  123374.46  \n",
       "2271  123374.46  \n",
       "3076  119338.81  \n",
       "2870  119338.81  \n",
       "4438  120100.41  \n",
       "428   119338.81  \n",
       "6230  120100.41  \n",
       "2326  120022.92  \n",
       "5264  119338.81  \n",
       "9253  120022.92  \n",
       "5132  121211.43  \n",
       "8419  115265.14  \n",
       "4647  115265.14  \n",
       "632   119338.81  \n",
       "2203  120022.92  \n",
       "4719  119338.81  \n",
       "8728  120022.92  \n",
       "4070  120022.92  \n",
       "6750  119338.81  \n",
       "3064  120022.92  \n",
       "2419  119338.81  \n",
       "8581  119338.81  \n",
       "1198  120022.92  \n",
       "7535  119338.81  \n",
       "7429  119338.81  \n",
       "2022  123374.46  \n",
       "7402  120022.92  \n",
       "370   120022.92  \n",
       "6365  119338.81  \n",
       "4723  120022.92  \n",
       "4761  119338.81  \n",
       "4613  119338.81  \n",
       "5439  121211.43  \n",
       "240   120022.92  \n",
       "4553  120022.92  \n",
       "3754  120022.92  \n",
       "3565  119338.81  "
      ]
     },
     "execution_count": 220,
     "metadata": {},
     "output_type": "execute_result"
    }
   ],
   "source": [
    "df.sample(40)"
   ]
  },
  {
   "cell_type": "code",
   "execution_count": 221,
   "metadata": {},
   "outputs": [
    {
     "data": {
      "text/plain": [
       "array([119338.81, 120022.92, 115265.14, 123374.46, 121211.43, 120100.41])"
      ]
     },
     "execution_count": 221,
     "metadata": {},
     "output_type": "execute_result"
    }
   ],
   "source": [
    "df['new'].unique()"
   ]
  },
  {
   "cell_type": "markdown",
   "metadata": {},
   "source": [
    "Теперь заменим все пропуски данными из столбца \"new\""
   ]
  },
  {
   "cell_type": "code",
   "execution_count": 222,
   "metadata": {},
   "outputs": [],
   "source": [
    "df['balance'] = df['balance'].fillna(df['new'])"
   ]
  },
  {
   "cell_type": "code",
   "execution_count": 223,
   "metadata": {},
   "outputs": [
    {
     "data": {
      "text/html": [
       "<div>\n",
       "<style scoped>\n",
       "    .dataframe tbody tr th:only-of-type {\n",
       "        vertical-align: middle;\n",
       "    }\n",
       "\n",
       "    .dataframe tbody tr th {\n",
       "        vertical-align: top;\n",
       "    }\n",
       "\n",
       "    .dataframe thead th {\n",
       "        text-align: right;\n",
       "    }\n",
       "</style>\n",
       "<table border=\"1\" class=\"dataframe\">\n",
       "  <thead>\n",
       "    <tr style=\"text-align: right;\">\n",
       "      <th></th>\n",
       "      <th>userid</th>\n",
       "      <th>score</th>\n",
       "      <th>city</th>\n",
       "      <th>gender</th>\n",
       "      <th>age</th>\n",
       "      <th>objects</th>\n",
       "      <th>balance</th>\n",
       "      <th>products</th>\n",
       "      <th>creditcard</th>\n",
       "      <th>loyalty</th>\n",
       "      <th>estimated_salary</th>\n",
       "      <th>churn</th>\n",
       "      <th>category</th>\n",
       "      <th>new</th>\n",
       "    </tr>\n",
       "  </thead>\n",
       "  <tbody>\n",
       "    <tr>\n",
       "      <td>0</td>\n",
       "      <td>15677338</td>\n",
       "      <td>619</td>\n",
       "      <td>Ярославль</td>\n",
       "      <td>Ж</td>\n",
       "      <td>42</td>\n",
       "      <td>2</td>\n",
       "      <td>119338.81</td>\n",
       "      <td>1</td>\n",
       "      <td>1</td>\n",
       "      <td>1</td>\n",
       "      <td>101348.88</td>\n",
       "      <td>1</td>\n",
       "      <td>взрослые</td>\n",
       "      <td>119338.81</td>\n",
       "    </tr>\n",
       "    <tr>\n",
       "      <td>1</td>\n",
       "      <td>15690047</td>\n",
       "      <td>608</td>\n",
       "      <td>Рыбинск</td>\n",
       "      <td>Ж</td>\n",
       "      <td>41</td>\n",
       "      <td>1</td>\n",
       "      <td>83807.86</td>\n",
       "      <td>1</td>\n",
       "      <td>0</td>\n",
       "      <td>1</td>\n",
       "      <td>112542.58</td>\n",
       "      <td>0</td>\n",
       "      <td>взрослые</td>\n",
       "      <td>119338.81</td>\n",
       "    </tr>\n",
       "    <tr>\n",
       "      <td>2</td>\n",
       "      <td>15662040</td>\n",
       "      <td>502</td>\n",
       "      <td>Ярославль</td>\n",
       "      <td>Ж</td>\n",
       "      <td>42</td>\n",
       "      <td>8</td>\n",
       "      <td>159660.80</td>\n",
       "      <td>3</td>\n",
       "      <td>1</td>\n",
       "      <td>0</td>\n",
       "      <td>113931.57</td>\n",
       "      <td>1</td>\n",
       "      <td>взрослые</td>\n",
       "      <td>119338.81</td>\n",
       "    </tr>\n",
       "    <tr>\n",
       "      <td>3</td>\n",
       "      <td>15744090</td>\n",
       "      <td>699</td>\n",
       "      <td>Ярославль</td>\n",
       "      <td>Ж</td>\n",
       "      <td>39</td>\n",
       "      <td>1</td>\n",
       "      <td>119338.81</td>\n",
       "      <td>2</td>\n",
       "      <td>0</td>\n",
       "      <td>0</td>\n",
       "      <td>93826.63</td>\n",
       "      <td>0</td>\n",
       "      <td>взрослые</td>\n",
       "      <td>119338.81</td>\n",
       "    </tr>\n",
       "    <tr>\n",
       "      <td>4</td>\n",
       "      <td>15780624</td>\n",
       "      <td>850</td>\n",
       "      <td>Рыбинск</td>\n",
       "      <td>Ж</td>\n",
       "      <td>43</td>\n",
       "      <td>2</td>\n",
       "      <td>125510.82</td>\n",
       "      <td>1</td>\n",
       "      <td>1</td>\n",
       "      <td>1</td>\n",
       "      <td>79084.10</td>\n",
       "      <td>0</td>\n",
       "      <td>взрослые</td>\n",
       "      <td>119338.81</td>\n",
       "    </tr>\n",
       "    <tr>\n",
       "      <td>5</td>\n",
       "      <td>15616748</td>\n",
       "      <td>645</td>\n",
       "      <td>Рыбинск</td>\n",
       "      <td>М</td>\n",
       "      <td>44</td>\n",
       "      <td>8</td>\n",
       "      <td>113755.78</td>\n",
       "      <td>2</td>\n",
       "      <td>1</td>\n",
       "      <td>0</td>\n",
       "      <td>149756.71</td>\n",
       "      <td>1</td>\n",
       "      <td>взрослые</td>\n",
       "      <td>120022.92</td>\n",
       "    </tr>\n",
       "    <tr>\n",
       "      <td>6</td>\n",
       "      <td>15635267</td>\n",
       "      <td>822</td>\n",
       "      <td>Ярославль</td>\n",
       "      <td>М</td>\n",
       "      <td>50</td>\n",
       "      <td>7</td>\n",
       "      <td>120022.92</td>\n",
       "      <td>2</td>\n",
       "      <td>1</td>\n",
       "      <td>1</td>\n",
       "      <td>10062.80</td>\n",
       "      <td>0</td>\n",
       "      <td>взрослые</td>\n",
       "      <td>120022.92</td>\n",
       "    </tr>\n",
       "    <tr>\n",
       "      <td>7</td>\n",
       "      <td>15698884</td>\n",
       "      <td>376</td>\n",
       "      <td>Ростов Великий</td>\n",
       "      <td>Ж</td>\n",
       "      <td>29</td>\n",
       "      <td>4</td>\n",
       "      <td>115046.74</td>\n",
       "      <td>4</td>\n",
       "      <td>1</td>\n",
       "      <td>0</td>\n",
       "      <td>119346.88</td>\n",
       "      <td>1</td>\n",
       "      <td>молодые</td>\n",
       "      <td>115265.14</td>\n",
       "    </tr>\n",
       "    <tr>\n",
       "      <td>8</td>\n",
       "      <td>15835101</td>\n",
       "      <td>501</td>\n",
       "      <td>Ярославль</td>\n",
       "      <td>М</td>\n",
       "      <td>44</td>\n",
       "      <td>4</td>\n",
       "      <td>142051.07</td>\n",
       "      <td>2</td>\n",
       "      <td>0</td>\n",
       "      <td>1</td>\n",
       "      <td>74940.50</td>\n",
       "      <td>0</td>\n",
       "      <td>взрослые</td>\n",
       "      <td>120022.92</td>\n",
       "    </tr>\n",
       "    <tr>\n",
       "      <td>9</td>\n",
       "      <td>15635125</td>\n",
       "      <td>684</td>\n",
       "      <td>Ярославль</td>\n",
       "      <td>М</td>\n",
       "      <td>27</td>\n",
       "      <td>2</td>\n",
       "      <td>134603.88</td>\n",
       "      <td>1</td>\n",
       "      <td>1</td>\n",
       "      <td>1</td>\n",
       "      <td>71725.73</td>\n",
       "      <td>0</td>\n",
       "      <td>молодые</td>\n",
       "      <td>123374.46</td>\n",
       "    </tr>\n",
       "  </tbody>\n",
       "</table>\n",
       "</div>"
      ],
      "text/plain": [
       "     userid  score            city gender  age  objects    balance  products  \\\n",
       "0  15677338    619       Ярославль      Ж   42        2  119338.81         1   \n",
       "1  15690047    608         Рыбинск      Ж   41        1   83807.86         1   \n",
       "2  15662040    502       Ярославль      Ж   42        8  159660.80         3   \n",
       "3  15744090    699       Ярославль      Ж   39        1  119338.81         2   \n",
       "4  15780624    850         Рыбинск      Ж   43        2  125510.82         1   \n",
       "5  15616748    645         Рыбинск      М   44        8  113755.78         2   \n",
       "6  15635267    822       Ярославль      М   50        7  120022.92         2   \n",
       "7  15698884    376  Ростов Великий      Ж   29        4  115046.74         4   \n",
       "8  15835101    501       Ярославль      М   44        4  142051.07         2   \n",
       "9  15635125    684       Ярославль      М   27        2  134603.88         1   \n",
       "\n",
       "   creditcard  loyalty  estimated_salary  churn  category        new  \n",
       "0           1        1         101348.88      1  взрослые  119338.81  \n",
       "1           0        1         112542.58      0  взрослые  119338.81  \n",
       "2           1        0         113931.57      1  взрослые  119338.81  \n",
       "3           0        0          93826.63      0  взрослые  119338.81  \n",
       "4           1        1          79084.10      0  взрослые  119338.81  \n",
       "5           1        0         149756.71      1  взрослые  120022.92  \n",
       "6           1        1          10062.80      0  взрослые  120022.92  \n",
       "7           1        0         119346.88      1   молодые  115265.14  \n",
       "8           0        1          74940.50      0  взрослые  120022.92  \n",
       "9           1        1          71725.73      0   молодые  123374.46  "
      ]
     },
     "execution_count": 223,
     "metadata": {},
     "output_type": "execute_result"
    }
   ],
   "source": [
    "df.head(10)"
   ]
  },
  {
   "cell_type": "markdown",
   "metadata": {},
   "source": [
    "Лишний столбец теперь можно удалить, так как он нам не пригодится"
   ]
  },
  {
   "cell_type": "code",
   "execution_count": 224,
   "metadata": {},
   "outputs": [],
   "source": [
    "df.drop('new', axis=1, inplace=True)"
   ]
  },
  {
   "cell_type": "code",
   "execution_count": 225,
   "metadata": {},
   "outputs": [
    {
     "data": {
      "text/html": [
       "<div>\n",
       "<style scoped>\n",
       "    .dataframe tbody tr th:only-of-type {\n",
       "        vertical-align: middle;\n",
       "    }\n",
       "\n",
       "    .dataframe tbody tr th {\n",
       "        vertical-align: top;\n",
       "    }\n",
       "\n",
       "    .dataframe thead th {\n",
       "        text-align: right;\n",
       "    }\n",
       "</style>\n",
       "<table border=\"1\" class=\"dataframe\">\n",
       "  <thead>\n",
       "    <tr style=\"text-align: right;\">\n",
       "      <th></th>\n",
       "      <th>userid</th>\n",
       "      <th>score</th>\n",
       "      <th>city</th>\n",
       "      <th>gender</th>\n",
       "      <th>age</th>\n",
       "      <th>objects</th>\n",
       "      <th>balance</th>\n",
       "      <th>products</th>\n",
       "      <th>creditcard</th>\n",
       "      <th>loyalty</th>\n",
       "      <th>estimated_salary</th>\n",
       "      <th>churn</th>\n",
       "      <th>category</th>\n",
       "    </tr>\n",
       "  </thead>\n",
       "  <tbody>\n",
       "    <tr>\n",
       "      <td>0</td>\n",
       "      <td>15677338</td>\n",
       "      <td>619</td>\n",
       "      <td>Ярославль</td>\n",
       "      <td>Ж</td>\n",
       "      <td>42</td>\n",
       "      <td>2</td>\n",
       "      <td>119338.81</td>\n",
       "      <td>1</td>\n",
       "      <td>1</td>\n",
       "      <td>1</td>\n",
       "      <td>101348.88</td>\n",
       "      <td>1</td>\n",
       "      <td>взрослые</td>\n",
       "    </tr>\n",
       "    <tr>\n",
       "      <td>1</td>\n",
       "      <td>15690047</td>\n",
       "      <td>608</td>\n",
       "      <td>Рыбинск</td>\n",
       "      <td>Ж</td>\n",
       "      <td>41</td>\n",
       "      <td>1</td>\n",
       "      <td>83807.86</td>\n",
       "      <td>1</td>\n",
       "      <td>0</td>\n",
       "      <td>1</td>\n",
       "      <td>112542.58</td>\n",
       "      <td>0</td>\n",
       "      <td>взрослые</td>\n",
       "    </tr>\n",
       "    <tr>\n",
       "      <td>2</td>\n",
       "      <td>15662040</td>\n",
       "      <td>502</td>\n",
       "      <td>Ярославль</td>\n",
       "      <td>Ж</td>\n",
       "      <td>42</td>\n",
       "      <td>8</td>\n",
       "      <td>159660.80</td>\n",
       "      <td>3</td>\n",
       "      <td>1</td>\n",
       "      <td>0</td>\n",
       "      <td>113931.57</td>\n",
       "      <td>1</td>\n",
       "      <td>взрослые</td>\n",
       "    </tr>\n",
       "    <tr>\n",
       "      <td>3</td>\n",
       "      <td>15744090</td>\n",
       "      <td>699</td>\n",
       "      <td>Ярославль</td>\n",
       "      <td>Ж</td>\n",
       "      <td>39</td>\n",
       "      <td>1</td>\n",
       "      <td>119338.81</td>\n",
       "      <td>2</td>\n",
       "      <td>0</td>\n",
       "      <td>0</td>\n",
       "      <td>93826.63</td>\n",
       "      <td>0</td>\n",
       "      <td>взрослые</td>\n",
       "    </tr>\n",
       "    <tr>\n",
       "      <td>4</td>\n",
       "      <td>15780624</td>\n",
       "      <td>850</td>\n",
       "      <td>Рыбинск</td>\n",
       "      <td>Ж</td>\n",
       "      <td>43</td>\n",
       "      <td>2</td>\n",
       "      <td>125510.82</td>\n",
       "      <td>1</td>\n",
       "      <td>1</td>\n",
       "      <td>1</td>\n",
       "      <td>79084.10</td>\n",
       "      <td>0</td>\n",
       "      <td>взрослые</td>\n",
       "    </tr>\n",
       "    <tr>\n",
       "      <td>...</td>\n",
       "      <td>...</td>\n",
       "      <td>...</td>\n",
       "      <td>...</td>\n",
       "      <td>...</td>\n",
       "      <td>...</td>\n",
       "      <td>...</td>\n",
       "      <td>...</td>\n",
       "      <td>...</td>\n",
       "      <td>...</td>\n",
       "      <td>...</td>\n",
       "      <td>...</td>\n",
       "      <td>...</td>\n",
       "      <td>...</td>\n",
       "    </tr>\n",
       "    <tr>\n",
       "      <td>9995</td>\n",
       "      <td>15648965</td>\n",
       "      <td>771</td>\n",
       "      <td>Ярославль</td>\n",
       "      <td>М</td>\n",
       "      <td>39</td>\n",
       "      <td>5</td>\n",
       "      <td>120022.92</td>\n",
       "      <td>2</td>\n",
       "      <td>1</td>\n",
       "      <td>0</td>\n",
       "      <td>96270.64</td>\n",
       "      <td>0</td>\n",
       "      <td>взрослые</td>\n",
       "    </tr>\n",
       "    <tr>\n",
       "      <td>9996</td>\n",
       "      <td>15612628</td>\n",
       "      <td>516</td>\n",
       "      <td>Ярославль</td>\n",
       "      <td>М</td>\n",
       "      <td>35</td>\n",
       "      <td>10</td>\n",
       "      <td>57369.61</td>\n",
       "      <td>1</td>\n",
       "      <td>1</td>\n",
       "      <td>1</td>\n",
       "      <td>101699.77</td>\n",
       "      <td>0</td>\n",
       "      <td>взрослые</td>\n",
       "    </tr>\n",
       "    <tr>\n",
       "      <td>9997</td>\n",
       "      <td>15627268</td>\n",
       "      <td>709</td>\n",
       "      <td>Ярославль</td>\n",
       "      <td>Ж</td>\n",
       "      <td>36</td>\n",
       "      <td>7</td>\n",
       "      <td>119338.81</td>\n",
       "      <td>1</td>\n",
       "      <td>0</td>\n",
       "      <td>1</td>\n",
       "      <td>42085.58</td>\n",
       "      <td>1</td>\n",
       "      <td>взрослые</td>\n",
       "    </tr>\n",
       "    <tr>\n",
       "      <td>9998</td>\n",
       "      <td>15725091</td>\n",
       "      <td>772</td>\n",
       "      <td>Ростов Великий</td>\n",
       "      <td>М</td>\n",
       "      <td>42</td>\n",
       "      <td>3</td>\n",
       "      <td>75075.31</td>\n",
       "      <td>2</td>\n",
       "      <td>1</td>\n",
       "      <td>0</td>\n",
       "      <td>92888.52</td>\n",
       "      <td>1</td>\n",
       "      <td>взрослые</td>\n",
       "    </tr>\n",
       "    <tr>\n",
       "      <td>9999</td>\n",
       "      <td>15671055</td>\n",
       "      <td>792</td>\n",
       "      <td>Ярославль</td>\n",
       "      <td>Ж</td>\n",
       "      <td>28</td>\n",
       "      <td>4</td>\n",
       "      <td>130142.79</td>\n",
       "      <td>1</td>\n",
       "      <td>1</td>\n",
       "      <td>0</td>\n",
       "      <td>38190.78</td>\n",
       "      <td>0</td>\n",
       "      <td>молодые</td>\n",
       "    </tr>\n",
       "  </tbody>\n",
       "</table>\n",
       "<p>10000 rows × 13 columns</p>\n",
       "</div>"
      ],
      "text/plain": [
       "        userid  score            city gender  age  objects    balance  \\\n",
       "0     15677338    619       Ярославль      Ж   42        2  119338.81   \n",
       "1     15690047    608         Рыбинск      Ж   41        1   83807.86   \n",
       "2     15662040    502       Ярославль      Ж   42        8  159660.80   \n",
       "3     15744090    699       Ярославль      Ж   39        1  119338.81   \n",
       "4     15780624    850         Рыбинск      Ж   43        2  125510.82   \n",
       "...        ...    ...             ...    ...  ...      ...        ...   \n",
       "9995  15648965    771       Ярославль      М   39        5  120022.92   \n",
       "9996  15612628    516       Ярославль      М   35       10   57369.61   \n",
       "9997  15627268    709       Ярославль      Ж   36        7  119338.81   \n",
       "9998  15725091    772  Ростов Великий      М   42        3   75075.31   \n",
       "9999  15671055    792       Ярославль      Ж   28        4  130142.79   \n",
       "\n",
       "      products  creditcard  loyalty  estimated_salary  churn  category  \n",
       "0            1           1        1         101348.88      1  взрослые  \n",
       "1            1           0        1         112542.58      0  взрослые  \n",
       "2            3           1        0         113931.57      1  взрослые  \n",
       "3            2           0        0          93826.63      0  взрослые  \n",
       "4            1           1        1          79084.10      0  взрослые  \n",
       "...        ...         ...      ...               ...    ...       ...  \n",
       "9995         2           1        0          96270.64      0  взрослые  \n",
       "9996         1           1        1         101699.77      0  взрослые  \n",
       "9997         1           0        1          42085.58      1  взрослые  \n",
       "9998         2           1        0          92888.52      1  взрослые  \n",
       "9999         1           1        0          38190.78      0   молодые  \n",
       "\n",
       "[10000 rows x 13 columns]"
      ]
     },
     "execution_count": 225,
     "metadata": {},
     "output_type": "execute_result"
    }
   ],
   "source": [
    "df"
   ]
  },
  {
   "cell_type": "markdown",
   "metadata": {},
   "source": [
    "Теперь можем приступить к замене типов данных. <a id=\"step2\"></a>  "
   ]
  },
  {
   "cell_type": "code",
   "execution_count": 226,
   "metadata": {},
   "outputs": [],
   "source": [
    "df['balance'] = round(df['balance'], 0)\n",
    "df['estimated_salary'] = round(df['estimated_salary'], 0)"
   ]
  },
  {
   "cell_type": "code",
   "execution_count": 227,
   "metadata": {},
   "outputs": [],
   "source": [
    "df['balance'] = df['balance'].astype(int)\n",
    "df['estimated_salary'] = df['estimated_salary'].astype(int)"
   ]
  },
  {
   "cell_type": "code",
   "execution_count": 228,
   "metadata": {},
   "outputs": [
    {
     "data": {
      "text/plain": [
       "userid               int64\n",
       "score                int64\n",
       "city                object\n",
       "gender              object\n",
       "age                  int64\n",
       "objects              int64\n",
       "balance              int32\n",
       "products             int64\n",
       "creditcard           int64\n",
       "loyalty              int64\n",
       "estimated_salary     int32\n",
       "churn                int64\n",
       "category            object\n",
       "dtype: object"
      ]
     },
     "execution_count": 228,
     "metadata": {},
     "output_type": "execute_result"
    }
   ],
   "source": [
    "df.dtypes"
   ]
  },
  {
   "cell_type": "markdown",
   "metadata": {},
   "source": [
    "## Вывод: \n",
    "\n",
    "Мы ознакомились с данными, которые для анализа предоставил банк. В целом, данные предоставленны качественные, однако можно передать информацию Дата-инженерам о наличии такого количества пропусков в столбце Баланс по Сантк-Петербургу и Рыбинску."
   ]
  },
  {
   "cell_type": "markdown",
   "metadata": {},
   "source": [
    "## Шаг №3. Исследовательский анализ данных"
   ]
  },
  {
   "cell_type": "markdown",
   "metadata": {},
   "source": [
    "Чтобы определить портрет клиентов которые склонны уходить из банка, нам необходимо поделить датасет на две части и проанализировать тех, кто уже ушел и сравнить с теми, кто еще пользуется услугами банка.<a id=\"step5\"></a>  "
   ]
  },
  {
   "cell_type": "markdown",
   "metadata": {},
   "source": [
    "Для дальнейшего удобства разделим исходный датасет на два по оставшимся и ушедшим клиентам"
   ]
  },
  {
   "cell_type": "code",
   "execution_count": 229,
   "metadata": {},
   "outputs": [],
   "source": [
    "stayed = df.query('churn == 0')\n",
    "lost = df.query('churn == 1')"
   ]
  },
  {
   "cell_type": "markdown",
   "metadata": {},
   "source": [
    "Посмотрим сколько их количественно"
   ]
  },
  {
   "cell_type": "code",
   "execution_count": 230,
   "metadata": {},
   "outputs": [
    {
     "data": {
      "text/plain": [
       "0    7963\n",
       "1    2037\n",
       "Name: churn, dtype: int64"
      ]
     },
     "execution_count": 230,
     "metadata": {},
     "output_type": "execute_result"
    }
   ],
   "source": [
    "df['churn'].value_counts()"
   ]
  },
  {
   "cell_type": "markdown",
   "metadata": {},
   "source": [
    "Создадим функцию которая будет строить столбчатые гистограммы и распределения признаков для тех, кто ушёл (отток) и тех, кто остался (не попали в отток). <a id=\"step6\"></a> "
   ]
  },
  {
   "cell_type": "code",
   "execution_count": 231,
   "metadata": {
    "scrolled": false
   },
   "outputs": [
    {
     "data": {
      "image/png": "[encoded data removed]",
      "text/plain": [
       "<Figure size 1008x720 with 1 Axes>"
      ]
     },
     "metadata": {
      "needs_background": "light"
     },
     "output_type": "display_data"
    },
    {
     "data": {
      "image/png": "[encoded data removed]",
      "text/plain": [
       "<Figure size 1008x720 with 1 Axes>"
      ]
     },
     "metadata": {
      "needs_background": "light"
     },
     "output_type": "display_data"
    },
    {
     "data": {
      "image/png": "[encoded data removed]",
      "text/plain": [
       "<Figure size 1008x720 with 1 Axes>"
      ]
     },
     "metadata": {
      "needs_background": "light"
     },
     "output_type": "display_data"
    },
    {
     "data": {
      "image/png": "[encoded data removed]",
      "text/plain": [
       "<Figure size 1008x720 with 1 Axes>"
      ]
     },
     "metadata": {
      "needs_background": "light"
     },
     "output_type": "display_data"
    },
    {
     "data": {
      "image/png": "[encoded data removed]",
      "text/plain": [
       "<Figure size 1008x720 with 1 Axes>"
      ]
     },
     "metadata": {
      "needs_background": "light"
     },
     "output_type": "display_data"
    },
    {
     "data": {
      "image/png": "[encoded data removed]",
      "text/plain": [
       "<Figure size 1008x720 with 1 Axes>"
      ]
     },
     "metadata": {
      "needs_background": "light"
     },
     "output_type": "display_data"
    },
    {
     "data": {
      "image/png": "[encoded data removed]",
      "text/plain": [
       "<Figure size 1008x720 with 1 Axes>"
      ]
     },
     "metadata": {
      "needs_background": "light"
     },
     "output_type": "display_data"
    }
   ],
   "source": [
    "for column in ['score', 'age', 'balance', 'estimated_salary', 'objects', 'products', 'creditcard']:\n",
    "    plt.figure(figsize=(14, 10))\n",
    "    sns.distplot(lost[column], label ='lost', bins = 20, color= 'darkblue')\n",
    "    sns.distplot(stayed[column], label ='stayed', bins = 20, color= 'firebrick')\n",
    "    plt.legend()\n",
    "    plt.show()"
   ]
  },
  {
   "cell_type": "markdown",
   "metadata": {},
   "source": [
    "Теперь для наглядности построим графики распределения этих же параметров, чтобы мы смогли сделать выводы."
   ]
  },
  {
   "cell_type": "code",
   "execution_count": 232,
   "metadata": {
    "scrolled": false
   },
   "outputs": [
    {
     "data": {
      "image/png": "[encoded data removed]",
      "text/plain": [
       "<Figure size 1008x720 with 1 Axes>"
      ]
     },
     "metadata": {
      "needs_background": "light"
     },
     "output_type": "display_data"
    },
    {
     "data": {
      "image/png": "[encoded data removed]",
      "text/plain": [
       "<Figure size 1008x720 with 1 Axes>"
      ]
     },
     "metadata": {
      "needs_background": "light"
     },
     "output_type": "display_data"
    },
    {
     "data": {
      "image/png": "[encoded data removed]",
      "text/plain": [
       "<Figure size 1008x720 with 1 Axes>"
      ]
     },
     "metadata": {
      "needs_background": "light"
     },
     "output_type": "display_data"
    },
    {
     "data": {
      "image/png": "[encoded data removed]",
      "text/plain": [
       "<Figure size 1008x720 with 1 Axes>"
      ]
     },
     "metadata": {
      "needs_background": "light"
     },
     "output_type": "display_data"
    },
    {
     "data": {
      "image/png": "[encoded data removed]",
      "text/plain": [
       "<Figure size 1008x720 with 1 Axes>"
      ]
     },
     "metadata": {
      "needs_background": "light"
     },
     "output_type": "display_data"
    }
   ],
   "source": [
    "for column in ['score', 'age', 'balance', 'estimated_salary', 'objects']:\n",
    "    plt.figure(figsize=(14, 10))\n",
    "    ax = sns.boxplot(x = 'churn', y = column, data = df, hue=\"churn\", palette=\"Set1\", width= 0.7, dodge=False)\n",
    "    plt.show()"
   ]
  },
  {
   "cell_type": "markdown",
   "metadata": {},
   "source": [
    "## Вывод: "
   ]
  },
  {
   "cell_type": "markdown",
   "metadata": {},
   "source": [
    "<a id=\"step7\"></a> Сейчас смело можно сказать, что рассмотренные числовые параметры ушедших и оставшихся клиентов во многом идентичны. Единственный момент, который сразу бросается в глаза - это возраст. Клиенты покинувшие наш банк - почти на 10 лет старше. Среди ушедших, в основном люди от 40 до 50 лет. Это говорит о том, что в банке, скорее всего, хорошие условия для лиц молодежи. Как мне кажется, стоит на это обратить внимание людям, которые занимаются продуктом. "
   ]
  },
  {
   "cell_type": "markdown",
   "metadata": {},
   "source": [
    "Еще одну интересную особенность мы заметили при проверке количества продуктов на столбчатой диаграмме. Оставшиеся клиенты чаще всего пользовались двумя продуктами в банке, в отличии от ушедших клиентов.\n"
   ]
  },
  {
   "cell_type": "markdown",
   "metadata": {},
   "source": [
    "<a id=\"step8\"></a>Посмотрим на сводную таблицу оставшихся и ушедших клиентов по городам, при помощи которой посчитаем долю ушедших клиентов. "
   ]
  },
  {
   "cell_type": "code",
   "execution_count": 233,
   "metadata": {},
   "outputs": [],
   "source": [
    "share = df.pivot_table(index = 'city', columns = 'churn', values = 'gender', aggfunc = len)"
   ]
  },
  {
   "cell_type": "code",
   "execution_count": 234,
   "metadata": {},
   "outputs": [],
   "source": [
    "share['total'] = share[0] + share[1]\n",
    "share['percent'] = round(share[1] / (share['total']), 2)"
   ]
  },
  {
   "cell_type": "code",
   "execution_count": 235,
   "metadata": {},
   "outputs": [
    {
     "data": {
      "text/html": [
       "<div>\n",
       "<style scoped>\n",
       "    .dataframe tbody tr th:only-of-type {\n",
       "        vertical-align: middle;\n",
       "    }\n",
       "\n",
       "    .dataframe tbody tr th {\n",
       "        vertical-align: top;\n",
       "    }\n",
       "\n",
       "    .dataframe thead th {\n",
       "        text-align: right;\n",
       "    }\n",
       "</style>\n",
       "<table border=\"1\" class=\"dataframe\">\n",
       "  <thead>\n",
       "    <tr style=\"text-align: right;\">\n",
       "      <th>churn</th>\n",
       "      <th>0</th>\n",
       "      <th>1</th>\n",
       "      <th>total</th>\n",
       "      <th>percent</th>\n",
       "    </tr>\n",
       "    <tr>\n",
       "      <th>city</th>\n",
       "      <th></th>\n",
       "      <th></th>\n",
       "      <th></th>\n",
       "      <th></th>\n",
       "    </tr>\n",
       "  </thead>\n",
       "  <tbody>\n",
       "    <tr>\n",
       "      <td>Ростов Великий</td>\n",
       "      <td>1695</td>\n",
       "      <td>814</td>\n",
       "      <td>2509</td>\n",
       "      <td>0.32</td>\n",
       "    </tr>\n",
       "    <tr>\n",
       "      <td>Рыбинск</td>\n",
       "      <td>2064</td>\n",
       "      <td>413</td>\n",
       "      <td>2477</td>\n",
       "      <td>0.17</td>\n",
       "    </tr>\n",
       "    <tr>\n",
       "      <td>Ярославль</td>\n",
       "      <td>4204</td>\n",
       "      <td>810</td>\n",
       "      <td>5014</td>\n",
       "      <td>0.16</td>\n",
       "    </tr>\n",
       "  </tbody>\n",
       "</table>\n",
       "</div>"
      ],
      "text/plain": [
       "churn              0    1  total  percent\n",
       "city                                     \n",
       "Ростов Великий  1695  814   2509     0.32\n",
       "Рыбинск         2064  413   2477     0.17\n",
       "Ярославль       4204  810   5014     0.16"
      ]
     },
     "execution_count": 235,
     "metadata": {},
     "output_type": "execute_result"
    }
   ],
   "source": [
    "share"
   ]
  },
  {
   "cell_type": "markdown",
   "metadata": {},
   "source": [
    "Теперь построим круговую диаграмму "
   ]
  },
  {
   "cell_type": "code",
   "execution_count": 236,
   "metadata": {},
   "outputs": [
    {
     "data": {
      "application/vnd.plotly.v1+json": {
       "config": {
        "plotlyServerURL": "https://plot.ly"
       },
       "data": [
        {
         "domain": {
          "x": [
           0,
           0.2888888888888889
          ],
          "y": [
           0,
           1
          ]
         },
         "labels": [
          "stayed",
          "lost"
         ],
         "marker": {
          "colors": [
           "rgb(33, 75, 99)",
           "rgb(79, 129, 102)",
           "rgb(151, 179, 100)"
          ]
         },
         "name": "Ростов Великий",
         "type": "pie",
         "values": [
          1695,
          814
         ]
        },
        {
         "domain": {
          "x": [
           0.35555555555555557,
           0.6444444444444445
          ],
          "y": [
           0,
           1
          ]
         },
         "labels": [
          "stayed",
          "lost"
         ],
         "marker": {
          "colors": [
           "rgb(33, 75, 99)",
           "rgb(79, 129, 102)",
           "rgb(151, 179, 100)"
          ]
         },
         "name": "Рыбинск",
         "type": "pie",
         "values": [
          2064,
          413
         ]
        },
        {
         "domain": {
          "x": [
           0.7111111111111111,
           1
          ],
          "y": [
           0,
           1
          ]
         },
         "labels": [
          "stayed",
          "lost"
         ],
         "marker": {
          "colors": [
           "rgb(33, 75, 99)",
           "rgb(79, 129, 102)",
           "rgb(151, 179, 100)"
          ]
         },
         "name": "Ярославль",
         "type": "pie",
         "values": [
          4204,
          810
         ]
        }
       ],
       "layout": {
        "annotations": [
         {
          "font": {
           "size": 16
          },
          "showarrow": false,
          "text": "Ростов Великий",
          "x": 0.14444444444444446,
          "xanchor": "center",
          "xref": "paper",
          "y": 1,
          "yanchor": "bottom",
          "yref": "paper"
         },
         {
          "font": {
           "size": 16
          },
          "showarrow": false,
          "text": "Рыбинск",
          "x": 0.5,
          "xanchor": "center",
          "xref": "paper",
          "y": 1,
          "yanchor": "bottom",
          "yref": "paper"
         },
         {
          "font": {
           "size": 16
          },
          "showarrow": false,
          "text": "Ярославль",
          "x": 0.8555555555555556,
          "xanchor": "center",
          "xref": "paper",
          "y": 1,
          "yanchor": "bottom",
          "yref": "paper"
         }
        ],
        "template": {
         "data": {
          "bar": [
           {
            "error_x": {
             "color": "#2a3f5f"
            },
            "error_y": {
             "color": "#2a3f5f"
            },
            "marker": {
             "line": {
              "color": "#E5ECF6",
              "width": 0.5
             }
            },
            "type": "bar"
           }
          ],
          "barpolar": [
           {
            "marker": {
             "line": {
              "color": "#E5ECF6",
              "width": 0.5
             }
            },
            "type": "barpolar"
           }
          ],
          "carpet": [
           {
            "aaxis": {
             "endlinecolor": "#2a3f5f",
             "gridcolor": "white",
             "linecolor": "white",
             "minorgridcolor": "white",
             "startlinecolor": "#2a3f5f"
            },
            "baxis": {
             "endlinecolor": "#2a3f5f",
             "gridcolor": "white",
             "linecolor": "white",
             "minorgridcolor": "white",
             "startlinecolor": "#2a3f5f"
            },
            "type": "carpet"
           }
          ],
          "choropleth": [
           {
            "colorbar": {
             "outlinewidth": 0,
             "ticks": ""
            },
            "type": "choropleth"
           }
          ],
          "contour": [
           {
            "colorbar": {
             "outlinewidth": 0,
             "ticks": ""
            },
            "colorscale": [
             [
              0,
              "#0d0887"
             ],
             [
              0.1111111111111111,
              "#46039f"
             ],
             [
              0.2222222222222222,
              "#7201a8"
             ],
             [
              0.3333333333333333,
              "#9c179e"
             ],
             [
              0.4444444444444444,
              "#bd3786"
             ],
             [
              0.5555555555555556,
              "#d8576b"
             ],
             [
              0.6666666666666666,
              "#ed7953"
             ],
             [
              0.7777777777777778,
              "#fb9f3a"
             ],
             [
              0.8888888888888888,
              "#fdca26"
             ],
             [
              1,
              "#f0f921"
             ]
            ],
            "type": "contour"
           }
          ],
          "contourcarpet": [
           {
            "colorbar": {
             "outlinewidth": 0,
             "ticks": ""
            },
            "type": "contourcarpet"
           }
          ],
          "heatmap": [
           {
            "colorbar": {
             "outlinewidth": 0,
             "ticks": ""
            },
            "colorscale": [
             [
              0,
              "#0d0887"
             ],
             [
              0.1111111111111111,
              "#46039f"
             ],
             [
              0.2222222222222222,
              "#7201a8"
             ],
             [
              0.3333333333333333,
              "#9c179e"
             ],
             [
              0.4444444444444444,
              "#bd3786"
             ],
             [
              0.5555555555555556,
              "#d8576b"
             ],
             [
              0.6666666666666666,
              "#ed7953"
             ],
             [
              0.7777777777777778,
              "#fb9f3a"
             ],
             [
              0.8888888888888888,
              "#fdca26"
             ],
             [
              1,
              "#f0f921"
             ]
            ],
            "type": "heatmap"
           }
          ],
          "heatmapgl": [
           {
            "colorbar": {
             "outlinewidth": 0,
             "ticks": ""
            },
            "colorscale": [
             [
              0,
              "#0d0887"
             ],
             [
              0.1111111111111111,
              "#46039f"
             ],
             [
              0.2222222222222222,
              "#7201a8"
             ],
             [
              0.3333333333333333,
              "#9c179e"
             ],
             [
              0.4444444444444444,
              "#bd3786"
             ],
             [
              0.5555555555555556,
              "#d8576b"
             ],
             [
              0.6666666666666666,
              "#ed7953"
             ],
             [
              0.7777777777777778,
              "#fb9f3a"
             ],
             [
              0.8888888888888888,
              "#fdca26"
             ],
             [
              1,
              "#f0f921"
             ]
            ],
            "type": "heatmapgl"
           }
          ],
          "histogram": [
           {
            "marker": {
             "colorbar": {
              "outlinewidth": 0,
              "ticks": ""
             }
            },
            "type": "histogram"
           }
          ],
          "histogram2d": [
           {
            "colorbar": {
             "outlinewidth": 0,
             "ticks": ""
            },
            "colorscale": [
             [
              0,
              "#0d0887"
             ],
             [
              0.1111111111111111,
              "#46039f"
             ],
             [
              0.2222222222222222,
              "#7201a8"
             ],
             [
              0.3333333333333333,
              "#9c179e"
             ],
             [
              0.4444444444444444,
              "#bd3786"
             ],
             [
              0.5555555555555556,
              "#d8576b"
             ],
             [
              0.6666666666666666,
              "#ed7953"
             ],
             [
              0.7777777777777778,
              "#fb9f3a"
             ],
             [
              0.8888888888888888,
              "#fdca26"
             ],
             [
              1,
              "#f0f921"
             ]
            ],
            "type": "histogram2d"
           }
          ],
          "histogram2dcontour": [
           {
            "colorbar": {
             "outlinewidth": 0,
             "ticks": ""
            },
            "colorscale": [
             [
              0,
              "#0d0887"
             ],
             [
              0.1111111111111111,
              "#46039f"
             ],
             [
              0.2222222222222222,
              "#7201a8"
             ],
             [
              0.3333333333333333,
              "#9c179e"
             ],
             [
              0.4444444444444444,
              "#bd3786"
             ],
             [
              0.5555555555555556,
              "#d8576b"
             ],
             [
              0.6666666666666666,
              "#ed7953"
             ],
             [
              0.7777777777777778,
              "#fb9f3a"
             ],
             [
              0.8888888888888888,
              "#fdca26"
             ],
             [
              1,
              "#f0f921"
             ]
            ],
            "type": "histogram2dcontour"
           }
          ],
          "mesh3d": [
           {
            "colorbar": {
             "outlinewidth": 0,
             "ticks": ""
            },
            "type": "mesh3d"
           }
          ],
          "parcoords": [
           {
            "line": {
             "colorbar": {
              "outlinewidth": 0,
              "ticks": ""
             }
            },
            "type": "parcoords"
           }
          ],
          "pie": [
           {
            "automargin": true,
            "type": "pie"
           }
          ],
          "scatter": [
           {
            "marker": {
             "colorbar": {
              "outlinewidth": 0,
              "ticks": ""
             }
            },
            "type": "scatter"
           }
          ],
          "scatter3d": [
           {
            "line": {
             "colorbar": {
              "outlinewidth": 0,
              "ticks": ""
             }
            },
            "marker": {
             "colorbar": {
              "outlinewidth": 0,
              "ticks": ""
             }
            },
            "type": "scatter3d"
           }
          ],
          "scattercarpet": [
           {
            "marker": {
             "colorbar": {
              "outlinewidth": 0,
              "ticks": ""
             }
            },
            "type": "scattercarpet"
           }
          ],
          "scattergeo": [
           {
            "marker": {
             "colorbar": {
              "outlinewidth": 0,
              "ticks": ""
             }
            },
            "type": "scattergeo"
           }
          ],
          "scattergl": [
           {
            "marker": {
             "colorbar": {
              "outlinewidth": 0,
              "ticks": ""
             }
            },
            "type": "scattergl"
           }
          ],
          "scattermapbox": [
           {
            "marker": {
             "colorbar": {
              "outlinewidth": 0,
              "ticks": ""
             }
            },
            "type": "scattermapbox"
           }
          ],
          "scatterpolar": [
           {
            "marker": {
             "colorbar": {
              "outlinewidth": 0,
              "ticks": ""
             }
            },
            "type": "scatterpolar"
           }
          ],
          "scatterpolargl": [
           {
            "marker": {
             "colorbar": {
              "outlinewidth": 0,
              "ticks": ""
             }
            },
            "type": "scatterpolargl"
           }
          ],
          "scatterternary": [
           {
            "marker": {
             "colorbar": {
              "outlinewidth": 0,
              "ticks": ""
             }
            },
            "type": "scatterternary"
           }
          ],
          "surface": [
           {
            "colorbar": {
             "outlinewidth": 0,
             "ticks": ""
            },
            "colorscale": [
             [
              0,
              "#0d0887"
             ],
             [
              0.1111111111111111,
              "#46039f"
             ],
             [
              0.2222222222222222,
              "#7201a8"
             ],
             [
              0.3333333333333333,
              "#9c179e"
             ],
             [
              0.4444444444444444,
              "#bd3786"
             ],
             [
              0.5555555555555556,
              "#d8576b"
             ],
             [
              0.6666666666666666,
              "#ed7953"
             ],
             [
              0.7777777777777778,
              "#fb9f3a"
             ],
             [
              0.8888888888888888,
              "#fdca26"
             ],
             [
              1,
              "#f0f921"
             ]
            ],
            "type": "surface"
           }
          ],
          "table": [
           {
            "cells": {
             "fill": {
              "color": "#EBF0F8"
             },
             "line": {
              "color": "white"
             }
            },
            "header": {
             "fill": {
              "color": "#C8D4E3"
             },
             "line": {
              "color": "white"
             }
            },
            "type": "table"
           }
          ]
         },
         "layout": {
          "annotationdefaults": {
           "arrowcolor": "#2a3f5f",
           "arrowhead": 0,
           "arrowwidth": 1
          },
          "coloraxis": {
           "colorbar": {
            "outlinewidth": 0,
            "ticks": ""
           }
          },
          "colorscale": {
           "diverging": [
            [
             0,
             "#8e0152"
            ],
            [
             0.1,
             "#c51b7d"
            ],
            [
             0.2,
             "#de77ae"
            ],
            [
             0.3,
             "#f1b6da"
            ],
            [
             0.4,
             "#fde0ef"
            ],
            [
             0.5,
             "#f7f7f7"
            ],
            [
             0.6,
             "#e6f5d0"
            ],
            [
             0.7,
             "#b8e186"
            ],
            [
             0.8,
             "#7fbc41"
            ],
            [
             0.9,
             "#4d9221"
            ],
            [
             1,
             "#276419"
            ]
           ],
           "sequential": [
            [
             0,
             "#0d0887"
            ],
            [
             0.1111111111111111,
             "#46039f"
            ],
            [
             0.2222222222222222,
             "#7201a8"
            ],
            [
             0.3333333333333333,
             "#9c179e"
            ],
            [
             0.4444444444444444,
             "#bd3786"
            ],
            [
             0.5555555555555556,
             "#d8576b"
            ],
            [
             0.6666666666666666,
             "#ed7953"
            ],
            [
             0.7777777777777778,
             "#fb9f3a"
            ],
            [
             0.8888888888888888,
             "#fdca26"
            ],
            [
             1,
             "#f0f921"
            ]
           ],
           "sequentialminus": [
            [
             0,
             "#0d0887"
            ],
            [
             0.1111111111111111,
             "#46039f"
            ],
            [
             0.2222222222222222,
             "#7201a8"
            ],
            [
             0.3333333333333333,
             "#9c179e"
            ],
            [
             0.4444444444444444,
             "#bd3786"
            ],
            [
             0.5555555555555556,
             "#d8576b"
            ],
            [
             0.6666666666666666,
             "#ed7953"
            ],
            [
             0.7777777777777778,
             "#fb9f3a"
            ],
            [
             0.8888888888888888,
             "#fdca26"
            ],
            [
             1,
             "#f0f921"
            ]
           ]
          },
          "colorway": [
           "#636efa",
           "#EF553B",
           "#00cc96",
           "#ab63fa",
           "#FFA15A",
           "#19d3f3",
           "#FF6692",
           "#B6E880",
           "#FF97FF",
           "#FECB52"
          ],
          "font": {
           "color": "#2a3f5f"
          },
          "geo": {
           "bgcolor": "white",
           "lakecolor": "white",
           "landcolor": "#E5ECF6",
           "showlakes": true,
           "showland": true,
           "subunitcolor": "white"
          },
          "hoverlabel": {
           "align": "left"
          },
          "hovermode": "closest",
          "mapbox": {
           "style": "light"
          },
          "paper_bgcolor": "white",
          "plot_bgcolor": "#E5ECF6",
          "polar": {
           "angularaxis": {
            "gridcolor": "white",
            "linecolor": "white",
            "ticks": ""
           },
           "bgcolor": "#E5ECF6",
           "radialaxis": {
            "gridcolor": "white",
            "linecolor": "white",
            "ticks": ""
           }
          },
          "scene": {
           "xaxis": {
            "backgroundcolor": "#E5ECF6",
            "gridcolor": "white",
            "gridwidth": 2,
            "linecolor": "white",
            "showbackground": true,
            "ticks": "",
            "zerolinecolor": "white"
           },
           "yaxis": {
            "backgroundcolor": "#E5ECF6",
            "gridcolor": "white",
            "gridwidth": 2,
            "linecolor": "white",
            "showbackground": true,
            "ticks": "",
            "zerolinecolor": "white"
           },
           "zaxis": {
            "backgroundcolor": "#E5ECF6",
            "gridcolor": "white",
            "gridwidth": 2,
            "linecolor": "white",
            "showbackground": true,
            "ticks": "",
            "zerolinecolor": "white"
           }
          },
          "shapedefaults": {
           "line": {
            "color": "#2a3f5f"
           }
          },
          "ternary": {
           "aaxis": {
            "gridcolor": "white",
            "linecolor": "white",
            "ticks": ""
           },
           "baxis": {
            "gridcolor": "white",
            "linecolor": "white",
            "ticks": ""
           },
           "bgcolor": "#E5ECF6",
           "caxis": {
            "gridcolor": "white",
            "linecolor": "white",
            "ticks": ""
           }
          },
          "title": {
           "x": 0.05
          },
          "xaxis": {
           "automargin": true,
           "gridcolor": "white",
           "linecolor": "white",
           "ticks": "",
           "title": {
            "standoff": 15
           },
           "zerolinecolor": "white",
           "zerolinewidth": 2
          },
          "yaxis": {
           "automargin": true,
           "gridcolor": "white",
           "linecolor": "white",
           "ticks": "",
           "title": {
            "standoff": 15
           },
           "zerolinecolor": "white",
           "zerolinewidth": 2
          }
         }
        },
        "title": {
         "text": "Распределение по городам ушедших и оставшихся пользователей"
        }
       }
      },
      "text/html": [
       "<div>\n",
       "        \n",
       "        \n",
       "            <div id=\"6754febd-40a3-479d-8ee0-798677d26d90\" class=\"plotly-graph-div\" style=\"height:525px; width:100%;\"></div>\n",
       "            <script type=\"text/javascript\">\n",
       "                require([\"plotly\"], function(Plotly) {\n",
       "                    window.PLOTLYENV=window.PLOTLYENV || {};\n",
       "                    \n",
       "                if (document.getElementById(\"6754febd-40a3-479d-8ee0-798677d26d90\")) {\n",
       "                    Plotly.newPlot(\n",
       "                        '6754febd-40a3-479d-8ee0-798677d26d90',\n",
       "                        [{\"domain\": {\"x\": [0.0, 0.2888888888888889], \"y\": [0.0, 1.0]}, \"labels\": [\"stayed\", \"lost\"], \"marker\": {\"colors\": [\"rgb(33, 75, 99)\", \"rgb(79, 129, 102)\", \"rgb(151, 179, 100)\"]}, \"name\": \"\\u0420\\u043e\\u0441\\u0442\\u043e\\u0432 \\u0412\\u0435\\u043b\\u0438\\u043a\\u0438\\u0439\", \"type\": \"pie\", \"values\": [1695, 814]}, {\"domain\": {\"x\": [0.35555555555555557, 0.6444444444444445], \"y\": [0.0, 1.0]}, \"labels\": [\"stayed\", \"lost\"], \"marker\": {\"colors\": [\"rgb(33, 75, 99)\", \"rgb(79, 129, 102)\", \"rgb(151, 179, 100)\"]}, \"name\": \"\\u0420\\u044b\\u0431\\u0438\\u043d\\u0441\\u043a\", \"type\": \"pie\", \"values\": [2064, 413]}, {\"domain\": {\"x\": [0.7111111111111111, 1.0], \"y\": [0.0, 1.0]}, \"labels\": [\"stayed\", \"lost\"], \"marker\": {\"colors\": [\"rgb(33, 75, 99)\", \"rgb(79, 129, 102)\", \"rgb(151, 179, 100)\"]}, \"name\": \"\\u042f\\u0440\\u043e\\u0441\\u043b\\u0430\\u0432\\u043b\\u044c\", \"type\": \"pie\", \"values\": [4204, 810]}],\n",
       "                        {\"annotations\": [{\"font\": {\"size\": 16}, \"showarrow\": false, \"text\": \"\\u0420\\u043e\\u0441\\u0442\\u043e\\u0432 \\u0412\\u0435\\u043b\\u0438\\u043a\\u0438\\u0439\", \"x\": 0.14444444444444446, \"xanchor\": \"center\", \"xref\": \"paper\", \"y\": 1.0, \"yanchor\": \"bottom\", \"yref\": \"paper\"}, {\"font\": {\"size\": 16}, \"showarrow\": false, \"text\": \"\\u0420\\u044b\\u0431\\u0438\\u043d\\u0441\\u043a\", \"x\": 0.5, \"xanchor\": \"center\", \"xref\": \"paper\", \"y\": 1.0, \"yanchor\": \"bottom\", \"yref\": \"paper\"}, {\"font\": {\"size\": 16}, \"showarrow\": false, \"text\": \"\\u042f\\u0440\\u043e\\u0441\\u043b\\u0430\\u0432\\u043b\\u044c\", \"x\": 0.8555555555555556, \"xanchor\": \"center\", \"xref\": \"paper\", \"y\": 1.0, \"yanchor\": \"bottom\", \"yref\": \"paper\"}], \"template\": {\"data\": {\"bar\": [{\"error_x\": {\"color\": \"#2a3f5f\"}, \"error_y\": {\"color\": \"#2a3f5f\"}, \"marker\": {\"line\": {\"color\": \"#E5ECF6\", \"width\": 0.5}}, \"type\": \"bar\"}], \"barpolar\": [{\"marker\": {\"line\": {\"color\": \"#E5ECF6\", \"width\": 0.5}}, \"type\": \"barpolar\"}], \"carpet\": [{\"aaxis\": {\"endlinecolor\": \"#2a3f5f\", \"gridcolor\": \"white\", \"linecolor\": \"white\", \"minorgridcolor\": \"white\", \"startlinecolor\": \"#2a3f5f\"}, \"baxis\": {\"endlinecolor\": \"#2a3f5f\", \"gridcolor\": \"white\", \"linecolor\": \"white\", \"minorgridcolor\": \"white\", \"startlinecolor\": \"#2a3f5f\"}, \"type\": \"carpet\"}], \"choropleth\": [{\"colorbar\": {\"outlinewidth\": 0, \"ticks\": \"\"}, \"type\": \"choropleth\"}], \"contour\": [{\"colorbar\": {\"outlinewidth\": 0, \"ticks\": \"\"}, \"colorscale\": [[0.0, \"#0d0887\"], [0.1111111111111111, \"#46039f\"], [0.2222222222222222, \"#7201a8\"], [0.3333333333333333, \"#9c179e\"], [0.4444444444444444, \"#bd3786\"], [0.5555555555555556, \"#d8576b\"], [0.6666666666666666, \"#ed7953\"], [0.7777777777777778, \"#fb9f3a\"], [0.8888888888888888, \"#fdca26\"], [1.0, \"#f0f921\"]], \"type\": \"contour\"}], \"contourcarpet\": [{\"colorbar\": {\"outlinewidth\": 0, \"ticks\": \"\"}, \"type\": \"contourcarpet\"}], \"heatmap\": [{\"colorbar\": {\"outlinewidth\": 0, \"ticks\": \"\"}, \"colorscale\": [[0.0, \"#0d0887\"], [0.1111111111111111, \"#46039f\"], [0.2222222222222222, \"#7201a8\"], [0.3333333333333333, \"#9c179e\"], [0.4444444444444444, \"#bd3786\"], [0.5555555555555556, \"#d8576b\"], [0.6666666666666666, \"#ed7953\"], [0.7777777777777778, \"#fb9f3a\"], [0.8888888888888888, \"#fdca26\"], [1.0, \"#f0f921\"]], \"type\": \"heatmap\"}], \"heatmapgl\": [{\"colorbar\": {\"outlinewidth\": 0, \"ticks\": \"\"}, \"colorscale\": [[0.0, \"#0d0887\"], [0.1111111111111111, \"#46039f\"], [0.2222222222222222, \"#7201a8\"], [0.3333333333333333, \"#9c179e\"], [0.4444444444444444, \"#bd3786\"], [0.5555555555555556, \"#d8576b\"], [0.6666666666666666, \"#ed7953\"], [0.7777777777777778, \"#fb9f3a\"], [0.8888888888888888, \"#fdca26\"], [1.0, \"#f0f921\"]], \"type\": \"heatmapgl\"}], \"histogram\": [{\"marker\": {\"colorbar\": {\"outlinewidth\": 0, \"ticks\": \"\"}}, \"type\": \"histogram\"}], \"histogram2d\": [{\"colorbar\": {\"outlinewidth\": 0, \"ticks\": \"\"}, \"colorscale\": [[0.0, \"#0d0887\"], [0.1111111111111111, \"#46039f\"], [0.2222222222222222, \"#7201a8\"], [0.3333333333333333, \"#9c179e\"], [0.4444444444444444, \"#bd3786\"], [0.5555555555555556, \"#d8576b\"], [0.6666666666666666, \"#ed7953\"], [0.7777777777777778, \"#fb9f3a\"], [0.8888888888888888, \"#fdca26\"], [1.0, \"#f0f921\"]], \"type\": \"histogram2d\"}], \"histogram2dcontour\": [{\"colorbar\": {\"outlinewidth\": 0, \"ticks\": \"\"}, \"colorscale\": [[0.0, \"#0d0887\"], [0.1111111111111111, \"#46039f\"], [0.2222222222222222, \"#7201a8\"], [0.3333333333333333, \"#9c179e\"], [0.4444444444444444, \"#bd3786\"], [0.5555555555555556, \"#d8576b\"], [0.6666666666666666, \"#ed7953\"], [0.7777777777777778, \"#fb9f3a\"], [0.8888888888888888, \"#fdca26\"], [1.0, \"#f0f921\"]], \"type\": \"histogram2dcontour\"}], \"mesh3d\": [{\"colorbar\": {\"outlinewidth\": 0, \"ticks\": \"\"}, \"type\": \"mesh3d\"}], \"parcoords\": [{\"line\": {\"colorbar\": {\"outlinewidth\": 0, \"ticks\": \"\"}}, \"type\": \"parcoords\"}], \"pie\": [{\"automargin\": true, \"type\": \"pie\"}], \"scatter\": [{\"marker\": {\"colorbar\": {\"outlinewidth\": 0, \"ticks\": \"\"}}, \"type\": \"scatter\"}], \"scatter3d\": [{\"line\": {\"colorbar\": {\"outlinewidth\": 0, \"ticks\": \"\"}}, \"marker\": {\"colorbar\": {\"outlinewidth\": 0, \"ticks\": \"\"}}, \"type\": \"scatter3d\"}], \"scattercarpet\": [{\"marker\": {\"colorbar\": {\"outlinewidth\": 0, \"ticks\": \"\"}}, \"type\": \"scattercarpet\"}], \"scattergeo\": [{\"marker\": {\"colorbar\": {\"outlinewidth\": 0, \"ticks\": \"\"}}, \"type\": \"scattergeo\"}], \"scattergl\": [{\"marker\": {\"colorbar\": {\"outlinewidth\": 0, \"ticks\": \"\"}}, \"type\": \"scattergl\"}], \"scattermapbox\": [{\"marker\": {\"colorbar\": {\"outlinewidth\": 0, \"ticks\": \"\"}}, \"type\": \"scattermapbox\"}], \"scatterpolar\": [{\"marker\": {\"colorbar\": {\"outlinewidth\": 0, \"ticks\": \"\"}}, \"type\": \"scatterpolar\"}], \"scatterpolargl\": [{\"marker\": {\"colorbar\": {\"outlinewidth\": 0, \"ticks\": \"\"}}, \"type\": \"scatterpolargl\"}], \"scatterternary\": [{\"marker\": {\"colorbar\": {\"outlinewidth\": 0, \"ticks\": \"\"}}, \"type\": \"scatterternary\"}], \"surface\": [{\"colorbar\": {\"outlinewidth\": 0, \"ticks\": \"\"}, \"colorscale\": [[0.0, \"#0d0887\"], [0.1111111111111111, \"#46039f\"], [0.2222222222222222, \"#7201a8\"], [0.3333333333333333, \"#9c179e\"], [0.4444444444444444, \"#bd3786\"], [0.5555555555555556, \"#d8576b\"], [0.6666666666666666, \"#ed7953\"], [0.7777777777777778, \"#fb9f3a\"], [0.8888888888888888, \"#fdca26\"], [1.0, \"#f0f921\"]], \"type\": \"surface\"}], \"table\": [{\"cells\": {\"fill\": {\"color\": \"#EBF0F8\"}, \"line\": {\"color\": \"white\"}}, \"header\": {\"fill\": {\"color\": \"#C8D4E3\"}, \"line\": {\"color\": \"white\"}}, \"type\": \"table\"}]}, \"layout\": {\"annotationdefaults\": {\"arrowcolor\": \"#2a3f5f\", \"arrowhead\": 0, \"arrowwidth\": 1}, \"coloraxis\": {\"colorbar\": {\"outlinewidth\": 0, \"ticks\": \"\"}}, \"colorscale\": {\"diverging\": [[0, \"#8e0152\"], [0.1, \"#c51b7d\"], [0.2, \"#de77ae\"], [0.3, \"#f1b6da\"], [0.4, \"#fde0ef\"], [0.5, \"#f7f7f7\"], [0.6, \"#e6f5d0\"], [0.7, \"#b8e186\"], [0.8, \"#7fbc41\"], [0.9, \"#4d9221\"], [1, \"#276419\"]], \"sequential\": [[0.0, \"#0d0887\"], [0.1111111111111111, \"#46039f\"], [0.2222222222222222, \"#7201a8\"], [0.3333333333333333, \"#9c179e\"], [0.4444444444444444, \"#bd3786\"], [0.5555555555555556, \"#d8576b\"], [0.6666666666666666, \"#ed7953\"], [0.7777777777777778, \"#fb9f3a\"], [0.8888888888888888, \"#fdca26\"], [1.0, \"#f0f921\"]], \"sequentialminus\": [[0.0, \"#0d0887\"], [0.1111111111111111, \"#46039f\"], [0.2222222222222222, \"#7201a8\"], [0.3333333333333333, \"#9c179e\"], [0.4444444444444444, \"#bd3786\"], [0.5555555555555556, \"#d8576b\"], [0.6666666666666666, \"#ed7953\"], [0.7777777777777778, \"#fb9f3a\"], [0.8888888888888888, \"#fdca26\"], [1.0, \"#f0f921\"]]}, \"colorway\": [\"#636efa\", \"#EF553B\", \"#00cc96\", \"#ab63fa\", \"#FFA15A\", \"#19d3f3\", \"#FF6692\", \"#B6E880\", \"#FF97FF\", \"#FECB52\"], \"font\": {\"color\": \"#2a3f5f\"}, \"geo\": {\"bgcolor\": \"white\", \"lakecolor\": \"white\", \"landcolor\": \"#E5ECF6\", \"showlakes\": true, \"showland\": true, \"subunitcolor\": \"white\"}, \"hoverlabel\": {\"align\": \"left\"}, \"hovermode\": \"closest\", \"mapbox\": {\"style\": \"light\"}, \"paper_bgcolor\": \"white\", \"plot_bgcolor\": \"#E5ECF6\", \"polar\": {\"angularaxis\": {\"gridcolor\": \"white\", \"linecolor\": \"white\", \"ticks\": \"\"}, \"bgcolor\": \"#E5ECF6\", \"radialaxis\": {\"gridcolor\": \"white\", \"linecolor\": \"white\", \"ticks\": \"\"}}, \"scene\": {\"xaxis\": {\"backgroundcolor\": \"#E5ECF6\", \"gridcolor\": \"white\", \"gridwidth\": 2, \"linecolor\": \"white\", \"showbackground\": true, \"ticks\": \"\", \"zerolinecolor\": \"white\"}, \"yaxis\": {\"backgroundcolor\": \"#E5ECF6\", \"gridcolor\": \"white\", \"gridwidth\": 2, \"linecolor\": \"white\", \"showbackground\": true, \"ticks\": \"\", \"zerolinecolor\": \"white\"}, \"zaxis\": {\"backgroundcolor\": \"#E5ECF6\", \"gridcolor\": \"white\", \"gridwidth\": 2, \"linecolor\": \"white\", \"showbackground\": true, \"ticks\": \"\", \"zerolinecolor\": \"white\"}}, \"shapedefaults\": {\"line\": {\"color\": \"#2a3f5f\"}}, \"ternary\": {\"aaxis\": {\"gridcolor\": \"white\", \"linecolor\": \"white\", \"ticks\": \"\"}, \"baxis\": {\"gridcolor\": \"white\", \"linecolor\": \"white\", \"ticks\": \"\"}, \"bgcolor\": \"#E5ECF6\", \"caxis\": {\"gridcolor\": \"white\", \"linecolor\": \"white\", \"ticks\": \"\"}}, \"title\": {\"x\": 0.05}, \"xaxis\": {\"automargin\": true, \"gridcolor\": \"white\", \"linecolor\": \"white\", \"ticks\": \"\", \"title\": {\"standoff\": 15}, \"zerolinecolor\": \"white\", \"zerolinewidth\": 2}, \"yaxis\": {\"automargin\": true, \"gridcolor\": \"white\", \"linecolor\": \"white\", \"ticks\": \"\", \"title\": {\"standoff\": 15}, \"zerolinecolor\": \"white\", \"zerolinewidth\": 2}}}, \"title\": {\"text\": \"\\u0420\\u0430\\u0441\\u043f\\u0440\\u0435\\u0434\\u0435\\u043b\\u0435\\u043d\\u0438\\u0435 \\u043f\\u043e \\u0433\\u043e\\u0440\\u043e\\u0434\\u0430\\u043c \\u0443\\u0448\\u0435\\u0434\\u0448\\u0438\\u0445 \\u0438 \\u043e\\u0441\\u0442\\u0430\\u0432\\u0448\\u0438\\u0445\\u0441\\u044f \\u043f\\u043e\\u043b\\u044c\\u0437\\u043e\\u0432\\u0430\\u0442\\u0435\\u043b\\u0435\\u0439\"}},\n",
       "                        {\"responsive\": true}\n",
       "                    ).then(function(){\n",
       "                            \n",
       "var gd = document.getElementById('6754febd-40a3-479d-8ee0-798677d26d90');\n",
       "var x = new MutationObserver(function (mutations, observer) {{\n",
       "        var display = window.getComputedStyle(gd).display;\n",
       "        if (!display || display === 'none') {{\n",
       "            console.log([gd, 'removed!']);\n",
       "            Plotly.purge(gd);\n",
       "            observer.disconnect();\n",
       "        }}\n",
       "}});\n",
       "\n",
       "// Listen for the removal of the full notebook cells\n",
       "var notebookContainer = gd.closest('#notebook-container');\n",
       "if (notebookContainer) {{\n",
       "    x.observe(notebookContainer, {childList: true});\n",
       "}}\n",
       "\n",
       "// Listen for the clearing of the current output cell\n",
       "var outputEl = gd.closest('.output');\n",
       "if (outputEl) {{\n",
       "    x.observe(outputEl, {childList: true});\n",
       "}}\n",
       "\n",
       "                        })\n",
       "                };\n",
       "                });\n",
       "            </script>\n",
       "        </div>"
      ]
     },
     "metadata": {},
     "output_type": "display_data"
    }
   ],
   "source": [
    "colors = ['rgb(33, 75, 99)', 'rgb(79, 129, 102)', 'rgb(151, 179, 100)']\n",
    "column1 = [1695, 814]\n",
    "column2 = [2064, 413]\n",
    "column3 = [4204, 810]\n",
    "\n",
    "data = ['stayed', 'lost']\n",
    "\n",
    "\n",
    "fig = make_subplots(1, 3, specs=[[{'type':'domain'}, {'type':'domain'}, {'type':'domain'}]],\n",
    "                    subplot_titles=['Ростов Великий', 'Рыбинск', 'Ярославль'])\n",
    "fig.add_trace(go.Pie(labels= data, values=column1,\n",
    "                     name=\"Ростов Великий\", marker_colors=colors), 1, 1)\n",
    "fig.add_trace(go.Pie(labels= data, values= column2,\n",
    "                     name=\"Рыбинск\", marker_colors=colors), 1, 2)\n",
    "fig.add_trace(go.Pie(labels= data, values= column3,\n",
    "                     name=\"Ярославль\", marker_colors=colors), 1, 3)\n",
    "\n",
    "\n",
    "fig.update_layout(title_text='Распределение по городам ушедших и оставшихся пользователей')\n",
    "fig.show()"
   ]
  },
  {
   "cell_type": "markdown",
   "metadata": {},
   "source": [
    "## Вывод: \n",
    "\n",
    "Здесь мы видим, что чаще всего покидают банк клиенты из Ростова Великого. В свою очередь, это нам может говорить о том, в городе могут быть невыгодные условия для клиентов, из-за чего они уходят. Возможно, сотрудники самого банка не дорабатывают."
   ]
  },
  {
   "cell_type": "markdown",
   "metadata": {},
   "source": [
    "Теперь проделаем тоже самое, только для гендерных признаков"
   ]
  },
  {
   "cell_type": "code",
   "execution_count": 237,
   "metadata": {},
   "outputs": [],
   "source": [
    "man_woman = df.pivot_table(index = 'gender', columns = 'churn',values = 'age', aggfunc = len)"
   ]
  },
  {
   "cell_type": "code",
   "execution_count": 238,
   "metadata": {},
   "outputs": [],
   "source": [
    "man_woman['total'] = man_woman[0] + man_woman[1]\n",
    "man_woman['percent'] = round(man_woman[1] / (man_woman['total']), 2)"
   ]
  },
  {
   "cell_type": "code",
   "execution_count": 239,
   "metadata": {},
   "outputs": [
    {
     "data": {
      "text/html": [
       "<div>\n",
       "<style scoped>\n",
       "    .dataframe tbody tr th:only-of-type {\n",
       "        vertical-align: middle;\n",
       "    }\n",
       "\n",
       "    .dataframe tbody tr th {\n",
       "        vertical-align: top;\n",
       "    }\n",
       "\n",
       "    .dataframe thead th {\n",
       "        text-align: right;\n",
       "    }\n",
       "</style>\n",
       "<table border=\"1\" class=\"dataframe\">\n",
       "  <thead>\n",
       "    <tr style=\"text-align: right;\">\n",
       "      <th>churn</th>\n",
       "      <th>0</th>\n",
       "      <th>1</th>\n",
       "      <th>total</th>\n",
       "      <th>percent</th>\n",
       "    </tr>\n",
       "    <tr>\n",
       "      <th>gender</th>\n",
       "      <th></th>\n",
       "      <th></th>\n",
       "      <th></th>\n",
       "      <th></th>\n",
       "    </tr>\n",
       "  </thead>\n",
       "  <tbody>\n",
       "    <tr>\n",
       "      <td>Ж</td>\n",
       "      <td>3404</td>\n",
       "      <td>1139</td>\n",
       "      <td>4543</td>\n",
       "      <td>0.25</td>\n",
       "    </tr>\n",
       "    <tr>\n",
       "      <td>М</td>\n",
       "      <td>4559</td>\n",
       "      <td>898</td>\n",
       "      <td>5457</td>\n",
       "      <td>0.16</td>\n",
       "    </tr>\n",
       "  </tbody>\n",
       "</table>\n",
       "</div>"
      ],
      "text/plain": [
       "churn      0     1  total  percent\n",
       "gender                            \n",
       "Ж       3404  1139   4543     0.25\n",
       "М       4559   898   5457     0.16"
      ]
     },
     "execution_count": 239,
     "metadata": {},
     "output_type": "execute_result"
    }
   ],
   "source": [
    "man_woman"
   ]
  },
  {
   "cell_type": "code",
   "execution_count": 240,
   "metadata": {},
   "outputs": [
    {
     "data": {
      "application/vnd.plotly.v1+json": {
       "config": {
        "plotlyServerURL": "https://plot.ly"
       },
       "data": [
        {
         "domain": {
          "x": [
           0,
           0.45
          ],
          "y": [
           0,
           1
          ]
         },
         "labels": [
          "stayed",
          "lost"
         ],
         "marker": {
          "colors": [
           "rgb(33, 75, 99)",
           "rgb(151, 179, 100)"
          ]
         },
         "name": "Ж",
         "type": "pie",
         "values": [
          3404,
          1139
         ]
        },
        {
         "domain": {
          "x": [
           0.55,
           1
          ],
          "y": [
           0,
           1
          ]
         },
         "labels": [
          "stayed",
          "lost"
         ],
         "marker": {
          "colors": [
           "rgb(33, 75, 99)",
           "rgb(151, 179, 100)"
          ]
         },
         "name": "М",
         "type": "pie",
         "values": [
          4559,
          898
         ]
        }
       ],
       "layout": {
        "annotations": [
         {
          "font": {
           "size": 16
          },
          "showarrow": false,
          "text": "Женщины",
          "x": 0.225,
          "xanchor": "center",
          "xref": "paper",
          "y": 1,
          "yanchor": "bottom",
          "yref": "paper"
         },
         {
          "font": {
           "size": 16
          },
          "showarrow": false,
          "text": "Мужчины",
          "x": 0.775,
          "xanchor": "center",
          "xref": "paper",
          "y": 1,
          "yanchor": "bottom",
          "yref": "paper"
         }
        ],
        "template": {
         "data": {
          "bar": [
           {
            "error_x": {
             "color": "#2a3f5f"
            },
            "error_y": {
             "color": "#2a3f5f"
            },
            "marker": {
             "line": {
              "color": "#E5ECF6",
              "width": 0.5
             }
            },
            "type": "bar"
           }
          ],
          "barpolar": [
           {
            "marker": {
             "line": {
              "color": "#E5ECF6",
              "width": 0.5
             }
            },
            "type": "barpolar"
           }
          ],
          "carpet": [
           {
            "aaxis": {
             "endlinecolor": "#2a3f5f",
             "gridcolor": "white",
             "linecolor": "white",
             "minorgridcolor": "white",
             "startlinecolor": "#2a3f5f"
            },
            "baxis": {
             "endlinecolor": "#2a3f5f",
             "gridcolor": "white",
             "linecolor": "white",
             "minorgridcolor": "white",
             "startlinecolor": "#2a3f5f"
            },
            "type": "carpet"
           }
          ],
          "choropleth": [
           {
            "colorbar": {
             "outlinewidth": 0,
             "ticks": ""
            },
            "type": "choropleth"
           }
          ],
          "contour": [
           {
            "colorbar": {
             "outlinewidth": 0,
             "ticks": ""
            },
            "colorscale": [
             [
              0,
              "#0d0887"
             ],
             [
              0.1111111111111111,
              "#46039f"
             ],
             [
              0.2222222222222222,
              "#7201a8"
             ],
             [
              0.3333333333333333,
              "#9c179e"
             ],
             [
              0.4444444444444444,
              "#bd3786"
             ],
             [
              0.5555555555555556,
              "#d8576b"
             ],
             [
              0.6666666666666666,
              "#ed7953"
             ],
             [
              0.7777777777777778,
              "#fb9f3a"
             ],
             [
              0.8888888888888888,
              "#fdca26"
             ],
             [
              1,
              "#f0f921"
             ]
            ],
            "type": "contour"
           }
          ],
          "contourcarpet": [
           {
            "colorbar": {
             "outlinewidth": 0,
             "ticks": ""
            },
            "type": "contourcarpet"
           }
          ],
          "heatmap": [
           {
            "colorbar": {
             "outlinewidth": 0,
             "ticks": ""
            },
            "colorscale": [
             [
              0,
              "#0d0887"
             ],
             [
              0.1111111111111111,
              "#46039f"
             ],
             [
              0.2222222222222222,
              "#7201a8"
             ],
             [
              0.3333333333333333,
              "#9c179e"
             ],
             [
              0.4444444444444444,
              "#bd3786"
             ],
             [
              0.5555555555555556,
              "#d8576b"
             ],
             [
              0.6666666666666666,
              "#ed7953"
             ],
             [
              0.7777777777777778,
              "#fb9f3a"
             ],
             [
              0.8888888888888888,
              "#fdca26"
             ],
             [
              1,
              "#f0f921"
             ]
            ],
            "type": "heatmap"
           }
          ],
          "heatmapgl": [
           {
            "colorbar": {
             "outlinewidth": 0,
             "ticks": ""
            },
            "colorscale": [
             [
              0,
              "#0d0887"
             ],
             [
              0.1111111111111111,
              "#46039f"
             ],
             [
              0.2222222222222222,
              "#7201a8"
             ],
             [
              0.3333333333333333,
              "#9c179e"
             ],
             [
              0.4444444444444444,
              "#bd3786"
             ],
             [
              0.5555555555555556,
              "#d8576b"
             ],
             [
              0.6666666666666666,
              "#ed7953"
             ],
             [
              0.7777777777777778,
              "#fb9f3a"
             ],
             [
              0.8888888888888888,
              "#fdca26"
             ],
             [
              1,
              "#f0f921"
             ]
            ],
            "type": "heatmapgl"
           }
          ],
          "histogram": [
           {
            "marker": {
             "colorbar": {
              "outlinewidth": 0,
              "ticks": ""
             }
            },
            "type": "histogram"
           }
          ],
          "histogram2d": [
           {
            "colorbar": {
             "outlinewidth": 0,
             "ticks": ""
            },
            "colorscale": [
             [
              0,
              "#0d0887"
             ],
             [
              0.1111111111111111,
              "#46039f"
             ],
             [
              0.2222222222222222,
              "#7201a8"
             ],
             [
              0.3333333333333333,
              "#9c179e"
             ],
             [
              0.4444444444444444,
              "#bd3786"
             ],
             [
              0.5555555555555556,
              "#d8576b"
             ],
             [
              0.6666666666666666,
              "#ed7953"
             ],
             [
              0.7777777777777778,
              "#fb9f3a"
             ],
             [
              0.8888888888888888,
              "#fdca26"
             ],
             [
              1,
              "#f0f921"
             ]
            ],
            "type": "histogram2d"
           }
          ],
          "histogram2dcontour": [
           {
            "colorbar": {
             "outlinewidth": 0,
             "ticks": ""
            },
            "colorscale": [
             [
              0,
              "#0d0887"
             ],
             [
              0.1111111111111111,
              "#46039f"
             ],
             [
              0.2222222222222222,
              "#7201a8"
             ],
             [
              0.3333333333333333,
              "#9c179e"
             ],
             [
              0.4444444444444444,
              "#bd3786"
             ],
             [
              0.5555555555555556,
              "#d8576b"
             ],
             [
              0.6666666666666666,
              "#ed7953"
             ],
             [
              0.7777777777777778,
              "#fb9f3a"
             ],
             [
              0.8888888888888888,
              "#fdca26"
             ],
             [
              1,
              "#f0f921"
             ]
            ],
            "type": "histogram2dcontour"
           }
          ],
          "mesh3d": [
           {
            "colorbar": {
             "outlinewidth": 0,
             "ticks": ""
            },
            "type": "mesh3d"
           }
          ],
          "parcoords": [
           {
            "line": {
             "colorbar": {
              "outlinewidth": 0,
              "ticks": ""
             }
            },
            "type": "parcoords"
           }
          ],
          "pie": [
           {
            "automargin": true,
            "type": "pie"
           }
          ],
          "scatter": [
           {
            "marker": {
             "colorbar": {
              "outlinewidth": 0,
              "ticks": ""
             }
            },
            "type": "scatter"
           }
          ],
          "scatter3d": [
           {
            "line": {
             "colorbar": {
              "outlinewidth": 0,
              "ticks": ""
             }
            },
            "marker": {
             "colorbar": {
              "outlinewidth": 0,
              "ticks": ""
             }
            },
            "type": "scatter3d"
           }
          ],
          "scattercarpet": [
           {
            "marker": {
             "colorbar": {
              "outlinewidth": 0,
              "ticks": ""
             }
            },
            "type": "scattercarpet"
           }
          ],
          "scattergeo": [
           {
            "marker": {
             "colorbar": {
              "outlinewidth": 0,
              "ticks": ""
             }
            },
            "type": "scattergeo"
           }
          ],
          "scattergl": [
           {
            "marker": {
             "colorbar": {
              "outlinewidth": 0,
              "ticks": ""
             }
            },
            "type": "scattergl"
           }
          ],
          "scattermapbox": [
           {
            "marker": {
             "colorbar": {
              "outlinewidth": 0,
              "ticks": ""
             }
            },
            "type": "scattermapbox"
           }
          ],
          "scatterpolar": [
           {
            "marker": {
             "colorbar": {
              "outlinewidth": 0,
              "ticks": ""
             }
            },
            "type": "scatterpolar"
           }
          ],
          "scatterpolargl": [
           {
            "marker": {
             "colorbar": {
              "outlinewidth": 0,
              "ticks": ""
             }
            },
            "type": "scatterpolargl"
           }
          ],
          "scatterternary": [
           {
            "marker": {
             "colorbar": {
              "outlinewidth": 0,
              "ticks": ""
             }
            },
            "type": "scatterternary"
           }
          ],
          "surface": [
           {
            "colorbar": {
             "outlinewidth": 0,
             "ticks": ""
            },
            "colorscale": [
             [
              0,
              "#0d0887"
             ],
             [
              0.1111111111111111,
              "#46039f"
             ],
             [
              0.2222222222222222,
              "#7201a8"
             ],
             [
              0.3333333333333333,
              "#9c179e"
             ],
             [
              0.4444444444444444,
              "#bd3786"
             ],
             [
              0.5555555555555556,
              "#d8576b"
             ],
             [
              0.6666666666666666,
              "#ed7953"
             ],
             [
              0.7777777777777778,
              "#fb9f3a"
             ],
             [
              0.8888888888888888,
              "#fdca26"
             ],
             [
              1,
              "#f0f921"
             ]
            ],
            "type": "surface"
           }
          ],
          "table": [
           {
            "cells": {
             "fill": {
              "color": "#EBF0F8"
             },
             "line": {
              "color": "white"
             }
            },
            "header": {
             "fill": {
              "color": "#C8D4E3"
             },
             "line": {
              "color": "white"
             }
            },
            "type": "table"
           }
          ]
         },
         "layout": {
          "annotationdefaults": {
           "arrowcolor": "#2a3f5f",
           "arrowhead": 0,
           "arrowwidth": 1
          },
          "coloraxis": {
           "colorbar": {
            "outlinewidth": 0,
            "ticks": ""
           }
          },
          "colorscale": {
           "diverging": [
            [
             0,
             "#8e0152"
            ],
            [
             0.1,
             "#c51b7d"
            ],
            [
             0.2,
             "#de77ae"
            ],
            [
             0.3,
             "#f1b6da"
            ],
            [
             0.4,
             "#fde0ef"
            ],
            [
             0.5,
             "#f7f7f7"
            ],
            [
             0.6,
             "#e6f5d0"
            ],
            [
             0.7,
             "#b8e186"
            ],
            [
             0.8,
             "#7fbc41"
            ],
            [
             0.9,
             "#4d9221"
            ],
            [
             1,
             "#276419"
            ]
           ],
           "sequential": [
            [
             0,
             "#0d0887"
            ],
            [
             0.1111111111111111,
             "#46039f"
            ],
            [
             0.2222222222222222,
             "#7201a8"
            ],
            [
             0.3333333333333333,
             "#9c179e"
            ],
            [
             0.4444444444444444,
             "#bd3786"
            ],
            [
             0.5555555555555556,
             "#d8576b"
            ],
            [
             0.6666666666666666,
             "#ed7953"
            ],
            [
             0.7777777777777778,
             "#fb9f3a"
            ],
            [
             0.8888888888888888,
             "#fdca26"
            ],
            [
             1,
             "#f0f921"
            ]
           ],
           "sequentialminus": [
            [
             0,
             "#0d0887"
            ],
            [
             0.1111111111111111,
             "#46039f"
            ],
            [
             0.2222222222222222,
             "#7201a8"
            ],
            [
             0.3333333333333333,
             "#9c179e"
            ],
            [
             0.4444444444444444,
             "#bd3786"
            ],
            [
             0.5555555555555556,
             "#d8576b"
            ],
            [
             0.6666666666666666,
             "#ed7953"
            ],
            [
             0.7777777777777778,
             "#fb9f3a"
            ],
            [
             0.8888888888888888,
             "#fdca26"
            ],
            [
             1,
             "#f0f921"
            ]
           ]
          },
          "colorway": [
           "#636efa",
           "#EF553B",
           "#00cc96",
           "#ab63fa",
           "#FFA15A",
           "#19d3f3",
           "#FF6692",
           "#B6E880",
           "#FF97FF",
           "#FECB52"
          ],
          "font": {
           "color": "#2a3f5f"
          },
          "geo": {
           "bgcolor": "white",
           "lakecolor": "white",
           "landcolor": "#E5ECF6",
           "showlakes": true,
           "showland": true,
           "subunitcolor": "white"
          },
          "hoverlabel": {
           "align": "left"
          },
          "hovermode": "closest",
          "mapbox": {
           "style": "light"
          },
          "paper_bgcolor": "white",
          "plot_bgcolor": "#E5ECF6",
          "polar": {
           "angularaxis": {
            "gridcolor": "white",
            "linecolor": "white",
            "ticks": ""
           },
           "bgcolor": "#E5ECF6",
           "radialaxis": {
            "gridcolor": "white",
            "linecolor": "white",
            "ticks": ""
           }
          },
          "scene": {
           "xaxis": {
            "backgroundcolor": "#E5ECF6",
            "gridcolor": "white",
            "gridwidth": 2,
            "linecolor": "white",
            "showbackground": true,
            "ticks": "",
            "zerolinecolor": "white"
           },
           "yaxis": {
            "backgroundcolor": "#E5ECF6",
            "gridcolor": "white",
            "gridwidth": 2,
            "linecolor": "white",
            "showbackground": true,
            "ticks": "",
            "zerolinecolor": "white"
           },
           "zaxis": {
            "backgroundcolor": "#E5ECF6",
            "gridcolor": "white",
            "gridwidth": 2,
            "linecolor": "white",
            "showbackground": true,
            "ticks": "",
            "zerolinecolor": "white"
           }
          },
          "shapedefaults": {
           "line": {
            "color": "#2a3f5f"
           }
          },
          "ternary": {
           "aaxis": {
            "gridcolor": "white",
            "linecolor": "white",
            "ticks": ""
           },
           "baxis": {
            "gridcolor": "white",
            "linecolor": "white",
            "ticks": ""
           },
           "bgcolor": "#E5ECF6",
           "caxis": {
            "gridcolor": "white",
            "linecolor": "white",
            "ticks": ""
           }
          },
          "title": {
           "x": 0.05
          },
          "xaxis": {
           "automargin": true,
           "gridcolor": "white",
           "linecolor": "white",
           "ticks": "",
           "title": {
            "standoff": 15
           },
           "zerolinecolor": "white",
           "zerolinewidth": 2
          },
          "yaxis": {
           "automargin": true,
           "gridcolor": "white",
           "linecolor": "white",
           "ticks": "",
           "title": {
            "standoff": 15
           },
           "zerolinecolor": "white",
           "zerolinewidth": 2
          }
         }
        },
        "title": {
         "text": "Распределение по гендерным признакам ушедших и оставшихся пользователей"
        }
       }
      },
      "text/html": [
       "<div>\n",
       "        \n",
       "        \n",
       "            <div id=\"50ffd8e4-5933-4c00-b0c1-dc5162b298e5\" class=\"plotly-graph-div\" style=\"height:525px; width:100%;\"></div>\n",
       "            <script type=\"text/javascript\">\n",
       "                require([\"plotly\"], function(Plotly) {\n",
       "                    window.PLOTLYENV=window.PLOTLYENV || {};\n",
       "                    \n",
       "                if (document.getElementById(\"50ffd8e4-5933-4c00-b0c1-dc5162b298e5\")) {\n",
       "                    Plotly.newPlot(\n",
       "                        '50ffd8e4-5933-4c00-b0c1-dc5162b298e5',\n",
       "                        [{\"domain\": {\"x\": [0.0, 0.45], \"y\": [0.0, 1.0]}, \"labels\": [\"stayed\", \"lost\"], \"marker\": {\"colors\": [\"rgb(33, 75, 99)\", \"rgb(151, 179, 100)\"]}, \"name\": \"\\u0416\", \"type\": \"pie\", \"values\": [3404, 1139]}, {\"domain\": {\"x\": [0.55, 1.0], \"y\": [0.0, 1.0]}, \"labels\": [\"stayed\", \"lost\"], \"marker\": {\"colors\": [\"rgb(33, 75, 99)\", \"rgb(151, 179, 100)\"]}, \"name\": \"\\u041c\", \"type\": \"pie\", \"values\": [4559, 898]}],\n",
       "                        {\"annotations\": [{\"font\": {\"size\": 16}, \"showarrow\": false, \"text\": \"\\u0416\\u0435\\u043d\\u0449\\u0438\\u043d\\u044b\", \"x\": 0.225, \"xanchor\": \"center\", \"xref\": \"paper\", \"y\": 1.0, \"yanchor\": \"bottom\", \"yref\": \"paper\"}, {\"font\": {\"size\": 16}, \"showarrow\": false, \"text\": \"\\u041c\\u0443\\u0436\\u0447\\u0438\\u043d\\u044b\", \"x\": 0.775, \"xanchor\": \"center\", \"xref\": \"paper\", \"y\": 1.0, \"yanchor\": \"bottom\", \"yref\": \"paper\"}], \"template\": {\"data\": {\"bar\": [{\"error_x\": {\"color\": \"#2a3f5f\"}, \"error_y\": {\"color\": \"#2a3f5f\"}, \"marker\": {\"line\": {\"color\": \"#E5ECF6\", \"width\": 0.5}}, \"type\": \"bar\"}], \"barpolar\": [{\"marker\": {\"line\": {\"color\": \"#E5ECF6\", \"width\": 0.5}}, \"type\": \"barpolar\"}], \"carpet\": [{\"aaxis\": {\"endlinecolor\": \"#2a3f5f\", \"gridcolor\": \"white\", \"linecolor\": \"white\", \"minorgridcolor\": \"white\", \"startlinecolor\": \"#2a3f5f\"}, \"baxis\": {\"endlinecolor\": \"#2a3f5f\", \"gridcolor\": \"white\", \"linecolor\": \"white\", \"minorgridcolor\": \"white\", \"startlinecolor\": \"#2a3f5f\"}, \"type\": \"carpet\"}], \"choropleth\": [{\"colorbar\": {\"outlinewidth\": 0, \"ticks\": \"\"}, \"type\": \"choropleth\"}], \"contour\": [{\"colorbar\": {\"outlinewidth\": 0, \"ticks\": \"\"}, \"colorscale\": [[0.0, \"#0d0887\"], [0.1111111111111111, \"#46039f\"], [0.2222222222222222, \"#7201a8\"], [0.3333333333333333, \"#9c179e\"], [0.4444444444444444, \"#bd3786\"], [0.5555555555555556, \"#d8576b\"], [0.6666666666666666, \"#ed7953\"], [0.7777777777777778, \"#fb9f3a\"], [0.8888888888888888, \"#fdca26\"], [1.0, \"#f0f921\"]], \"type\": \"contour\"}], \"contourcarpet\": [{\"colorbar\": {\"outlinewidth\": 0, \"ticks\": \"\"}, \"type\": \"contourcarpet\"}], \"heatmap\": [{\"colorbar\": {\"outlinewidth\": 0, \"ticks\": \"\"}, \"colorscale\": [[0.0, \"#0d0887\"], [0.1111111111111111, \"#46039f\"], [0.2222222222222222, \"#7201a8\"], [0.3333333333333333, \"#9c179e\"], [0.4444444444444444, \"#bd3786\"], [0.5555555555555556, \"#d8576b\"], [0.6666666666666666, \"#ed7953\"], [0.7777777777777778, \"#fb9f3a\"], [0.8888888888888888, \"#fdca26\"], [1.0, \"#f0f921\"]], \"type\": \"heatmap\"}], \"heatmapgl\": [{\"colorbar\": {\"outlinewidth\": 0, \"ticks\": \"\"}, \"colorscale\": [[0.0, \"#0d0887\"], [0.1111111111111111, \"#46039f\"], [0.2222222222222222, \"#7201a8\"], [0.3333333333333333, \"#9c179e\"], [0.4444444444444444, \"#bd3786\"], [0.5555555555555556, \"#d8576b\"], [0.6666666666666666, \"#ed7953\"], [0.7777777777777778, \"#fb9f3a\"], [0.8888888888888888, \"#fdca26\"], [1.0, \"#f0f921\"]], \"type\": \"heatmapgl\"}], \"histogram\": [{\"marker\": {\"colorbar\": {\"outlinewidth\": 0, \"ticks\": \"\"}}, \"type\": \"histogram\"}], \"histogram2d\": [{\"colorbar\": {\"outlinewidth\": 0, \"ticks\": \"\"}, \"colorscale\": [[0.0, \"#0d0887\"], [0.1111111111111111, \"#46039f\"], [0.2222222222222222, \"#7201a8\"], [0.3333333333333333, \"#9c179e\"], [0.4444444444444444, \"#bd3786\"], [0.5555555555555556, \"#d8576b\"], [0.6666666666666666, \"#ed7953\"], [0.7777777777777778, \"#fb9f3a\"], [0.8888888888888888, \"#fdca26\"], [1.0, \"#f0f921\"]], \"type\": \"histogram2d\"}], \"histogram2dcontour\": [{\"colorbar\": {\"outlinewidth\": 0, \"ticks\": \"\"}, \"colorscale\": [[0.0, \"#0d0887\"], [0.1111111111111111, \"#46039f\"], [0.2222222222222222, \"#7201a8\"], [0.3333333333333333, \"#9c179e\"], [0.4444444444444444, \"#bd3786\"], [0.5555555555555556, \"#d8576b\"], [0.6666666666666666, \"#ed7953\"], [0.7777777777777778, \"#fb9f3a\"], [0.8888888888888888, \"#fdca26\"], [1.0, \"#f0f921\"]], \"type\": \"histogram2dcontour\"}], \"mesh3d\": [{\"colorbar\": {\"outlinewidth\": 0, \"ticks\": \"\"}, \"type\": \"mesh3d\"}], \"parcoords\": [{\"line\": {\"colorbar\": {\"outlinewidth\": 0, \"ticks\": \"\"}}, \"type\": \"parcoords\"}], \"pie\": [{\"automargin\": true, \"type\": \"pie\"}], \"scatter\": [{\"marker\": {\"colorbar\": {\"outlinewidth\": 0, \"ticks\": \"\"}}, \"type\": \"scatter\"}], \"scatter3d\": [{\"line\": {\"colorbar\": {\"outlinewidth\": 0, \"ticks\": \"\"}}, \"marker\": {\"colorbar\": {\"outlinewidth\": 0, \"ticks\": \"\"}}, \"type\": \"scatter3d\"}], \"scattercarpet\": [{\"marker\": {\"colorbar\": {\"outlinewidth\": 0, \"ticks\": \"\"}}, \"type\": \"scattercarpet\"}], \"scattergeo\": [{\"marker\": {\"colorbar\": {\"outlinewidth\": 0, \"ticks\": \"\"}}, \"type\": \"scattergeo\"}], \"scattergl\": [{\"marker\": {\"colorbar\": {\"outlinewidth\": 0, \"ticks\": \"\"}}, \"type\": \"scattergl\"}], \"scattermapbox\": [{\"marker\": {\"colorbar\": {\"outlinewidth\": 0, \"ticks\": \"\"}}, \"type\": \"scattermapbox\"}], \"scatterpolar\": [{\"marker\": {\"colorbar\": {\"outlinewidth\": 0, \"ticks\": \"\"}}, \"type\": \"scatterpolar\"}], \"scatterpolargl\": [{\"marker\": {\"colorbar\": {\"outlinewidth\": 0, \"ticks\": \"\"}}, \"type\": \"scatterpolargl\"}], \"scatterternary\": [{\"marker\": {\"colorbar\": {\"outlinewidth\": 0, \"ticks\": \"\"}}, \"type\": \"scatterternary\"}], \"surface\": [{\"colorbar\": {\"outlinewidth\": 0, \"ticks\": \"\"}, \"colorscale\": [[0.0, \"#0d0887\"], [0.1111111111111111, \"#46039f\"], [0.2222222222222222, \"#7201a8\"], [0.3333333333333333, \"#9c179e\"], [0.4444444444444444, \"#bd3786\"], [0.5555555555555556, \"#d8576b\"], [0.6666666666666666, \"#ed7953\"], [0.7777777777777778, \"#fb9f3a\"], [0.8888888888888888, \"#fdca26\"], [1.0, \"#f0f921\"]], \"type\": \"surface\"}], \"table\": [{\"cells\": {\"fill\": {\"color\": \"#EBF0F8\"}, \"line\": {\"color\": \"white\"}}, \"header\": {\"fill\": {\"color\": \"#C8D4E3\"}, \"line\": {\"color\": \"white\"}}, \"type\": \"table\"}]}, \"layout\": {\"annotationdefaults\": {\"arrowcolor\": \"#2a3f5f\", \"arrowhead\": 0, \"arrowwidth\": 1}, \"coloraxis\": {\"colorbar\": {\"outlinewidth\": 0, \"ticks\": \"\"}}, \"colorscale\": {\"diverging\": [[0, \"#8e0152\"], [0.1, \"#c51b7d\"], [0.2, \"#de77ae\"], [0.3, \"#f1b6da\"], [0.4, \"#fde0ef\"], [0.5, \"#f7f7f7\"], [0.6, \"#e6f5d0\"], [0.7, \"#b8e186\"], [0.8, \"#7fbc41\"], [0.9, \"#4d9221\"], [1, \"#276419\"]], \"sequential\": [[0.0, \"#0d0887\"], [0.1111111111111111, \"#46039f\"], [0.2222222222222222, \"#7201a8\"], [0.3333333333333333, \"#9c179e\"], [0.4444444444444444, \"#bd3786\"], [0.5555555555555556, \"#d8576b\"], [0.6666666666666666, \"#ed7953\"], [0.7777777777777778, \"#fb9f3a\"], [0.8888888888888888, \"#fdca26\"], [1.0, \"#f0f921\"]], \"sequentialminus\": [[0.0, \"#0d0887\"], [0.1111111111111111, \"#46039f\"], [0.2222222222222222, \"#7201a8\"], [0.3333333333333333, \"#9c179e\"], [0.4444444444444444, \"#bd3786\"], [0.5555555555555556, \"#d8576b\"], [0.6666666666666666, \"#ed7953\"], [0.7777777777777778, \"#fb9f3a\"], [0.8888888888888888, \"#fdca26\"], [1.0, \"#f0f921\"]]}, \"colorway\": [\"#636efa\", \"#EF553B\", \"#00cc96\", \"#ab63fa\", \"#FFA15A\", \"#19d3f3\", \"#FF6692\", \"#B6E880\", \"#FF97FF\", \"#FECB52\"], \"font\": {\"color\": \"#2a3f5f\"}, \"geo\": {\"bgcolor\": \"white\", \"lakecolor\": \"white\", \"landcolor\": \"#E5ECF6\", \"showlakes\": true, \"showland\": true, \"subunitcolor\": \"white\"}, \"hoverlabel\": {\"align\": \"left\"}, \"hovermode\": \"closest\", \"mapbox\": {\"style\": \"light\"}, \"paper_bgcolor\": \"white\", \"plot_bgcolor\": \"#E5ECF6\", \"polar\": {\"angularaxis\": {\"gridcolor\": \"white\", \"linecolor\": \"white\", \"ticks\": \"\"}, \"bgcolor\": \"#E5ECF6\", \"radialaxis\": {\"gridcolor\": \"white\", \"linecolor\": \"white\", \"ticks\": \"\"}}, \"scene\": {\"xaxis\": {\"backgroundcolor\": \"#E5ECF6\", \"gridcolor\": \"white\", \"gridwidth\": 2, \"linecolor\": \"white\", \"showbackground\": true, \"ticks\": \"\", \"zerolinecolor\": \"white\"}, \"yaxis\": {\"backgroundcolor\": \"#E5ECF6\", \"gridcolor\": \"white\", \"gridwidth\": 2, \"linecolor\": \"white\", \"showbackground\": true, \"ticks\": \"\", \"zerolinecolor\": \"white\"}, \"zaxis\": {\"backgroundcolor\": \"#E5ECF6\", \"gridcolor\": \"white\", \"gridwidth\": 2, \"linecolor\": \"white\", \"showbackground\": true, \"ticks\": \"\", \"zerolinecolor\": \"white\"}}, \"shapedefaults\": {\"line\": {\"color\": \"#2a3f5f\"}}, \"ternary\": {\"aaxis\": {\"gridcolor\": \"white\", \"linecolor\": \"white\", \"ticks\": \"\"}, \"baxis\": {\"gridcolor\": \"white\", \"linecolor\": \"white\", \"ticks\": \"\"}, \"bgcolor\": \"#E5ECF6\", \"caxis\": {\"gridcolor\": \"white\", \"linecolor\": \"white\", \"ticks\": \"\"}}, \"title\": {\"x\": 0.05}, \"xaxis\": {\"automargin\": true, \"gridcolor\": \"white\", \"linecolor\": \"white\", \"ticks\": \"\", \"title\": {\"standoff\": 15}, \"zerolinecolor\": \"white\", \"zerolinewidth\": 2}, \"yaxis\": {\"automargin\": true, \"gridcolor\": \"white\", \"linecolor\": \"white\", \"ticks\": \"\", \"title\": {\"standoff\": 15}, \"zerolinecolor\": \"white\", \"zerolinewidth\": 2}}}, \"title\": {\"text\": \"\\u0420\\u0430\\u0441\\u043f\\u0440\\u0435\\u0434\\u0435\\u043b\\u0435\\u043d\\u0438\\u0435 \\u043f\\u043e \\u0433\\u0435\\u043d\\u0434\\u0435\\u0440\\u043d\\u044b\\u043c \\u043f\\u0440\\u0438\\u0437\\u043d\\u0430\\u043a\\u0430\\u043c \\u0443\\u0448\\u0435\\u0434\\u0448\\u0438\\u0445 \\u0438 \\u043e\\u0441\\u0442\\u0430\\u0432\\u0448\\u0438\\u0445\\u0441\\u044f \\u043f\\u043e\\u043b\\u044c\\u0437\\u043e\\u0432\\u0430\\u0442\\u0435\\u043b\\u0435\\u0439\"}},\n",
       "                        {\"responsive\": true}\n",
       "                    ).then(function(){\n",
       "                            \n",
       "var gd = document.getElementById('50ffd8e4-5933-4c00-b0c1-dc5162b298e5');\n",
       "var x = new MutationObserver(function (mutations, observer) {{\n",
       "        var display = window.getComputedStyle(gd).display;\n",
       "        if (!display || display === 'none') {{\n",
       "            console.log([gd, 'removed!']);\n",
       "            Plotly.purge(gd);\n",
       "            observer.disconnect();\n",
       "        }}\n",
       "}});\n",
       "\n",
       "// Listen for the removal of the full notebook cells\n",
       "var notebookContainer = gd.closest('#notebook-container');\n",
       "if (notebookContainer) {{\n",
       "    x.observe(notebookContainer, {childList: true});\n",
       "}}\n",
       "\n",
       "// Listen for the clearing of the current output cell\n",
       "var outputEl = gd.closest('.output');\n",
       "if (outputEl) {{\n",
       "    x.observe(outputEl, {childList: true});\n",
       "}}\n",
       "\n",
       "                        })\n",
       "                };\n",
       "                });\n",
       "            </script>\n",
       "        </div>"
      ]
     },
     "metadata": {},
     "output_type": "display_data"
    }
   ],
   "source": [
    "colors = ['rgb(33, 75, 99)', 'rgb(151, 179, 100)']\n",
    "column1 = [3404, 1139]\n",
    "column2 = [4559, 898]\n",
    "\n",
    "data = ['stayed', 'lost']\n",
    "\n",
    "\n",
    "fig = make_subplots(1, 2, specs=[[{'type':'domain'}, {'type':'domain'}]],\n",
    "                    subplot_titles=['Женщины', 'Мужчины'])\n",
    "fig.add_trace(go.Pie(labels= data, values=column1,\n",
    "                     name=\"Ж\", marker_colors=colors), 1, 1)\n",
    "fig.add_trace(go.Pie(labels= data, values= column2,\n",
    "                     name=\"М\", marker_colors=colors), 1, 2)\n",
    "\n",
    "\n",
    "fig.update_layout(title_text='Распределение по гендерным признакам ушедших и оставшихся пользователей')\n",
    "fig.show()"
   ]
  },
  {
   "cell_type": "markdown",
   "metadata": {},
   "source": [
    "## Вывод: \n",
    "\n",
    "Анализ показывает, что женщины уходят из банка чаще. Конечно, это может быть связано с уровнем дохода, попытаемся это проверить."
   ]
  },
  {
   "cell_type": "code",
   "execution_count": 241,
   "metadata": {},
   "outputs": [],
   "source": [
    "man = df.query('gender == \"М\"')\n",
    "woman = df.query('gender == \"Ж\"')"
   ]
  },
  {
   "cell_type": "markdown",
   "metadata": {},
   "source": [
    "Посмотрим на сводные таблицы отдельно по каждому полу. Попытаемся найти какие-то признаки, которые нам дадут понять, почему именно женщины уходят из банка чаще. Сравним по показателям дохода, наличию кредитных карты, объектов недвижимости и кредитного рейтинга."
   ]
  },
  {
   "cell_type": "code",
   "execution_count": 242,
   "metadata": {},
   "outputs": [
    {
     "data": {
      "text/html": [
       "<div>\n",
       "<style scoped>\n",
       "    .dataframe tbody tr th:only-of-type {\n",
       "        vertical-align: middle;\n",
       "    }\n",
       "\n",
       "    .dataframe tbody tr th {\n",
       "        vertical-align: top;\n",
       "    }\n",
       "\n",
       "    .dataframe thead th {\n",
       "        text-align: right;\n",
       "    }\n",
       "</style>\n",
       "<table border=\"1\" class=\"dataframe\">\n",
       "  <thead>\n",
       "    <tr style=\"text-align: right;\">\n",
       "      <th></th>\n",
       "      <th>age</th>\n",
       "      <th>creditcard</th>\n",
       "      <th>estimated_salary</th>\n",
       "      <th>objects</th>\n",
       "      <th>score</th>\n",
       "    </tr>\n",
       "    <tr>\n",
       "      <th>churn</th>\n",
       "      <th></th>\n",
       "      <th></th>\n",
       "      <th></th>\n",
       "      <th></th>\n",
       "      <th></th>\n",
       "    </tr>\n",
       "  </thead>\n",
       "  <tbody>\n",
       "    <tr>\n",
       "      <td>0</td>\n",
       "      <td>37.43</td>\n",
       "      <td>0.71</td>\n",
       "      <td>99680.38</td>\n",
       "      <td>5.08</td>\n",
       "      <td>651.63</td>\n",
       "    </tr>\n",
       "    <tr>\n",
       "      <td>1</td>\n",
       "      <td>44.91</td>\n",
       "      <td>0.70</td>\n",
       "      <td>99584.29</td>\n",
       "      <td>4.93</td>\n",
       "      <td>643.41</td>\n",
       "    </tr>\n",
       "  </tbody>\n",
       "</table>\n",
       "</div>"
      ],
      "text/plain": [
       "         age  creditcard  estimated_salary  objects   score\n",
       "churn                                                      \n",
       "0      37.43        0.71          99680.38     5.08  651.63\n",
       "1      44.91        0.70          99584.29     4.93  643.41"
      ]
     },
     "execution_count": 242,
     "metadata": {},
     "output_type": "execute_result"
    }
   ],
   "source": [
    "round(man.pivot_table(index = 'churn', values = ('estimated_salary', 'age', 'score', 'creditcard', 'objects'), aggfunc = 'mean'), 2)"
   ]
  },
  {
   "cell_type": "code",
   "execution_count": 243,
   "metadata": {},
   "outputs": [
    {
     "data": {
      "text/html": [
       "<div>\n",
       "<style scoped>\n",
       "    .dataframe tbody tr th:only-of-type {\n",
       "        vertical-align: middle;\n",
       "    }\n",
       "\n",
       "    .dataframe tbody tr th {\n",
       "        vertical-align: top;\n",
       "    }\n",
       "\n",
       "    .dataframe thead th {\n",
       "        text-align: right;\n",
       "    }\n",
       "</style>\n",
       "<table border=\"1\" class=\"dataframe\">\n",
       "  <thead>\n",
       "    <tr style=\"text-align: right;\">\n",
       "      <th></th>\n",
       "      <th>age</th>\n",
       "      <th>creditcard</th>\n",
       "      <th>estimated_salary</th>\n",
       "      <th>objects</th>\n",
       "      <th>score</th>\n",
       "    </tr>\n",
       "    <tr>\n",
       "      <th>churn</th>\n",
       "      <th></th>\n",
       "      <th></th>\n",
       "      <th></th>\n",
       "      <th></th>\n",
       "      <th></th>\n",
       "    </tr>\n",
       "  </thead>\n",
       "  <tbody>\n",
       "    <tr>\n",
       "      <td>0</td>\n",
       "      <td>37.38</td>\n",
       "      <td>0.7</td>\n",
       "      <td>99816.07</td>\n",
       "      <td>4.98</td>\n",
       "      <td>652.15</td>\n",
       "    </tr>\n",
       "    <tr>\n",
       "      <td>1</td>\n",
       "      <td>44.78</td>\n",
       "      <td>0.7</td>\n",
       "      <td>102949.00</td>\n",
       "      <td>4.93</td>\n",
       "      <td>646.88</td>\n",
       "    </tr>\n",
       "  </tbody>\n",
       "</table>\n",
       "</div>"
      ],
      "text/plain": [
       "         age  creditcard  estimated_salary  objects   score\n",
       "churn                                                      \n",
       "0      37.38         0.7          99816.07     4.98  652.15\n",
       "1      44.78         0.7         102949.00     4.93  646.88"
      ]
     },
     "execution_count": 243,
     "metadata": {},
     "output_type": "execute_result"
    }
   ],
   "source": [
    "round(woman.pivot_table(index = 'churn', values = ('estimated_salary', 'age', 'score', 'creditcard', 'objects'), aggfunc = 'mean'), 2)"
   ]
  },
  {
   "cell_type": "markdown",
   "metadata": {},
   "source": [
    "Как мы видими, средние показатели что у мужчин, что у женщин примерно одинаковые и нет каких-либо серьезных отличий. В связи с этим, можно сделать вывод, что надо искать причину вне предоставленых данных."
   ]
  },
  {
   "cell_type": "markdown",
   "metadata": {},
   "source": [
    "## Вывод: \n",
    "\n",
    "На основе полученных графиков мы можем сформировать приблизительный портрет клиентов, которые склонны уходить из банка:\n",
    "\n",
    "    1) Возраст от 40-50\n",
    "    2) Чаще всего не пользуются 2 продуктами\n",
    "    3) В основном из Ростова Великого\n",
    "    4) Преимущественно женщины."
   ]
  },
  {
   "cell_type": "markdown",
   "metadata": {},
   "source": [
    "<a id=\"step9\"></a> По имеющимся критериям сделаем срез из действующих клиентов найдем тех, кто может совсем скоро уйти. Обязательно будем учитывать параметр Loyality. "
   ]
  },
  {
   "cell_type": "code",
   "execution_count": 244,
   "metadata": {},
   "outputs": [
    {
     "name": "stdout",
     "output_type": "stream",
     "text": [
      "Количество оставшихся клиентов всего : 7963\n"
     ]
    }
   ],
   "source": [
    "print(\"Количество оставшихся клиентов всего :\", len(stayed))"
   ]
  },
  {
   "cell_type": "code",
   "execution_count": 245,
   "metadata": {},
   "outputs": [],
   "source": [
    "attention = stayed.query('age > 40 & products != 2 & city == \"Ростов Великий\" & loyalty == 0 & gender == \"Ж\"')"
   ]
  },
  {
   "cell_type": "code",
   "execution_count": 246,
   "metadata": {},
   "outputs": [
    {
     "data": {
      "text/html": [
       "<div>\n",
       "<style scoped>\n",
       "    .dataframe tbody tr th:only-of-type {\n",
       "        vertical-align: middle;\n",
       "    }\n",
       "\n",
       "    .dataframe tbody tr th {\n",
       "        vertical-align: top;\n",
       "    }\n",
       "\n",
       "    .dataframe thead th {\n",
       "        text-align: right;\n",
       "    }\n",
       "</style>\n",
       "<table border=\"1\" class=\"dataframe\">\n",
       "  <thead>\n",
       "    <tr style=\"text-align: right;\">\n",
       "      <th></th>\n",
       "      <th>userid</th>\n",
       "      <th>score</th>\n",
       "      <th>city</th>\n",
       "      <th>gender</th>\n",
       "      <th>age</th>\n",
       "      <th>objects</th>\n",
       "      <th>balance</th>\n",
       "      <th>products</th>\n",
       "      <th>creditcard</th>\n",
       "      <th>loyalty</th>\n",
       "      <th>estimated_salary</th>\n",
       "      <th>churn</th>\n",
       "      <th>category</th>\n",
       "    </tr>\n",
       "  </thead>\n",
       "  <tbody>\n",
       "    <tr>\n",
       "      <td>313</td>\n",
       "      <td>15840696</td>\n",
       "      <td>806</td>\n",
       "      <td>Ростов Великий</td>\n",
       "      <td>Ж</td>\n",
       "      <td>59</td>\n",
       "      <td>0</td>\n",
       "      <td>135296</td>\n",
       "      <td>1</td>\n",
       "      <td>1</td>\n",
       "      <td>0</td>\n",
       "      <td>182822</td>\n",
       "      <td>0</td>\n",
       "      <td>взрослые</td>\n",
       "    </tr>\n",
       "    <tr>\n",
       "      <td>409</td>\n",
       "      <td>15734361</td>\n",
       "      <td>537</td>\n",
       "      <td>Ростов Великий</td>\n",
       "      <td>Ж</td>\n",
       "      <td>41</td>\n",
       "      <td>3</td>\n",
       "      <td>138306</td>\n",
       "      <td>1</td>\n",
       "      <td>1</td>\n",
       "      <td>0</td>\n",
       "      <td>106761</td>\n",
       "      <td>0</td>\n",
       "      <td>взрослые</td>\n",
       "    </tr>\n",
       "    <tr>\n",
       "      <td>595</td>\n",
       "      <td>15723706</td>\n",
       "      <td>611</td>\n",
       "      <td>Ростов Великий</td>\n",
       "      <td>Ж</td>\n",
       "      <td>41</td>\n",
       "      <td>2</td>\n",
       "      <td>114207</td>\n",
       "      <td>1</td>\n",
       "      <td>1</td>\n",
       "      <td>0</td>\n",
       "      <td>164062</td>\n",
       "      <td>0</td>\n",
       "      <td>взрослые</td>\n",
       "    </tr>\n",
       "    <tr>\n",
       "      <td>609</td>\n",
       "      <td>15629321</td>\n",
       "      <td>698</td>\n",
       "      <td>Ростов Великий</td>\n",
       "      <td>Ж</td>\n",
       "      <td>51</td>\n",
       "      <td>2</td>\n",
       "      <td>111019</td>\n",
       "      <td>1</td>\n",
       "      <td>1</td>\n",
       "      <td>0</td>\n",
       "      <td>86410</td>\n",
       "      <td>0</td>\n",
       "      <td>взрослые</td>\n",
       "    </tr>\n",
       "    <tr>\n",
       "      <td>751</td>\n",
       "      <td>15676981</td>\n",
       "      <td>758</td>\n",
       "      <td>Ростов Великий</td>\n",
       "      <td>Ж</td>\n",
       "      <td>47</td>\n",
       "      <td>9</td>\n",
       "      <td>95523</td>\n",
       "      <td>1</td>\n",
       "      <td>1</td>\n",
       "      <td>0</td>\n",
       "      <td>73294</td>\n",
       "      <td>0</td>\n",
       "      <td>взрослые</td>\n",
       "    </tr>\n",
       "    <tr>\n",
       "      <td>792</td>\n",
       "      <td>15750209</td>\n",
       "      <td>850</td>\n",
       "      <td>Ростов Великий</td>\n",
       "      <td>Ж</td>\n",
       "      <td>48</td>\n",
       "      <td>6</td>\n",
       "      <td>111963</td>\n",
       "      <td>1</td>\n",
       "      <td>1</td>\n",
       "      <td>0</td>\n",
       "      <td>111756</td>\n",
       "      <td>0</td>\n",
       "      <td>взрослые</td>\n",
       "    </tr>\n",
       "    <tr>\n",
       "      <td>1507</td>\n",
       "      <td>15620010</td>\n",
       "      <td>549</td>\n",
       "      <td>Ростов Великий</td>\n",
       "      <td>Ж</td>\n",
       "      <td>43</td>\n",
       "      <td>3</td>\n",
       "      <td>134986</td>\n",
       "      <td>1</td>\n",
       "      <td>1</td>\n",
       "      <td>0</td>\n",
       "      <td>6101</td>\n",
       "      <td>0</td>\n",
       "      <td>взрослые</td>\n",
       "    </tr>\n",
       "    <tr>\n",
       "      <td>1560</td>\n",
       "      <td>15677017</td>\n",
       "      <td>720</td>\n",
       "      <td>Ростов Великий</td>\n",
       "      <td>Ж</td>\n",
       "      <td>43</td>\n",
       "      <td>10</td>\n",
       "      <td>110823</td>\n",
       "      <td>1</td>\n",
       "      <td>0</td>\n",
       "      <td>0</td>\n",
       "      <td>72862</td>\n",
       "      <td>0</td>\n",
       "      <td>взрослые</td>\n",
       "    </tr>\n",
       "    <tr>\n",
       "      <td>1645</td>\n",
       "      <td>15642846</td>\n",
       "      <td>506</td>\n",
       "      <td>Ростов Великий</td>\n",
       "      <td>Ж</td>\n",
       "      <td>41</td>\n",
       "      <td>3</td>\n",
       "      <td>57746</td>\n",
       "      <td>1</td>\n",
       "      <td>1</td>\n",
       "      <td>0</td>\n",
       "      <td>4035</td>\n",
       "      <td>0</td>\n",
       "      <td>взрослые</td>\n",
       "    </tr>\n",
       "    <tr>\n",
       "      <td>1752</td>\n",
       "      <td>15767202</td>\n",
       "      <td>744</td>\n",
       "      <td>Ростов Великий</td>\n",
       "      <td>Ж</td>\n",
       "      <td>41</td>\n",
       "      <td>2</td>\n",
       "      <td>84113</td>\n",
       "      <td>1</td>\n",
       "      <td>1</td>\n",
       "      <td>0</td>\n",
       "      <td>197549</td>\n",
       "      <td>0</td>\n",
       "      <td>взрослые</td>\n",
       "    </tr>\n",
       "  </tbody>\n",
       "</table>\n",
       "</div>"
      ],
      "text/plain": [
       "        userid  score            city gender  age  objects  balance  products  \\\n",
       "313   15840696    806  Ростов Великий      Ж   59        0   135296         1   \n",
       "409   15734361    537  Ростов Великий      Ж   41        3   138306         1   \n",
       "595   15723706    611  Ростов Великий      Ж   41        2   114207         1   \n",
       "609   15629321    698  Ростов Великий      Ж   51        2   111019         1   \n",
       "751   15676981    758  Ростов Великий      Ж   47        9    95523         1   \n",
       "792   15750209    850  Ростов Великий      Ж   48        6   111963         1   \n",
       "1507  15620010    549  Ростов Великий      Ж   43        3   134986         1   \n",
       "1560  15677017    720  Ростов Великий      Ж   43       10   110823         1   \n",
       "1645  15642846    506  Ростов Великий      Ж   41        3    57746         1   \n",
       "1752  15767202    744  Ростов Великий      Ж   41        2    84113         1   \n",
       "\n",
       "      creditcard  loyalty  estimated_salary  churn  category  \n",
       "313            1        0            182822      0  взрослые  \n",
       "409            1        0            106761      0  взрослые  \n",
       "595            1        0            164062      0  взрослые  \n",
       "609            1        0             86410      0  взрослые  \n",
       "751            1        0             73294      0  взрослые  \n",
       "792            1        0            111756      0  взрослые  \n",
       "1507           1        0              6101      0  взрослые  \n",
       "1560           0        0             72862      0  взрослые  \n",
       "1645           1        0              4035      0  взрослые  \n",
       "1752           1        0            197549      0  взрослые  "
      ]
     },
     "execution_count": 246,
     "metadata": {},
     "output_type": "execute_result"
    }
   ],
   "source": [
    "attention.head(10)"
   ]
  },
  {
   "cell_type": "code",
   "execution_count": 247,
   "metadata": {},
   "outputs": [
    {
     "name": "stdout",
     "output_type": "stream",
     "text": [
      "Количество оставшихся клиентов в зоне риска : 44\n"
     ]
    }
   ],
   "source": [
    "print(\"Количество оставшихся клиентов в зоне риска :\", len(attention))"
   ]
  },
  {
   "cell_type": "code",
   "execution_count": 248,
   "metadata": {},
   "outputs": [
    {
     "name": "stdout",
     "output_type": "stream",
     "text": [
      "Процент возможных отпадов : 0.01\n"
     ]
    }
   ],
   "source": [
    "print(\"Процент возможных отпадов :\", round(len(attention)/len(stayed), 2))"
   ]
  },
  {
   "cell_type": "markdown",
   "metadata": {},
   "source": [
    "## Вывод: \n",
    "\n",
    "По самым грубым подсчетам мы пришли к выводу, что у нас 1% клиентов находятся в красной зоне риска и могут совсем скоро уйти.\n"
   ]
  },
  {
   "cell_type": "markdown",
   "metadata": {},
   "source": [
    "## Шаг №4. Формулировка и проверка статистических Гипотез на основе данных <a id=\"step10\"></a> \n",
    " * Доход у ушедших и оставшихся клиентов банка одинаков?"
   ]
  },
  {
   "cell_type": "markdown",
   "metadata": {},
   "source": [
    "Сформируем гипотезы для проверки равенства доходов оставшихся и ушедших клиентов при помощи метода st.ttest_ind(): - поскольку выборки у нас будут приниматься разные. "
   ]
  },
  {
   "cell_type": "markdown",
   "metadata": {},
   "source": [
    "* Нулевая гипотеза - Доходы равны. \n",
    "* Альтернативная гипотеза - Доходы различаются."
   ]
  },
  {
   "cell_type": "code",
   "execution_count": 249,
   "metadata": {},
   "outputs": [],
   "source": [
    "ushli = lost['estimated_salary']\n",
    "ostalis = stayed['estimated_salary']"
   ]
  },
  {
   "cell_type": "code",
   "execution_count": 250,
   "metadata": {},
   "outputs": [
    {
     "name": "stdout",
     "output_type": "stream",
     "text": [
      "p-значение по балансу:  0.22892180164065798\n",
      "Не получилось отвергнуть нулевую гипотезу о равенстве\n"
     ]
    }
   ],
   "source": [
    "alpha = .05\n",
    "\n",
    "results = st.ttest_ind(\n",
    "    ushli , \n",
    "    ostalis, equal_var = False)\n",
    "\n",
    "print('p-значение по балансу: ', results.pvalue)\n",
    "\n",
    "if (results.pvalue < alpha):\n",
    "    print(\"Отвергаем нулевую гипотезу о равенстве\")\n",
    "else:\n",
    "    print(\"Не получилось отвергнуть нулевую гипотезу о равенстве\")"
   ]
  },
  {
   "cell_type": "markdown",
   "metadata": {},
   "source": [
    "## Вывод: \n",
    "\n",
    "Итоговое значение p-value говорит о том, что доходы рейтинги у оставшихся и ушедших пользователей примерно одинаковы. Можем сделать вывод, что нулевую гипотезу не получилось отвергнуть."
   ]
  },
  {
   "cell_type": "markdown",
   "metadata": {},
   "source": [
    "# Итоговый Вывод:  <a id=\"step11\"></a>"
   ]
  },
  {
   "cell_type": "markdown",
   "metadata": {},
   "source": [
    "Мы проанализировали даннные и пришли к следующим заметкам потрета людей, которые склонны уходить из банка. : \n",
    "\n",
    "* Взрослая аудитория в возрасте 40-50 лет чаще других перестает пользоваться услугами банка. \n",
    "* Пользователи, которые еще работают с банком предпочитают пользоваться двумя продуктами банка.\n",
    "* В области, а в частности Ростове, необходимо проводить рекламную компанию и придумывать как поднять имидж и превлакательность банка. Больше всего пользователей отказываются от банка именно в Ростове. Может быть персонал отделений их не устраивает. Стоит на это тоже обратить внимание.\n",
    "* Есть странная особенность, что при равных условиях женщины покидают банк чаще мужчин.\n",
    "\n",
    "\n",
    "Среди оставшихся клиентов по грубых подсчетам можем скоро потерять минимум 1% базы."
   ]
  },
  {
   "cell_type": "markdown",
   "metadata": {},
   "source": [
    "<a id=\"step13\"></a>В связи с этим есть небольшие рекомендации по проведенному анализу:\n",
    "\n",
    "Что касается качества данных, необходимо сообщить, что имеется порядка 30 % пропусков в колонке `balance` по городам Рыбинск и Ярославль.\n",
    "Маркетологам больше обращать внимание аудиторию за 40 и стараться удерживать их заманчивыми предложениями. Необходимо собрать больше данных чтобы понять, почему среди ушедших больше женщин. "
   ]
  },
  {
   "cell_type": "code",
   "execution_count": null,
   "metadata": {},
   "outputs": [],
   "source": []
  }
 ],
 "metadata": {
  "kernelspec": {
   "display_name": "Python 3",
   "language": "python",
   "name": "python3"
  },
  "language_info": {
   "codemirror_mode": {
    "name": "ipython",
    "version": 3
   },
   "file_extension": ".py",
   "mimetype": "text/x-python",
   "name": "python",
   "nbconvert_exporter": "python",
   "pygments_lexer": "ipython3",
   "version": "3.7.4"
  }
 },
 "nbformat": 4,
 "nbformat_minor": 2
}
